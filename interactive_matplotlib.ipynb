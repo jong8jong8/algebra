{
 "cells": [
  {
   "cell_type": "code",
   "execution_count": 1,
   "id": "028625f2-30ea-4f79-a432-9740f2fad833",
   "metadata": {},
   "outputs": [],
   "source": [
    "%matplotlib widget\n",
    "import matplotlib.pyplot as plt"
   ]
  },
  {
   "cell_type": "code",
   "execution_count": 2,
   "id": "cd6bb579-ab94-4ac9-b548-4890f8330d42",
   "metadata": {},
   "outputs": [],
   "source": [
    "x_values = [1, 2, 3, 4, 5]\n",
    "y_values = [1, 4, 9, 16, 25]"
   ]
  },
  {
   "cell_type": "code",
   "execution_count": 3,
   "id": "3f72e662-281e-46a6-b4ec-a7764788e98d",
   "metadata": {},
   "outputs": [
    {
     "data": {
      "application/vnd.jupyter.widget-view+json": {
       "model_id": "e243cc0889e14f75b53043ffe7e3b90c",
       "version_major": 2,
       "version_minor": 0
      },
      "text/plain": [
       "Canvas(toolbar=Toolbar(toolitems=[('Home', 'Reset original view', 'home', 'home'), ('Back', 'Back to previous …"
      ]
     },
     "metadata": {},
     "output_type": "display_data"
    },
    {
     "data": {
      "text/plain": [
       "<matplotlib.collections.PathCollection at 0xef69d78>"
      ]
     },
     "execution_count": 3,
     "metadata": {},
     "output_type": "execute_result"
    }
   ],
   "source": [
    "plt.style.use('seaborn')\n",
    "fig, ax = plt.subplots()\n",
    "#ax.plot(x_values, y_values)\n",
    "ax.scatter(x_values, y_values)"
   ]
  },
  {
   "cell_type": "code",
   "execution_count": 4,
   "id": "5c683eb6-2422-4c4f-8cb0-bf766448644d",
   "metadata": {},
   "outputs": [],
   "source": [
    "from sympy import symbols, lambdify, real_root"
   ]
  },
  {
   "cell_type": "code",
   "execution_count": 5,
   "id": "9808349f-49fb-4cd4-a030-6e13d0b9de1f",
   "metadata": {},
   "outputs": [],
   "source": [
    "x = symbols('x', real=True)"
   ]
  },
  {
   "cell_type": "code",
   "execution_count": 6,
   "id": "642dde71-f4ea-49a1-9399-9e5ed2422500",
   "metadata": {},
   "outputs": [],
   "source": [
    "expr = real_root(x, 3)"
   ]
  },
  {
   "cell_type": "code",
   "execution_count": 7,
   "id": "8a878294-1103-4d56-9989-acde17387d00",
   "metadata": {},
   "outputs": [
    {
     "data": {
      "text/plain": [
       "-1.0"
      ]
     },
     "execution_count": 7,
     "metadata": {},
     "output_type": "execute_result"
    }
   ],
   "source": [
    "f = lambdify(x, expr, \"numpy\")\n",
    "f(-1)"
   ]
  },
  {
   "cell_type": "code",
   "execution_count": 8,
   "id": "51a00314-114c-4fb0-b928-341d61b54153",
   "metadata": {},
   "outputs": [],
   "source": [
    "import numpy as np"
   ]
  },
  {
   "cell_type": "code",
   "execution_count": 9,
   "id": "f571d1ce-5027-4124-b9e0-096ccadd597a",
   "metadata": {},
   "outputs": [],
   "source": [
    "x_range = np.arange(-10, 10, 0.1)"
   ]
  },
  {
   "cell_type": "code",
   "execution_count": 10,
   "id": "07471808-8306-48ca-88d3-74f2300bd61b",
   "metadata": {},
   "outputs": [
    {
     "data": {
      "application/vnd.jupyter.widget-view+json": {
       "model_id": "4f66a621e9bb469d8896b52907e9f29d",
       "version_major": 2,
       "version_minor": 0
      },
      "text/plain": [
       "Canvas(toolbar=Toolbar(toolitems=[('Home', 'Reset original view', 'home', 'home'), ('Back', 'Back to previous …"
      ]
     },
     "metadata": {},
     "output_type": "display_data"
    },
    {
     "data": {
      "text/plain": [
       "[<matplotlib.lines.Line2D at 0x10b83508>]"
      ]
     },
     "execution_count": 10,
     "metadata": {},
     "output_type": "execute_result"
    }
   ],
   "source": [
    "fig, ax = plt.subplots()\n",
    "plt.plot(x_range, f(x_range))"
   ]
  },
  {
   "cell_type": "code",
   "execution_count": null,
   "id": "1072114a-2fc4-4037-82f4-949467173eb6",
   "metadata": {},
   "outputs": [],
   "source": []
  }
 ],
 "metadata": {
  "kernelspec": {
   "display_name": "Python 3",
   "language": "python",
   "name": "python3"
  },
  "language_info": {
   "codemirror_mode": {
    "name": "ipython",
    "version": 3
   },
   "file_extension": ".py",
   "mimetype": "text/x-python",
   "name": "python",
   "nbconvert_exporter": "python",
   "pygments_lexer": "ipython3",
   "version": "3.8.5"
  }
 },
 "nbformat": 4,
 "nbformat_minor": 5
}
