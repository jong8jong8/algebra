{
 "cells": [
  {
   "cell_type": "code",
   "execution_count": 1,
   "id": "f79cc722-28b2-4721-804a-aa365f3b9d00",
   "metadata": {},
   "outputs": [],
   "source": [
    "%matplotlib widget\n",
    "import matplotlib.pyplot as plt\n",
    "import numpy as np"
   ]
  },
  {
   "cell_type": "code",
   "execution_count": 2,
   "id": "d283a312-7f6a-46ea-aee5-e915c6b00a5a",
   "metadata": {},
   "outputs": [],
   "source": [
    "y = [1, 4, 9, 16, 25,36,49, 64]\n",
    "x1 = [1, 16, 30, 42,55, 68, 77,88]\n",
    "x2 = [1,6,12,18,28, 40, 52, 65]"
   ]
  },
  {
   "cell_type": "code",
   "execution_count": 3,
   "id": "93315291-b285-4483-8941-6c93c46a1d7b",
   "metadata": {},
   "outputs": [
    {
     "data": {
      "application/vnd.jupyter.widget-view+json": {
       "model_id": "00249f70433e47a1a108cb28edb2b7e4",
       "version_major": 2,
       "version_minor": 0
      },
      "text/plain": [
       "Canvas(toolbar=Toolbar(toolitems=[('Home', 'Reset original view', 'home', 'home'), ('Back', 'Back to previous …"
      ]
     },
     "metadata": {},
     "output_type": "display_data"
    }
   ],
   "source": [
    "fig = plt.figure()\n",
    "ax = fig.add_axes([0,0,1,1])\n",
    "l1=ax.plot(x1,y,'ys-')\n",
    "l2=ax.plot(x2,y,'go--') \n",
    "ax.legend(labels=('tv', 'Smartphone'), loc='upper left')\n",
    "plt.savefig(\"tv.png\")"
   ]
  },
  {
   "cell_type": "code",
   "execution_count": null,
   "id": "c95c1cb8-4ee8-47e1-b507-fc7e38521e64",
   "metadata": {},
   "outputs": [],
   "source": []
  }
 ],
 "metadata": {
  "kernelspec": {
   "display_name": "Python 3",
   "language": "python",
   "name": "python3"
  },
  "language_info": {
   "codemirror_mode": {
    "name": "ipython",
    "version": 3
   },
   "file_extension": ".py",
   "mimetype": "text/x-python",
   "name": "python",
   "nbconvert_exporter": "python",
   "pygments_lexer": "ipython3",
   "version": "3.8.5"
  }
 },
 "nbformat": 4,
 "nbformat_minor": 5
}
