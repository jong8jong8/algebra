{
 "cells": [
  {
   "cell_type": "code",
   "execution_count": 1,
   "id": "58dbaace-36b6-43a3-afe6-51be6a7a1df7",
   "metadata": {},
   "outputs": [],
   "source": [
    "%matplotlib widget\n",
    "import ipywidgets as widgets\n",
    "import matplotlib.pyplot as plt\n",
    "import numpy as np"
   ]
  },
  {
   "cell_type": "code",
   "execution_count": 2,
   "id": "ea750e06-c5f1-4ac7-8a9f-868a0d44166d",
   "metadata": {},
   "outputs": [
    {
     "data": {
      "application/vnd.jupyter.widget-view+json": {
       "model_id": "3b86c1fd2fbd418cab9f62ce3e7626fb",
       "version_major": 2,
       "version_minor": 0
      },
      "text/plain": [
       "interactive(children=(Dropdown(description='name', options=('Jim', 'Emma', 'Bond'), value='Jim'), Output()), _…"
      ]
     },
     "metadata": {},
     "output_type": "display_data"
    }
   ],
   "source": [
    "def say_my_name(name):\n",
    "    \"\"\"\n",
    "    Print the current widget value in short sentence\n",
    "    \"\"\"\n",
    "    print(f'My name is {name}')\n",
    "     \n",
    "widgets.interact(say_my_name, name=[\"Jim\", \"Emma\", \"Bond\"]);"
   ]
  },
  {
   "cell_type": "code",
   "execution_count": 3,
   "id": "736c135b-e087-4b48-b5f4-389e3152c366",
   "metadata": {},
   "outputs": [
    {
     "data": {
      "application/vnd.jupyter.widget-view+json": {
       "model_id": "f3e8603652e34dab880c8c27e7e55e18",
       "version_major": 2,
       "version_minor": 0
      },
      "text/plain": [
       "interactive(children=(Dropdown(description='x', options=(0, 1, 2, 3), value=0), Output()), _dom_classes=('widg…"
      ]
     },
     "metadata": {},
     "output_type": "display_data"
    },
    {
     "data": {
      "application/vnd.jupyter.widget-view+json": {
       "model_id": "41b6ca1a132b43f4845f405f5f590117",
       "version_major": 2,
       "version_minor": 0
      },
      "text/plain": [
       "interactive(children=(IntSlider(value=5, description='x', max=10), Output()), _dom_classes=('widget-interact',…"
      ]
     },
     "metadata": {},
     "output_type": "display_data"
    },
    {
     "data": {
      "application/vnd.jupyter.widget-view+json": {
       "model_id": "b0ecb0e2ffa945fa9d3dd0c60fbfef15",
       "version_major": 2,
       "version_minor": 0
      },
      "text/plain": [
       "interactive(children=(FloatSlider(value=5.0, description='x', max=10.0, step=0.5), Output()), _dom_classes=('w…"
      ]
     },
     "metadata": {},
     "output_type": "display_data"
    },
    {
     "data": {
      "application/vnd.jupyter.widget-view+json": {
       "model_id": "236f02d8fde143febc19bb3560957aea",
       "version_major": 2,
       "version_minor": 0
      },
      "text/plain": [
       "interactive(children=(Checkbox(value=True, description='x'), Output()), _dom_classes=('widget-interact',))"
      ]
     },
     "metadata": {},
     "output_type": "display_data"
    }
   ],
   "source": [
    "def say_something(x):\n",
    "    \"\"\"\n",
    "    Print the current widget value in short sentence\n",
    "    \"\"\"\n",
    "    print(f'Widget says: {x}')\n",
    " \n",
    "widgets.interact(say_something, x=[0, 1, 2, 3])\n",
    "widgets.interact(say_something, x=(0, 10, 1))\n",
    "widgets.interact(say_something, x=(0, 10, .5))\n",
    "_ = widgets.interact(say_something, x=True)"
   ]
  },
  {
   "cell_type": "code",
   "execution_count": 4,
   "id": "2647ce70-da2d-4a30-8dd0-60effbe5f2ce",
   "metadata": {},
   "outputs": [
    {
     "data": {
      "application/vnd.jupyter.widget-view+json": {
       "model_id": "37816e15f20d46acabc70f1e548977a1",
       "version_major": 2,
       "version_minor": 0
      },
      "text/plain": [
       "interactive(children=(IntSlider(value=5, description='x', max=10), Checkbox(value=True, description='y'), Drop…"
      ]
     },
     "metadata": {},
     "output_type": "display_data"
    }
   ],
   "source": [
    "def three(x, y, z):\n",
    "    return (x, y, z)\n",
    " \n",
    "_ = widgets.interact(\n",
    "    three, \n",
    "    x=(0, 10, 1), \n",
    "    y=True, \n",
    "    z=['a', 'b', 'c']\n",
    ")"
   ]
  },
  {
   "cell_type": "code",
   "execution_count": 5,
   "id": "1cf70e2e-1679-4dbf-8207-98bbeb4a7787",
   "metadata": {},
   "outputs": [
    {
     "data": {
      "application/vnd.jupyter.widget-view+json": {
       "model_id": "ca243731b6bf454da88519d307898945",
       "version_major": 2,
       "version_minor": 0
      },
      "text/plain": [
       "interactive(children=(IntSlider(value=5, description='x', max=10), Checkbox(value=True, description='y'), Outp…"
      ]
     },
     "metadata": {},
     "output_type": "display_data"
    }
   ],
   "source": [
    "_ = widgets.interact(\n",
    "    three, \n",
    "    x=(0, 10, 1), \n",
    "    y=True, \n",
    "    z=widgets.fixed('I am fixed')\n",
    ")"
   ]
  },
  {
   "cell_type": "code",
   "execution_count": 6,
   "id": "772f53a2-2508-469d-9754-6179d4a81a0c",
   "metadata": {},
   "outputs": [
    {
     "data": {
      "application/vnd.jupyter.widget-view+json": {
       "model_id": "a0cd478b13e146669a8e8a07d5dfc16f",
       "version_major": 2,
       "version_minor": 0
      },
      "text/plain": [
       "interactive(children=(IntSlider(value=5, description='x', max=10), Output()), _dom_classes=('widget-interact',…"
      ]
     },
     "metadata": {},
     "output_type": "display_data"
    }
   ],
   "source": [
    "@widgets.interact(x=(0, 10, 1))\n",
    "def foo(x):\n",
    "    \"\"\"\n",
    "    Print the current widget value in short sentence\n",
    "    \"\"\"\n",
    "    print(f'Slider says: {x}')"
   ]
  },
  {
   "cell_type": "code",
   "execution_count": 7,
   "id": "3379ec12-9f19-4047-8b8d-cb06d3394d8a",
   "metadata": {},
   "outputs": [
    {
     "data": {
      "application/vnd.jupyter.widget-view+json": {
       "model_id": "05d3fb586b8e4a189ab11ea3032f463d",
       "version_major": 2,
       "version_minor": 0
      },
      "text/plain": [
       "Canvas(toolbar=Toolbar(toolitems=[('Home', 'Reset original view', 'home', 'home'), ('Back', 'Back to previous …"
      ]
     },
     "metadata": {},
     "output_type": "display_data"
    },
    {
     "data": {
      "application/vnd.jupyter.widget-view+json": {
       "model_id": "f1e0b9c42e6a404fa72a30d4c92d8b94",
       "version_major": 2,
       "version_minor": 0
      },
      "text/plain": [
       "interactive(children=(IntSlider(value=1, description='w', max=10), FloatSlider(value=1.0, description='amp', m…"
      ]
     },
     "metadata": {},
     "output_type": "display_data"
    }
   ],
   "source": [
    "# set up plot\n",
    "fig, ax = plt.subplots(figsize=(6, 4))\n",
    "ax.set_ylim([-4, 4])\n",
    "ax.grid(True)\n",
    " \n",
    "# generate x values\n",
    "x = np.linspace(0, 2 * np.pi, 100)\n",
    " \n",
    " \n",
    "def my_sine(x, w, amp, phi):\n",
    "    \"\"\"\n",
    "    Return a sine for x with angular frequeny w and amplitude amp.\n",
    "    \"\"\"\n",
    "    return amp*np.sin(w * (x-phi))\n",
    " \n",
    " \n",
    "@widgets.interact(w=(0, 10, 1), amp=(0, 4, .1), phi=(0, 2*np.pi+0.01, 0.01))\n",
    "def update(w = 1.0, amp=1, phi=0):\n",
    "    \"\"\"Remove old lines from plot and plot new one\"\"\"\n",
    "    [l.remove() for l in ax.lines]\n",
    "    ax.plot(x, my_sine(x, w, amp, phi), color='C0')\n"
   ]
  },
  {
   "cell_type": "code",
   "execution_count": 8,
   "id": "3c98aecf-4ea3-4757-ae1d-324907be6f05",
   "metadata": {},
   "outputs": [
    {
     "data": {
      "application/vnd.jupyter.widget-view+json": {
       "model_id": "0e26955f466f4785bca28c44c86146e0",
       "version_major": 2,
       "version_minor": 0
      },
      "text/plain": [
       "Textarea(value='Accordion\\nAppLayout\\nAudio\\nBoundedFloatText\\nBoundedIntText\\nBox\\nButton\\nButtonStyle\\nCallb…"
      ]
     },
     "metadata": {},
     "output_type": "display_data"
    }
   ],
   "source": [
    "widgets.Textarea(\n",
    "    '\\n'.join([w for w in dir(widgets) if not w.islower()]),\n",
    "    layout=widgets.Layout(height='200px')\n",
    ")"
   ]
  },
  {
   "cell_type": "code",
   "execution_count": 9,
   "id": "3e4b1bd2-2483-4f54-b9bf-ee73f2ffac2a",
   "metadata": {},
   "outputs": [
    {
     "data": {
      "application/vnd.jupyter.widget-view+json": {
       "model_id": "f36751f921d34846a7513d926ae8bfd5",
       "version_major": 2,
       "version_minor": 0
      },
      "text/plain": [
       "VBox(children=(Label(value='A label'), HTML(value='<b>Formatted</b> <font color=\"red\">html</font>'), Text(valu…"
      ]
     },
     "metadata": {},
     "output_type": "display_data"
    }
   ],
   "source": [
    "label = widgets.Label(\n",
    "    value='A label')\n",
    " \n",
    "html = widgets.HTML(\n",
    "    value='<b>Formatted</b> <font color=\"red\">html</font>', \n",
    "    description=''\n",
    ")\n",
    " \n",
    "text = widgets.Text(\n",
    "    value='A text field', \n",
    "    description='text field'\n",
    ")\n",
    " \n",
    "textarea = widgets.Textarea(\n",
    "    value='A text area for longer texts', \n",
    "    description='text area'\n",
    ")\n",
    " \n",
    "# show the three together in a VBox (vertical box container)\n",
    "widgets.VBox([label, html, text, textarea])"
   ]
  },
  {
   "cell_type": "code",
   "execution_count": 10,
   "id": "5fd11e85-649f-49f7-b25c-b76300b8a95b",
   "metadata": {},
   "outputs": [
    {
     "data": {
      "application/vnd.jupyter.widget-view+json": {
       "model_id": "e054b84463cc4b5184be20460589201a",
       "version_major": 2,
       "version_minor": 0
      },
      "text/plain": [
       "VBox(children=(IntSlider(value=5, description='slider', max=10), IntRangeSlider(value=(20, 40), description='r…"
      ]
     },
     "metadata": {},
     "output_type": "display_data"
    }
   ],
   "source": [
    "int_slider = widgets.IntSlider(\n",
    "    value=5, \n",
    "    min=0, max=10, step=1, \n",
    "    description='slider'\n",
    ")\n",
    " \n",
    "int_range_slider = widgets.IntRangeSlider(\n",
    "    value=(20, 40), \n",
    "    min=0, max=100, step=2, \n",
    "    description='range slider'\n",
    ")\n",
    " \n",
    "dropdown = widgets.Dropdown(\n",
    "    value='feb', \n",
    "    options=['jan', 'feb', 'mar', 'apr'], \n",
    "    description='dropdown'\n",
    ")\n",
    " \n",
    "radiobuttons = widgets.RadioButtons(\n",
    "    value='feb', \n",
    "    options=['jan', 'feb', 'mar', 'apr'], \n",
    "    description='radio buttons'\n",
    ")\n",
    " \n",
    "combobox = widgets.Combobox(\n",
    "    placeholder='start typing... (e.g. L or o)',\n",
    "    options=['Amsterdam', 'Athens', 'Lisbon', 'London', 'Ljubljana'], \n",
    "    description='combo box'\n",
    ")\n",
    " \n",
    "checkbox = widgets.Checkbox(\n",
    "    description='checkbox',\n",
    "    value=True\n",
    ")\n",
    " \n",
    " \n",
    "# a VBox container to pack widgets vertically\n",
    "widgets.VBox(\n",
    "    [\n",
    "        int_slider, \n",
    "        int_range_slider, \n",
    "        dropdown, \n",
    "        radiobuttons,\n",
    "        checkbox,\n",
    "        combobox,\n",
    "    ]\n",
    ")"
   ]
  },
  {
   "cell_type": "code",
   "execution_count": 11,
   "id": "ec3cb34e-ae96-494f-b1d0-5da1f0c85e2f",
   "metadata": {},
   "outputs": [
    {
     "data": {
      "application/vnd.jupyter.widget-view+json": {
       "model_id": "e7a20ec66b8343b0b1ae7f69b497d1e3",
       "version_major": 2,
       "version_minor": 0
      },
      "text/plain": [
       "Canvas(toolbar=Toolbar(toolitems=[('Home', 'Reset original view', 'home', 'home'), ('Back', 'Back to previous …"
      ]
     },
     "metadata": {},
     "output_type": "display_data"
    },
    {
     "data": {
      "application/vnd.jupyter.widget-view+json": {
       "model_id": "c72b89de88dc4bb1bd10db6b5f072eb3",
       "version_major": 2,
       "version_minor": 0
      },
      "text/plain": [
       "IntSlider(value=1, continuous_update=False, description='$\\\\omega$', max=10)"
      ]
     },
     "metadata": {},
     "output_type": "display_data"
    }
   ],
   "source": [
    "x = np.linspace(0, 2 * np.pi, 100)\n",
    " \n",
    "fig, ax = plt.subplots()\n",
    "line, = ax.plot(x, np.sin(x))\n",
    "ax.grid(True)\n",
    " \n",
    "def update(change):\n",
    "    line.set_ydata(np.sin(change.new * x))\n",
    "    fig.canvas.draw()\n",
    "     \n",
    "int_slider = widgets.IntSlider(\n",
    "    value=1, \n",
    "    min=0, max=10, step=1,\n",
    "    description='$\\omega$',\n",
    "    continuous_update=False\n",
    ")\n",
    "int_slider.observe(update, 'value')\n",
    "int_slider"
   ]
  },
  {
   "cell_type": "code",
   "execution_count": 12,
   "id": "89a387cb-3366-452d-bbe6-4ae154cf14c1",
   "metadata": {},
   "outputs": [
    {
     "data": {
      "text/plain": [
       "{'name': 'value',\n",
       " 'old': 7,\n",
       " 'new': 6,\n",
       " 'owner': IntSlider(value=6, max=10),\n",
       " 'type': 'change'}"
      ]
     },
     "metadata": {},
     "output_type": "display_data"
    }
   ],
   "source": [
    "def show_change(change):\n",
    "    display(change)\n",
    " \n",
    "int_slider = widgets.IntSlider(value=7, min=0, max=10)\n",
    "int_slider.observe(show_change, 'value')\n",
    "int_slider.value = 6"
   ]
  },
  {
   "cell_type": "code",
   "execution_count": null,
   "id": "18c3bdd4-47db-455e-ba65-6c9f7e1b7212",
   "metadata": {},
   "outputs": [],
   "source": []
  }
 ],
 "metadata": {
  "kernelspec": {
   "display_name": "Python 3 (ipykernel)",
   "language": "python",
   "name": "python3"
  },
  "language_info": {
   "codemirror_mode": {
    "name": "ipython",
    "version": 3
   },
   "file_extension": ".py",
   "mimetype": "text/x-python",
   "name": "python",
   "nbconvert_exporter": "python",
   "pygments_lexer": "ipython3",
   "version": "3.9.6"
  },
  "widgets": {
   "application/vnd.jupyter.widget-state+json": {
    "state": {
     "0011e6183569467ebcc4b60e1089ddad": {
      "model_module": "@jupyter-widgets/base",
      "model_module_version": "1.2.0",
      "model_name": "LayoutModel",
      "state": {}
     },
     "007a11b3db174664aa4eaa29553aaedb": {
      "model_module": "@jupyter-widgets/controls",
      "model_module_version": "1.5.0",
      "model_name": "SliderStyleModel",
      "state": {
       "description_width": ""
      }
     },
     "01796b6ef00a405d81e7a7712b38c25e": {
      "model_module": "@jupyter-widgets/controls",
      "model_module_version": "1.5.0",
      "model_name": "LabelModel",
      "state": {
       "layout": "IPY_MODEL_c73e512ea4e64c319a02c14ed46a5d41",
       "style": "IPY_MODEL_968523357040426f8f9f5daf6c94dafe",
       "value": "A label"
      }
     },
     "035f3c9f159c4b73a0566ce90f4896c4": {
      "model_module": "@jupyter-widgets/controls",
      "model_module_version": "1.5.0",
      "model_name": "FloatSliderModel",
      "state": {
       "description": "x",
       "layout": "IPY_MODEL_bca3aadcad964737966e876ea11559f8",
       "max": 10,
       "step": 0.5,
       "style": "IPY_MODEL_9aabefee7f0642b8bd66114ceefc1d19",
       "value": 5
      }
     },
     "047d99aa9df746dfbdc892b2790a2d46": {
      "model_module": "@jupyter-widgets/controls",
      "model_module_version": "1.5.0",
      "model_name": "DescriptionStyleModel",
      "state": {
       "description_width": ""
      }
     },
     "05028e020c5943eb9b7a633b487256ca": {
      "model_module": "@jupyter-widgets/base",
      "model_module_version": "1.2.0",
      "model_name": "LayoutModel",
      "state": {}
     },
     "05d3fb586b8e4a189ab11ea3032f463d": {
      "model_module": "jupyter-matplotlib",
      "model_module_version": "^0.9.0",
      "model_name": "MPLCanvasModel",
      "state": {
       "_cursor": "default",
       "_figure_label": "Figure 1",
       "_height": 400,
       "_width": 600,
       "layout": "IPY_MODEL_eb7d25b0df5b41669b3fe7f701eb9d6d",
       "toolbar": "IPY_MODEL_c4cb1ea7260c473c85bfde621736a06f",
       "toolbar_position": "left"
      }
     },
     "0695f2677f2f4efe92d10fbe6d28e048": {
      "model_module": "@jupyter-widgets/output",
      "model_module_version": "1.0.0",
      "model_name": "OutputModel",
      "state": {
       "layout": "IPY_MODEL_e93e301631134e03b5da4504ccba14bc"
      }
     },
     "07a186792e6d46ef84617674b9c7c60b": {
      "model_module": "@jupyter-widgets/controls",
      "model_module_version": "1.5.0",
      "model_name": "DescriptionStyleModel",
      "state": {
       "description_width": ""
      }
     },
     "0a0f8ffa55a94d3bbaaccb4cb912b801": {
      "model_module": "@jupyter-widgets/output",
      "model_module_version": "1.0.0",
      "model_name": "OutputModel",
      "state": {
       "layout": "IPY_MODEL_bb74b8541be548fe85799fdb2e690802",
       "outputs": [
        {
         "name": "stdout",
         "output_type": "stream",
         "text": "Widget says: 5.0\n"
        }
       ]
      }
     },
     "0b78480e9702410598c40b8556ec4b52": {
      "model_module": "@jupyter-widgets/controls",
      "model_module_version": "1.5.0",
      "model_name": "DescriptionStyleModel",
      "state": {
       "description_width": ""
      }
     },
     "0bcb8d579b8b43b28c88bd825b38395d": {
      "model_module": "@jupyter-widgets/base",
      "model_module_version": "1.2.0",
      "model_name": "LayoutModel",
      "state": {}
     },
     "0da8472ccfb949cd8c6a709903db12c7": {
      "model_module": "@jupyter-widgets/controls",
      "model_module_version": "1.5.0",
      "model_name": "DropdownModel",
      "state": {
       "_options_labels": [
        "Jim",
        "Emma",
        "Bond"
       ],
       "description": "name",
       "index": 0,
       "layout": "IPY_MODEL_bc734e268b31405fa2c8675ab3845c5b",
       "style": "IPY_MODEL_07a186792e6d46ef84617674b9c7c60b"
      }
     },
     "0e1df9d95f1f425c86796a2c1202d518": {
      "model_module": "@jupyter-widgets/controls",
      "model_module_version": "1.5.0",
      "model_name": "TextareaModel",
      "state": {
       "description": "text area",
       "layout": "IPY_MODEL_823c70e55c9e4123a5b196c98552b3c2",
       "style": "IPY_MODEL_5d93f0f1954e4c86a55cfa89a2403bde",
       "value": "A text area for longer texts"
      }
     },
     "0e26955f466f4785bca28c44c86146e0": {
      "model_module": "@jupyter-widgets/controls",
      "model_module_version": "1.5.0",
      "model_name": "TextareaModel",
      "state": {
       "layout": "IPY_MODEL_d6be2d661c5049069cdc2c8314c1f5c0",
       "style": "IPY_MODEL_81d66b94d8974089baf368676364a766",
       "value": "Accordion\nAppLayout\nAudio\nBoundedFloatText\nBoundedIntText\nBox\nButton\nButtonStyle\nCallbackDispatcher\nCheckbox\nColor\nColorPicker\nCombobox\nController\nCoreWidget\nDOMWidget\nDatePicker\nDatetime\nDropdown\nFileUpload\nFloatLogSlider\nFloatProgress\nFloatRangeSlider\nFloatSlider\nFloatText\nGridBox\nGridspecLayout\nHBox\nHTML\nHTMLMath\nImage\nIntProgress\nIntRangeSlider\nIntSlider\nIntText\nLabel\nLayout\nNumberFormat\nOutput\nPassword\nPlay\nRadioButtons\nSelect\nSelectMultiple\nSelectionRangeSlider\nSelectionSlider\nSliderStyle\nStyle\nTab\nText\nTextarea\nToggleButton\nToggleButtons\nToggleButtonsStyle\nTwoByTwoLayout\nVBox\nValid\nValueWidget\nVideo\nWidget"
      }
     },
     "0e40592986014cadb34b2c58fc5e02ab": {
      "model_module": "@jupyter-widgets/base",
      "model_module_version": "1.2.0",
      "model_name": "LayoutModel",
      "state": {}
     },
     "0e815e267539413085733463c31dae91": {
      "model_module": "@jupyter-widgets/controls",
      "model_module_version": "1.5.0",
      "model_name": "IntSliderModel",
      "state": {
       "layout": "IPY_MODEL_d9ee87a74a214b7c9515583892d853c1",
       "max": 10,
       "style": "IPY_MODEL_12cb77e984004d1cbe0c87b6f1d88fc8",
       "value": 6
      }
     },
     "10a2adda9892459e8f1633dca5d1e84d": {
      "model_module": "@jupyter-widgets/controls",
      "model_module_version": "1.5.0",
      "model_name": "ComboboxModel",
      "state": {
       "description": "combo box",
       "ensure_option": false,
       "layout": "IPY_MODEL_174e823b876f44489725c1d683c780ad",
       "options": [
        "Amsterdam",
        "Athens",
        "Lisbon",
        "London",
        "Ljubljana"
       ],
       "placeholder": "start typing... (e.g. L or o)",
       "style": "IPY_MODEL_d2737d5f80614a78a5c357857eed8cc8"
      }
     },
     "12cb77e984004d1cbe0c87b6f1d88fc8": {
      "model_module": "@jupyter-widgets/controls",
      "model_module_version": "1.5.0",
      "model_name": "SliderStyleModel",
      "state": {
       "description_width": ""
      }
     },
     "15978fbe60114cbdac11513a8db670b1": {
      "model_module": "@jupyter-widgets/controls",
      "model_module_version": "1.5.0",
      "model_name": "RadioButtonsModel",
      "state": {
       "_options_labels": [
        "jan",
        "feb",
        "mar",
        "apr"
       ],
       "description": "radio buttons",
       "index": 1,
       "layout": "IPY_MODEL_4b9610e33bb345f88d55afd15b090f11",
       "style": "IPY_MODEL_0b78480e9702410598c40b8556ec4b52"
      }
     },
     "174e823b876f44489725c1d683c780ad": {
      "model_module": "@jupyter-widgets/base",
      "model_module_version": "1.2.0",
      "model_name": "LayoutModel",
      "state": {}
     },
     "179323defb7449179d8a003ec72a2446": {
      "model_module": "@jupyter-widgets/output",
      "model_module_version": "1.0.0",
      "model_name": "OutputModel",
      "state": {
       "layout": "IPY_MODEL_22b2f2b17f7e4e2f97022bfd73ca01cb",
       "outputs": [
        {
         "name": "stdout",
         "output_type": "stream",
         "text": "My name is Jim\n"
        }
       ]
      }
     },
     "181eee1a60a24408ba1fd17829c708e8": {
      "model_module": "@jupyter-widgets/controls",
      "model_module_version": "1.5.0",
      "model_name": "SliderStyleModel",
      "state": {
       "description_width": ""
      }
     },
     "193653018a094bd598eb177896d3355a": {
      "model_module": "@jupyter-widgets/controls",
      "model_module_version": "1.5.0",
      "model_name": "SliderStyleModel",
      "state": {
       "description_width": ""
      }
     },
     "1ca3d33b3af64884b0bfd99ebc1b9757": {
      "model_module": "@jupyter-widgets/base",
      "model_module_version": "1.2.0",
      "model_name": "LayoutModel",
      "state": {}
     },
     "22b2f2b17f7e4e2f97022bfd73ca01cb": {
      "model_module": "@jupyter-widgets/base",
      "model_module_version": "1.2.0",
      "model_name": "LayoutModel",
      "state": {}
     },
     "22e637aab75149e2b3771b773a66e217": {
      "model_module": "@jupyter-widgets/base",
      "model_module_version": "1.2.0",
      "model_name": "LayoutModel",
      "state": {}
     },
     "2357902536fa4a5f97b019337fc1d412": {
      "model_module": "@jupyter-widgets/base",
      "model_module_version": "1.2.0",
      "model_name": "LayoutModel",
      "state": {}
     },
     "236f02d8fde143febc19bb3560957aea": {
      "model_module": "@jupyter-widgets/controls",
      "model_module_version": "1.5.0",
      "model_name": "VBoxModel",
      "state": {
       "_dom_classes": [
        "widget-interact"
       ],
       "children": [
        "IPY_MODEL_e63512c847f541079ef3b9484912f652",
        "IPY_MODEL_8bede7d94cc44716ab346e1c9cc316ea"
       ],
       "layout": "IPY_MODEL_e74bfd626c1c4dc4969f742c58c90939"
      }
     },
     "26323fd8a25f4ea08b87e707cbc89f2e": {
      "model_module": "@jupyter-widgets/controls",
      "model_module_version": "1.5.0",
      "model_name": "SliderStyleModel",
      "state": {
       "description_width": ""
      }
     },
     "265939c5827440c79bf876af8e6a9c3d": {
      "model_module": "@jupyter-widgets/controls",
      "model_module_version": "1.5.0",
      "model_name": "CheckboxModel",
      "state": {
       "description": "y",
       "disabled": false,
       "layout": "IPY_MODEL_895a7a3c7a2d42458e90b7a17c88facc",
       "style": "IPY_MODEL_b66e7cd1cb20418088b84531a321e1ab",
       "value": true
      }
     },
     "27f016c6e99b488d98c09fb56ebfab0b": {
      "model_module": "@jupyter-widgets/base",
      "model_module_version": "1.2.0",
      "model_name": "LayoutModel",
      "state": {}
     },
     "29c396c1d1144e188ab68e04768ac7af": {
      "model_module": "@jupyter-widgets/base",
      "model_module_version": "1.2.0",
      "model_name": "LayoutModel",
      "state": {}
     },
     "2b5fc32a3a5f43baa2b0d91b08e74272": {
      "model_module": "@jupyter-widgets/controls",
      "model_module_version": "1.5.0",
      "model_name": "DescriptionStyleModel",
      "state": {
       "description_width": ""
      }
     },
     "2c33f5bd5fa94e7088056ea3cb89724f": {
      "model_module": "@jupyter-widgets/base",
      "model_module_version": "1.2.0",
      "model_name": "LayoutModel",
      "state": {}
     },
     "2dc62cef50d14e5b8af8b7956803a5e4": {
      "model_module": "@jupyter-widgets/controls",
      "model_module_version": "1.5.0",
      "model_name": "DescriptionStyleModel",
      "state": {
       "description_width": ""
      }
     },
     "30f428efd90648a894df13c0b0a531f2": {
      "model_module": "@jupyter-widgets/controls",
      "model_module_version": "1.5.0",
      "model_name": "DescriptionStyleModel",
      "state": {
       "description_width": ""
      }
     },
     "359124a1927f4032bb1c2762ab173d5d": {
      "model_module": "@jupyter-widgets/controls",
      "model_module_version": "1.5.0",
      "model_name": "DescriptionStyleModel",
      "state": {
       "description_width": ""
      }
     },
     "37816e15f20d46acabc70f1e548977a1": {
      "model_module": "@jupyter-widgets/controls",
      "model_module_version": "1.5.0",
      "model_name": "VBoxModel",
      "state": {
       "_dom_classes": [
        "widget-interact"
       ],
       "children": [
        "IPY_MODEL_d7634c5ff85247a29869af036d8f988e",
        "IPY_MODEL_d760ae4d7ffc4a0681a9f508277e3161",
        "IPY_MODEL_51abbbd1c8c94cddaaa044d61858adc8",
        "IPY_MODEL_ef97d8bba26b4cebba31a3bab3e88ee7"
       ],
       "layout": "IPY_MODEL_6d83be09edc74a7ab8a402f2b53ea2cc"
      }
     },
     "3a0f7062bb614c53b7fb045df59fdc09": {
      "model_module": "@jupyter-widgets/base",
      "model_module_version": "1.2.0",
      "model_name": "LayoutModel",
      "state": {}
     },
     "3ab78d0a7d9349c3b9cc7554ae9590f0": {
      "model_module": "@jupyter-widgets/controls",
      "model_module_version": "1.5.0",
      "model_name": "IntRangeSliderModel",
      "state": {
       "_model_name": "IntRangeSliderModel",
       "_view_name": "IntRangeSliderView",
       "description": "range slider",
       "layout": "IPY_MODEL_27f016c6e99b488d98c09fb56ebfab0b",
       "step": 2,
       "style": "IPY_MODEL_b93978f73b2142668d9e81aa8eb952a0",
       "value": [
        20,
        40
       ]
      }
     },
     "3b86c1fd2fbd418cab9f62ce3e7626fb": {
      "model_module": "@jupyter-widgets/controls",
      "model_module_version": "1.5.0",
      "model_name": "VBoxModel",
      "state": {
       "_dom_classes": [
        "widget-interact"
       ],
       "children": [
        "IPY_MODEL_0da8472ccfb949cd8c6a709903db12c7",
        "IPY_MODEL_179323defb7449179d8a003ec72a2446"
       ],
       "layout": "IPY_MODEL_5214c2abdc494bc4932ab1c9df59c19f"
      }
     },
     "40b754a630f8475dbe7e1d8781d79301": {
      "model_module": "@jupyter-widgets/controls",
      "model_module_version": "1.5.0",
      "model_name": "HTMLModel",
      "state": {
       "layout": "IPY_MODEL_ca8da2fa64924a1a9c0d0457983717b2",
       "style": "IPY_MODEL_30f428efd90648a894df13c0b0a531f2",
       "value": "<b>Formatted</b> <font color=\"red\">html</font>"
      }
     },
     "41b6ca1a132b43f4845f405f5f590117": {
      "model_module": "@jupyter-widgets/controls",
      "model_module_version": "1.5.0",
      "model_name": "VBoxModel",
      "state": {
       "_dom_classes": [
        "widget-interact"
       ],
       "children": [
        "IPY_MODEL_d10d672787a34985aade74fd88e3906d",
        "IPY_MODEL_bf5ca7f6754e401aa10bfe8f421939fc"
       ],
       "layout": "IPY_MODEL_0011e6183569467ebcc4b60e1089ddad"
      }
     },
     "4b9610e33bb345f88d55afd15b090f11": {
      "model_module": "@jupyter-widgets/base",
      "model_module_version": "1.2.0",
      "model_name": "LayoutModel",
      "state": {}
     },
     "4c53ad5844894d43ac06e8f4a428d80f": {
      "model_module": "@jupyter-widgets/controls",
      "model_module_version": "1.5.0",
      "model_name": "SliderStyleModel",
      "state": {
       "description_width": ""
      }
     },
     "4d5cce85666f491b85c1ed5cf9cc2813": {
      "model_module": "@jupyter-widgets/controls",
      "model_module_version": "1.5.0",
      "model_name": "TextModel",
      "state": {
       "description": "text field",
       "layout": "IPY_MODEL_29c396c1d1144e188ab68e04768ac7af",
       "style": "IPY_MODEL_047d99aa9df746dfbdc892b2790a2d46",
       "value": "A text field"
      }
     },
     "51abbbd1c8c94cddaaa044d61858adc8": {
      "model_module": "@jupyter-widgets/controls",
      "model_module_version": "1.5.0",
      "model_name": "DropdownModel",
      "state": {
       "_options_labels": [
        "a",
        "b",
        "c"
       ],
       "description": "z",
       "index": 0,
       "layout": "IPY_MODEL_f22a309824b542fbbb0881ae698f6fe1",
       "style": "IPY_MODEL_2dc62cef50d14e5b8af8b7956803a5e4"
      }
     },
     "5214c2abdc494bc4932ab1c9df59c19f": {
      "model_module": "@jupyter-widgets/base",
      "model_module_version": "1.2.0",
      "model_name": "LayoutModel",
      "state": {}
     },
     "525909e27b464a2e8dc0f15510c0f9e8": {
      "model_module": "@jupyter-widgets/base",
      "model_module_version": "1.2.0",
      "model_name": "LayoutModel",
      "state": {}
     },
     "5b8e2e3b4bb64b1b881e6832f89c4884": {
      "model_module": "@jupyter-widgets/base",
      "model_module_version": "1.2.0",
      "model_name": "LayoutModel",
      "state": {}
     },
     "5d93f0f1954e4c86a55cfa89a2403bde": {
      "model_module": "@jupyter-widgets/controls",
      "model_module_version": "1.5.0",
      "model_name": "DescriptionStyleModel",
      "state": {
       "description_width": ""
      }
     },
     "65da9bec36424e04b46128fa3315ef82": {
      "model_module": "@jupyter-widgets/base",
      "model_module_version": "1.2.0",
      "model_name": "LayoutModel",
      "state": {}
     },
     "66c0996c4e8047788354658d33c4ec78": {
      "model_module": "@jupyter-widgets/controls",
      "model_module_version": "1.5.0",
      "model_name": "DropdownModel",
      "state": {
       "_options_labels": [
        "jan",
        "feb",
        "mar",
        "apr"
       ],
       "description": "dropdown",
       "index": 1,
       "layout": "IPY_MODEL_b89da6e29e364fc9baebd63573ca5995",
       "style": "IPY_MODEL_ce982a3ff143438890cabf2449fbf757"
      }
     },
     "672f9a8c618149508b7d20722fd84610": {
      "model_module": "@jupyter-widgets/base",
      "model_module_version": "1.2.0",
      "model_name": "LayoutModel",
      "state": {}
     },
     "6d7624fc117d4f10a45ceb1ee4205570": {
      "model_module": "@jupyter-widgets/base",
      "model_module_version": "1.2.0",
      "model_name": "LayoutModel",
      "state": {}
     },
     "6d83be09edc74a7ab8a402f2b53ea2cc": {
      "model_module": "@jupyter-widgets/base",
      "model_module_version": "1.2.0",
      "model_name": "LayoutModel",
      "state": {}
     },
     "6e5ddce399ab4257b7423a5b258a80c8": {
      "model_module": "@jupyter-widgets/controls",
      "model_module_version": "1.5.0",
      "model_name": "SliderStyleModel",
      "state": {
       "description_width": ""
      }
     },
     "7457448edfb24b78bd1b4ab0a8f744f5": {
      "model_module": "@jupyter-widgets/output",
      "model_module_version": "1.0.0",
      "model_name": "OutputModel",
      "state": {
       "layout": "IPY_MODEL_2c33f5bd5fa94e7088056ea3cb89724f",
       "outputs": [
        {
         "data": {
          "text/plain": "(5, True, 'I am fixed')"
         },
         "metadata": {},
         "output_type": "display_data"
        }
       ]
      }
     },
     "78e10e076f1c4fec92a3f9864f110567": {
      "model_module": "@jupyter-widgets/base",
      "model_module_version": "1.2.0",
      "model_name": "LayoutModel",
      "state": {}
     },
     "7a137eb6c69f4f538c6e0fccd30f05e4": {
      "model_module": "@jupyter-widgets/controls",
      "model_module_version": "1.5.0",
      "model_name": "DropdownModel",
      "state": {
       "_options_labels": [
        "0",
        "1",
        "2",
        "3"
       ],
       "description": "x",
       "index": 0,
       "layout": "IPY_MODEL_0bcb8d579b8b43b28c88bd825b38395d",
       "style": "IPY_MODEL_359124a1927f4032bb1c2762ab173d5d"
      }
     },
     "7a4fbe75219d4424842c113fec0ddb2d": {
      "model_module": "@jupyter-widgets/base",
      "model_module_version": "1.2.0",
      "model_name": "LayoutModel",
      "state": {}
     },
     "7b0778e4d2a3467097fe6306fc8f2268": {
      "model_module": "jupyter-matplotlib",
      "model_module_version": "^0.9.0",
      "model_name": "ToolbarModel",
      "state": {
       "layout": "IPY_MODEL_a18c9cd5f33b4c78a112406244396ed0",
       "toolitems": [
        [
         "Home",
         "Reset original view",
         "home",
         "home"
        ],
        [
         "Back",
         "Back to previous view",
         "arrow-left",
         "back"
        ],
        [
         "Forward",
         "Forward to next view",
         "arrow-right",
         "forward"
        ],
        [
         "Pan",
         "Left button pans, Right button zooms\nx/y fixes axis, CTRL fixes aspect",
         "arrows",
         "pan"
        ],
        [
         "Zoom",
         "Zoom to rectangle\nx/y fixes axis, CTRL fixes aspect",
         "square-o",
         "zoom"
        ],
        [
         "Download",
         "Download plot",
         "floppy-o",
         "save_figure"
        ]
       ]
      }
     },
     "7fb647c3e0f24de48327784486d2e3d7": {
      "model_module": "@jupyter-widgets/controls",
      "model_module_version": "1.5.0",
      "model_name": "IntSliderModel",
      "state": {
       "description": "x",
       "layout": "IPY_MODEL_3a0f7062bb614c53b7fb045df59fdc09",
       "max": 10,
       "style": "IPY_MODEL_4c53ad5844894d43ac06e8f4a428d80f",
       "value": 5
      }
     },
     "8155a7cb99524df5aa812d9347e8b67e": {
      "model_module": "@jupyter-widgets/controls",
      "model_module_version": "1.5.0",
      "model_name": "FloatSliderModel",
      "state": {
       "description": "phi",
       "layout": "IPY_MODEL_2357902536fa4a5f97b019337fc1d412",
       "max": 6.293185307179586,
       "step": 0.01,
       "style": "IPY_MODEL_26323fd8a25f4ea08b87e707cbc89f2e"
      }
     },
     "81d66b94d8974089baf368676364a766": {
      "model_module": "@jupyter-widgets/controls",
      "model_module_version": "1.5.0",
      "model_name": "DescriptionStyleModel",
      "state": {
       "description_width": ""
      }
     },
     "823c70e55c9e4123a5b196c98552b3c2": {
      "model_module": "@jupyter-widgets/base",
      "model_module_version": "1.2.0",
      "model_name": "LayoutModel",
      "state": {}
     },
     "840a558585c5475187742529499b3745": {
      "model_module": "@jupyter-widgets/controls",
      "model_module_version": "1.5.0",
      "model_name": "FloatSliderModel",
      "state": {
       "description": "amp",
       "layout": "IPY_MODEL_a2590d2a108644a89283fcc5dd8df518",
       "max": 4,
       "step": 0.1,
       "style": "IPY_MODEL_6e5ddce399ab4257b7423a5b258a80c8",
       "value": 1
      }
     },
     "857621637f0a417c8101ce74f0575d58": {
      "model_module": "@jupyter-widgets/base",
      "model_module_version": "1.2.0",
      "model_name": "LayoutModel",
      "state": {}
     },
     "895a7a3c7a2d42458e90b7a17c88facc": {
      "model_module": "@jupyter-widgets/base",
      "model_module_version": "1.2.0",
      "model_name": "LayoutModel",
      "state": {}
     },
     "8a742293120a4f0ea1e23507d31344dc": {
      "model_module": "@jupyter-widgets/output",
      "model_module_version": "1.0.0",
      "model_name": "OutputModel",
      "state": {
       "layout": "IPY_MODEL_8f15696a2ea14b3fb603e6c895ce855c",
       "outputs": [
        {
         "name": "stdout",
         "output_type": "stream",
         "text": "Slider says: 5\n"
        }
       ]
      }
     },
     "8bede7d94cc44716ab346e1c9cc316ea": {
      "model_module": "@jupyter-widgets/output",
      "model_module_version": "1.0.0",
      "model_name": "OutputModel",
      "state": {
       "layout": "IPY_MODEL_0e40592986014cadb34b2c58fc5e02ab",
       "outputs": [
        {
         "name": "stdout",
         "output_type": "stream",
         "text": "Widget says: True\n"
        }
       ]
      }
     },
     "8e494639fa2843a7a2992fde1609fb61": {
      "model_module": "@jupyter-widgets/base",
      "model_module_version": "1.2.0",
      "model_name": "LayoutModel",
      "state": {}
     },
     "8f15696a2ea14b3fb603e6c895ce855c": {
      "model_module": "@jupyter-widgets/base",
      "model_module_version": "1.2.0",
      "model_name": "LayoutModel",
      "state": {}
     },
     "8f4bcdfa08d84a2a8d4f6f028580d1ea": {
      "model_module": "@jupyter-widgets/controls",
      "model_module_version": "1.5.0",
      "model_name": "DescriptionStyleModel",
      "state": {
       "description_width": ""
      }
     },
     "920b1ecc9c29498ca72b5471ce2eb9b0": {
      "model_module": "@jupyter-widgets/base",
      "model_module_version": "1.2.0",
      "model_name": "LayoutModel",
      "state": {}
     },
     "968523357040426f8f9f5daf6c94dafe": {
      "model_module": "@jupyter-widgets/controls",
      "model_module_version": "1.5.0",
      "model_name": "DescriptionStyleModel",
      "state": {
       "description_width": ""
      }
     },
     "97ca9f0a731f4436861d123aee62e472": {
      "model_module": "@jupyter-widgets/base",
      "model_module_version": "1.2.0",
      "model_name": "LayoutModel",
      "state": {}
     },
     "9aabefee7f0642b8bd66114ceefc1d19": {
      "model_module": "@jupyter-widgets/controls",
      "model_module_version": "1.5.0",
      "model_name": "SliderStyleModel",
      "state": {
       "description_width": ""
      }
     },
     "a0cd478b13e146669a8e8a07d5dfc16f": {
      "model_module": "@jupyter-widgets/controls",
      "model_module_version": "1.5.0",
      "model_name": "VBoxModel",
      "state": {
       "_dom_classes": [
        "widget-interact"
       ],
       "children": [
        "IPY_MODEL_b2ba430bd3a443a59c5d259b843a1e59",
        "IPY_MODEL_8a742293120a4f0ea1e23507d31344dc"
       ],
       "layout": "IPY_MODEL_05028e020c5943eb9b7a633b487256ca"
      }
     },
     "a18c9cd5f33b4c78a112406244396ed0": {
      "model_module": "@jupyter-widgets/base",
      "model_module_version": "1.2.0",
      "model_name": "LayoutModel",
      "state": {}
     },
     "a2590d2a108644a89283fcc5dd8df518": {
      "model_module": "@jupyter-widgets/base",
      "model_module_version": "1.2.0",
      "model_name": "LayoutModel",
      "state": {}
     },
     "a7874e26234b43d3959eb0f65f3572d2": {
      "model_module": "@jupyter-widgets/base",
      "model_module_version": "1.2.0",
      "model_name": "LayoutModel",
      "state": {}
     },
     "a98e7a9a3eb7409baa5ab2e2547fc70d": {
      "model_module": "@jupyter-widgets/base",
      "model_module_version": "1.2.0",
      "model_name": "LayoutModel",
      "state": {}
     },
     "b0ecb0e2ffa945fa9d3dd0c60fbfef15": {
      "model_module": "@jupyter-widgets/controls",
      "model_module_version": "1.5.0",
      "model_name": "VBoxModel",
      "state": {
       "_dom_classes": [
        "widget-interact"
       ],
       "children": [
        "IPY_MODEL_035f3c9f159c4b73a0566ce90f4896c4",
        "IPY_MODEL_0a0f8ffa55a94d3bbaaccb4cb912b801"
       ],
       "layout": "IPY_MODEL_ef1cbc4c304c47d5b2c62e322fed55b1"
      }
     },
     "b2ba430bd3a443a59c5d259b843a1e59": {
      "model_module": "@jupyter-widgets/controls",
      "model_module_version": "1.5.0",
      "model_name": "IntSliderModel",
      "state": {
       "description": "x",
       "layout": "IPY_MODEL_e620def8b01b45378a10c58ce3e7dce2",
       "max": 10,
       "style": "IPY_MODEL_fe77051d41074b4ca0611e9933cbe746",
       "value": 5
      }
     },
     "b66e7cd1cb20418088b84531a321e1ab": {
      "model_module": "@jupyter-widgets/controls",
      "model_module_version": "1.5.0",
      "model_name": "DescriptionStyleModel",
      "state": {
       "description_width": ""
      }
     },
     "b6774b521a5a441ba48cf8a375d55f30": {
      "model_module": "@jupyter-widgets/controls",
      "model_module_version": "1.5.0",
      "model_name": "SliderStyleModel",
      "state": {
       "description_width": ""
      }
     },
     "b89da6e29e364fc9baebd63573ca5995": {
      "model_module": "@jupyter-widgets/base",
      "model_module_version": "1.2.0",
      "model_name": "LayoutModel",
      "state": {}
     },
     "b93978f73b2142668d9e81aa8eb952a0": {
      "model_module": "@jupyter-widgets/controls",
      "model_module_version": "1.5.0",
      "model_name": "SliderStyleModel",
      "state": {
       "description_width": ""
      }
     },
     "bb74b8541be548fe85799fdb2e690802": {
      "model_module": "@jupyter-widgets/base",
      "model_module_version": "1.2.0",
      "model_name": "LayoutModel",
      "state": {}
     },
     "bc734e268b31405fa2c8675ab3845c5b": {
      "model_module": "@jupyter-widgets/base",
      "model_module_version": "1.2.0",
      "model_name": "LayoutModel",
      "state": {}
     },
     "bca3aadcad964737966e876ea11559f8": {
      "model_module": "@jupyter-widgets/base",
      "model_module_version": "1.2.0",
      "model_name": "LayoutModel",
      "state": {}
     },
     "bf5ca7f6754e401aa10bfe8f421939fc": {
      "model_module": "@jupyter-widgets/output",
      "model_module_version": "1.0.0",
      "model_name": "OutputModel",
      "state": {
       "layout": "IPY_MODEL_78e10e076f1c4fec92a3f9864f110567",
       "outputs": [
        {
         "name": "stdout",
         "output_type": "stream",
         "text": "Widget says: 5\n"
        }
       ]
      }
     },
     "c4cb1ea7260c473c85bfde621736a06f": {
      "model_module": "jupyter-matplotlib",
      "model_module_version": "^0.9.0",
      "model_name": "ToolbarModel",
      "state": {
       "layout": "IPY_MODEL_c51c21ff24f045fb89ac9db42e059926",
       "toolitems": [
        [
         "Home",
         "Reset original view",
         "home",
         "home"
        ],
        [
         "Back",
         "Back to previous view",
         "arrow-left",
         "back"
        ],
        [
         "Forward",
         "Forward to next view",
         "arrow-right",
         "forward"
        ],
        [
         "Pan",
         "Left button pans, Right button zooms\nx/y fixes axis, CTRL fixes aspect",
         "arrows",
         "pan"
        ],
        [
         "Zoom",
         "Zoom to rectangle\nx/y fixes axis, CTRL fixes aspect",
         "square-o",
         "zoom"
        ],
        [
         "Download",
         "Download plot",
         "floppy-o",
         "save_figure"
        ]
       ]
      }
     },
     "c51c21ff24f045fb89ac9db42e059926": {
      "model_module": "@jupyter-widgets/base",
      "model_module_version": "1.2.0",
      "model_name": "LayoutModel",
      "state": {}
     },
     "c652211ad4f6495e9613de26196fd617": {
      "model_module": "@jupyter-widgets/base",
      "model_module_version": "1.2.0",
      "model_name": "LayoutModel",
      "state": {}
     },
     "c72b89de88dc4bb1bd10db6b5f072eb3": {
      "model_module": "@jupyter-widgets/controls",
      "model_module_version": "1.5.0",
      "model_name": "IntSliderModel",
      "state": {
       "continuous_update": false,
       "description": "$\\omega$",
       "layout": "IPY_MODEL_97ca9f0a731f4436861d123aee62e472",
       "max": 10,
       "style": "IPY_MODEL_181eee1a60a24408ba1fd17829c708e8",
       "value": 1
      }
     },
     "c73e512ea4e64c319a02c14ed46a5d41": {
      "model_module": "@jupyter-widgets/base",
      "model_module_version": "1.2.0",
      "model_name": "LayoutModel",
      "state": {}
     },
     "ca243731b6bf454da88519d307898945": {
      "model_module": "@jupyter-widgets/controls",
      "model_module_version": "1.5.0",
      "model_name": "VBoxModel",
      "state": {
       "_dom_classes": [
        "widget-interact"
       ],
       "children": [
        "IPY_MODEL_7fb647c3e0f24de48327784486d2e3d7",
        "IPY_MODEL_265939c5827440c79bf876af8e6a9c3d",
        "IPY_MODEL_7457448edfb24b78bd1b4ab0a8f744f5"
       ],
       "layout": "IPY_MODEL_1ca3d33b3af64884b0bfd99ebc1b9757"
      }
     },
     "ca46cef3970244bbaef6b26bbba77ddf": {
      "model_module": "@jupyter-widgets/controls",
      "model_module_version": "1.5.0",
      "model_name": "DescriptionStyleModel",
      "state": {
       "description_width": ""
      }
     },
     "ca8da2fa64924a1a9c0d0457983717b2": {
      "model_module": "@jupyter-widgets/base",
      "model_module_version": "1.2.0",
      "model_name": "LayoutModel",
      "state": {}
     },
     "ce982a3ff143438890cabf2449fbf757": {
      "model_module": "@jupyter-widgets/controls",
      "model_module_version": "1.5.0",
      "model_name": "DescriptionStyleModel",
      "state": {
       "description_width": ""
      }
     },
     "d10d672787a34985aade74fd88e3906d": {
      "model_module": "@jupyter-widgets/controls",
      "model_module_version": "1.5.0",
      "model_name": "IntSliderModel",
      "state": {
       "description": "x",
       "layout": "IPY_MODEL_f4f767f9c4c14f04a775d422b42af83c",
       "max": 10,
       "style": "IPY_MODEL_e7364d6ce48f455cb3d0f5abe85459f9",
       "value": 5
      }
     },
     "d2737d5f80614a78a5c357857eed8cc8": {
      "model_module": "@jupyter-widgets/controls",
      "model_module_version": "1.5.0",
      "model_name": "DescriptionStyleModel",
      "state": {
       "description_width": ""
      }
     },
     "d5ee37bf1e29470088c832801e4d49b9": {
      "model_module": "@jupyter-widgets/controls",
      "model_module_version": "1.5.0",
      "model_name": "CheckboxModel",
      "state": {
       "description": "checkbox",
       "disabled": false,
       "layout": "IPY_MODEL_7a4fbe75219d4424842c113fec0ddb2d",
       "style": "IPY_MODEL_ca46cef3970244bbaef6b26bbba77ddf",
       "value": true
      }
     },
     "d6be2d661c5049069cdc2c8314c1f5c0": {
      "model_module": "@jupyter-widgets/base",
      "model_module_version": "1.2.0",
      "model_name": "LayoutModel",
      "state": {
       "height": "200px"
      }
     },
     "d760ae4d7ffc4a0681a9f508277e3161": {
      "model_module": "@jupyter-widgets/controls",
      "model_module_version": "1.5.0",
      "model_name": "CheckboxModel",
      "state": {
       "description": "y",
       "disabled": false,
       "layout": "IPY_MODEL_6d7624fc117d4f10a45ceb1ee4205570",
       "style": "IPY_MODEL_2b5fc32a3a5f43baa2b0d91b08e74272",
       "value": true
      }
     },
     "d7634c5ff85247a29869af036d8f988e": {
      "model_module": "@jupyter-widgets/controls",
      "model_module_version": "1.5.0",
      "model_name": "IntSliderModel",
      "state": {
       "description": "x",
       "layout": "IPY_MODEL_672f9a8c618149508b7d20722fd84610",
       "max": 10,
       "style": "IPY_MODEL_b6774b521a5a441ba48cf8a375d55f30",
       "value": 5
      }
     },
     "d9ee87a74a214b7c9515583892d853c1": {
      "model_module": "@jupyter-widgets/base",
      "model_module_version": "1.2.0",
      "model_name": "LayoutModel",
      "state": {}
     },
     "e054b84463cc4b5184be20460589201a": {
      "model_module": "@jupyter-widgets/controls",
      "model_module_version": "1.5.0",
      "model_name": "VBoxModel",
      "state": {
       "children": [
        "IPY_MODEL_e3ee518748da4066b1a661308ce18357",
        "IPY_MODEL_3ab78d0a7d9349c3b9cc7554ae9590f0",
        "IPY_MODEL_66c0996c4e8047788354658d33c4ec78",
        "IPY_MODEL_15978fbe60114cbdac11513a8db670b1",
        "IPY_MODEL_d5ee37bf1e29470088c832801e4d49b9",
        "IPY_MODEL_10a2adda9892459e8f1633dca5d1e84d"
       ],
       "layout": "IPY_MODEL_a7874e26234b43d3959eb0f65f3572d2"
      }
     },
     "e3adb710a1f44ca6af120628563be729": {
      "model_module": "@jupyter-widgets/output",
      "model_module_version": "1.0.0",
      "model_name": "OutputModel",
      "state": {
       "layout": "IPY_MODEL_65da9bec36424e04b46128fa3315ef82",
       "outputs": [
        {
         "name": "stdout",
         "output_type": "stream",
         "text": "Widget says: 0\n"
        }
       ]
      }
     },
     "e3ee518748da4066b1a661308ce18357": {
      "model_module": "@jupyter-widgets/controls",
      "model_module_version": "1.5.0",
      "model_name": "IntSliderModel",
      "state": {
       "description": "slider",
       "layout": "IPY_MODEL_525909e27b464a2e8dc0f15510c0f9e8",
       "max": 10,
       "style": "IPY_MODEL_193653018a094bd598eb177896d3355a",
       "value": 5
      }
     },
     "e620def8b01b45378a10c58ce3e7dce2": {
      "model_module": "@jupyter-widgets/base",
      "model_module_version": "1.2.0",
      "model_name": "LayoutModel",
      "state": {}
     },
     "e63512c847f541079ef3b9484912f652": {
      "model_module": "@jupyter-widgets/controls",
      "model_module_version": "1.5.0",
      "model_name": "CheckboxModel",
      "state": {
       "description": "x",
       "disabled": false,
       "layout": "IPY_MODEL_857621637f0a417c8101ce74f0575d58",
       "style": "IPY_MODEL_8f4bcdfa08d84a2a8d4f6f028580d1ea",
       "value": true
      }
     },
     "e7364d6ce48f455cb3d0f5abe85459f9": {
      "model_module": "@jupyter-widgets/controls",
      "model_module_version": "1.5.0",
      "model_name": "SliderStyleModel",
      "state": {
       "description_width": ""
      }
     },
     "e74bfd626c1c4dc4969f742c58c90939": {
      "model_module": "@jupyter-widgets/base",
      "model_module_version": "1.2.0",
      "model_name": "LayoutModel",
      "state": {}
     },
     "e7a20ec66b8343b0b1ae7f69b497d1e3": {
      "model_module": "jupyter-matplotlib",
      "model_module_version": "^0.9.0",
      "model_name": "MPLCanvasModel",
      "state": {
       "_cursor": "default",
       "_figure_label": "Figure 2",
       "_height": 480,
       "_image_mode": "diff",
       "_width": 640,
       "layout": "IPY_MODEL_22e637aab75149e2b3771b773a66e217",
       "toolbar": "IPY_MODEL_7b0778e4d2a3467097fe6306fc8f2268",
       "toolbar_position": "left"
      }
     },
     "e93e301631134e03b5da4504ccba14bc": {
      "model_module": "@jupyter-widgets/base",
      "model_module_version": "1.2.0",
      "model_name": "LayoutModel",
      "state": {}
     },
     "eb7d25b0df5b41669b3fe7f701eb9d6d": {
      "model_module": "@jupyter-widgets/base",
      "model_module_version": "1.2.0",
      "model_name": "LayoutModel",
      "state": {}
     },
     "ef1cbc4c304c47d5b2c62e322fed55b1": {
      "model_module": "@jupyter-widgets/base",
      "model_module_version": "1.2.0",
      "model_name": "LayoutModel",
      "state": {}
     },
     "ef97d8bba26b4cebba31a3bab3e88ee7": {
      "model_module": "@jupyter-widgets/output",
      "model_module_version": "1.0.0",
      "model_name": "OutputModel",
      "state": {
       "layout": "IPY_MODEL_8e494639fa2843a7a2992fde1609fb61",
       "outputs": [
        {
         "data": {
          "text/plain": "(5, True, 'a')"
         },
         "metadata": {},
         "output_type": "display_data"
        }
       ]
      }
     },
     "f1e0b9c42e6a404fa72a30d4c92d8b94": {
      "model_module": "@jupyter-widgets/controls",
      "model_module_version": "1.5.0",
      "model_name": "VBoxModel",
      "state": {
       "_dom_classes": [
        "widget-interact"
       ],
       "children": [
        "IPY_MODEL_f92fbd0541fa49959120dbdae6c97906",
        "IPY_MODEL_840a558585c5475187742529499b3745",
        "IPY_MODEL_8155a7cb99524df5aa812d9347e8b67e",
        "IPY_MODEL_0695f2677f2f4efe92d10fbe6d28e048"
       ],
       "layout": "IPY_MODEL_5b8e2e3b4bb64b1b881e6832f89c4884"
      }
     },
     "f22a309824b542fbbb0881ae698f6fe1": {
      "model_module": "@jupyter-widgets/base",
      "model_module_version": "1.2.0",
      "model_name": "LayoutModel",
      "state": {}
     },
     "f36751f921d34846a7513d926ae8bfd5": {
      "model_module": "@jupyter-widgets/controls",
      "model_module_version": "1.5.0",
      "model_name": "VBoxModel",
      "state": {
       "children": [
        "IPY_MODEL_01796b6ef00a405d81e7a7712b38c25e",
        "IPY_MODEL_40b754a630f8475dbe7e1d8781d79301",
        "IPY_MODEL_4d5cce85666f491b85c1ed5cf9cc2813",
        "IPY_MODEL_0e1df9d95f1f425c86796a2c1202d518"
       ],
       "layout": "IPY_MODEL_c652211ad4f6495e9613de26196fd617"
      }
     },
     "f3e8603652e34dab880c8c27e7e55e18": {
      "model_module": "@jupyter-widgets/controls",
      "model_module_version": "1.5.0",
      "model_name": "VBoxModel",
      "state": {
       "_dom_classes": [
        "widget-interact"
       ],
       "children": [
        "IPY_MODEL_7a137eb6c69f4f538c6e0fccd30f05e4",
        "IPY_MODEL_e3adb710a1f44ca6af120628563be729"
       ],
       "layout": "IPY_MODEL_920b1ecc9c29498ca72b5471ce2eb9b0"
      }
     },
     "f4f767f9c4c14f04a775d422b42af83c": {
      "model_module": "@jupyter-widgets/base",
      "model_module_version": "1.2.0",
      "model_name": "LayoutModel",
      "state": {}
     },
     "f92fbd0541fa49959120dbdae6c97906": {
      "model_module": "@jupyter-widgets/controls",
      "model_module_version": "1.5.0",
      "model_name": "IntSliderModel",
      "state": {
       "description": "w",
       "layout": "IPY_MODEL_a98e7a9a3eb7409baa5ab2e2547fc70d",
       "max": 10,
       "style": "IPY_MODEL_007a11b3db174664aa4eaa29553aaedb",
       "value": 1
      }
     },
     "fe77051d41074b4ca0611e9933cbe746": {
      "model_module": "@jupyter-widgets/controls",
      "model_module_version": "1.5.0",
      "model_name": "SliderStyleModel",
      "state": {
       "description_width": ""
      }
     }
    },
    "version_major": 2,
    "version_minor": 0
   }
  }
 },
 "nbformat": 4,
 "nbformat_minor": 5
}
