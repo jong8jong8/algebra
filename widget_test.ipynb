{
 "cells": [
  {
   "cell_type": "code",
   "execution_count": 7,
   "id": "58dbaace-36b6-43a3-afe6-51be6a7a1df7",
   "metadata": {},
   "outputs": [],
   "source": [
    "%matplotlib widget\n",
    "import ipywidgets as widgets\n",
    "import matplotlib.pyplot as plt\n",
    "import numpy as np"
   ]
  },
  {
   "cell_type": "code",
   "execution_count": 8,
   "id": "ea750e06-c5f1-4ac7-8a9f-868a0d44166d",
   "metadata": {},
   "outputs": [
    {
     "data": {
      "application/vnd.jupyter.widget-view+json": {
       "model_id": "23ad1a98e8a44aba884322c77bc63b97",
       "version_major": 2,
       "version_minor": 0
      },
      "text/plain": [
       "interactive(children=(Dropdown(description='name', options=('Jim', 'Emma', 'Bond'), value='Jim'), Output()), _…"
      ]
     },
     "metadata": {},
     "output_type": "display_data"
    }
   ],
   "source": [
    "def say_my_name(name):\n",
    "    \"\"\"\n",
    "    Print the current widget value in short sentence\n",
    "    \"\"\"\n",
    "    print(f'My name is {name}')\n",
    "     \n",
    "widgets.interact(say_my_name, name=[\"Jim\", \"Emma\", \"Bond\"]);"
   ]
  },
  {
   "cell_type": "code",
   "execution_count": 9,
   "id": "736c135b-e087-4b48-b5f4-389e3152c366",
   "metadata": {},
   "outputs": [
    {
     "data": {
      "application/vnd.jupyter.widget-view+json": {
       "model_id": "1891296c756846098f9094cfbab20523",
       "version_major": 2,
       "version_minor": 0
      },
      "text/plain": [
       "interactive(children=(Dropdown(description='x', options=(0, 1, 2, 3), value=0), Output()), _dom_classes=('widg…"
      ]
     },
     "metadata": {},
     "output_type": "display_data"
    },
    {
     "data": {
      "application/vnd.jupyter.widget-view+json": {
       "model_id": "2e7415cba41b42939188e24f25e3da93",
       "version_major": 2,
       "version_minor": 0
      },
      "text/plain": [
       "interactive(children=(IntSlider(value=5, description='x', max=10), Output()), _dom_classes=('widget-interact',…"
      ]
     },
     "metadata": {},
     "output_type": "display_data"
    },
    {
     "data": {
      "application/vnd.jupyter.widget-view+json": {
       "model_id": "5c68ebf910fe4a2198a3dfe8ec22df24",
       "version_major": 2,
       "version_minor": 0
      },
      "text/plain": [
       "interactive(children=(FloatSlider(value=5.0, description='x', max=10.0, step=0.5), Output()), _dom_classes=('w…"
      ]
     },
     "metadata": {},
     "output_type": "display_data"
    },
    {
     "data": {
      "application/vnd.jupyter.widget-view+json": {
       "model_id": "fde6faacc7864c6f888fbcc533489572",
       "version_major": 2,
       "version_minor": 0
      },
      "text/plain": [
       "interactive(children=(Checkbox(value=True, description='x'), Output()), _dom_classes=('widget-interact',))"
      ]
     },
     "metadata": {},
     "output_type": "display_data"
    }
   ],
   "source": [
    "def say_something(x):\n",
    "    \"\"\"\n",
    "    Print the current widget value in short sentence\n",
    "    \"\"\"\n",
    "    print(f'Widget says: {x}')\n",
    " \n",
    "widgets.interact(say_something, x=[0, 1, 2, 3])\n",
    "widgets.interact(say_something, x=(0, 10, 1))\n",
    "widgets.interact(say_something, x=(0, 10, .5))\n",
    "_ = widgets.interact(say_something, x=True)"
   ]
  },
  {
   "cell_type": "code",
   "execution_count": 10,
   "id": "2647ce70-da2d-4a30-8dd0-60effbe5f2ce",
   "metadata": {},
   "outputs": [
    {
     "data": {
      "application/vnd.jupyter.widget-view+json": {
       "model_id": "8321c35998ee4ee7a91e5cdc6e87e306",
       "version_major": 2,
       "version_minor": 0
      },
      "text/plain": [
       "interactive(children=(IntSlider(value=5, description='x', max=10), Checkbox(value=True, description='y'), Drop…"
      ]
     },
     "metadata": {},
     "output_type": "display_data"
    }
   ],
   "source": [
    "def three(x, y, z):\n",
    "    return (x, y, z)\n",
    " \n",
    "_ = widgets.interact(\n",
    "    three, \n",
    "    x=(0, 10, 1), \n",
    "    y=True, \n",
    "    z=['a', 'b', 'c']\n",
    ")"
   ]
  },
  {
   "cell_type": "code",
   "execution_count": 11,
   "id": "1cf70e2e-1679-4dbf-8207-98bbeb4a7787",
   "metadata": {},
   "outputs": [
    {
     "data": {
      "application/vnd.jupyter.widget-view+json": {
       "model_id": "ffb00772fe9c412fab1c7456a63f8eba",
       "version_major": 2,
       "version_minor": 0
      },
      "text/plain": [
       "interactive(children=(IntSlider(value=5, description='x', max=10), Checkbox(value=True, description='y'), Outp…"
      ]
     },
     "metadata": {},
     "output_type": "display_data"
    }
   ],
   "source": [
    "_ = widgets.interact(\n",
    "    three, \n",
    "    x=(0, 10, 1), \n",
    "    y=True, \n",
    "    z=widgets.fixed('I am fixed')\n",
    ")"
   ]
  },
  {
   "cell_type": "code",
   "execution_count": 12,
   "id": "772f53a2-2508-469d-9754-6179d4a81a0c",
   "metadata": {},
   "outputs": [
    {
     "data": {
      "application/vnd.jupyter.widget-view+json": {
       "model_id": "404a3248082c44bf9521b72863c59ad4",
       "version_major": 2,
       "version_minor": 0
      },
      "text/plain": [
       "interactive(children=(IntSlider(value=5, description='x', max=10), Output()), _dom_classes=('widget-interact',…"
      ]
     },
     "metadata": {},
     "output_type": "display_data"
    }
   ],
   "source": [
    "@widgets.interact(x=(0, 10, 1))\n",
    "def foo(x):\n",
    "    \"\"\"\n",
    "    Print the current widget value in short sentence\n",
    "    \"\"\"\n",
    "    print(f'Slider says: {x}')"
   ]
  },
  {
   "cell_type": "code",
   "execution_count": 19,
   "id": "3379ec12-9f19-4047-8b8d-cb06d3394d8a",
   "metadata": {},
   "outputs": [
    {
     "data": {
      "application/vnd.jupyter.widget-view+json": {
       "model_id": "6b21795cfa904fefb93549552368147c",
       "version_major": 2,
       "version_minor": 0
      },
      "text/plain": [
       "Canvas(toolbar=Toolbar(toolitems=[('Home', 'Reset original view', 'home', 'home'), ('Back', 'Back to previous …"
      ]
     },
     "metadata": {},
     "output_type": "display_data"
    },
    {
     "data": {
      "application/vnd.jupyter.widget-view+json": {
       "model_id": "ae4525758f85415298325a98a97a4ace",
       "version_major": 2,
       "version_minor": 0
      },
      "text/plain": [
       "interactive(children=(IntSlider(value=1, description='w', max=10), FloatSlider(value=1.0, description='amp', m…"
      ]
     },
     "metadata": {},
     "output_type": "display_data"
    }
   ],
   "source": [
    "# set up plot\n",
    "fig, ax = plt.subplots(figsize=(6, 4))\n",
    "ax.set_ylim([-4, 4])\n",
    "ax.grid(True)\n",
    " \n",
    "# generate x values\n",
    "x = np.linspace(0, 2 * np.pi, 100)\n",
    " \n",
    " \n",
    "def my_sine(x, w, amp, phi):\n",
    "    \"\"\"\n",
    "    Return a sine for x with angular frequeny w and amplitude amp.\n",
    "    \"\"\"\n",
    "    return amp*np.sin(w * (x-phi))\n",
    " \n",
    " \n",
    "@widgets.interact(w=(0, 10, 1), amp=(0, 4, .1), phi=(0, 2*np.pi+0.01, 0.01))\n",
    "def update(w = 1.0, amp=1, phi=0):\n",
    "    \"\"\"Remove old lines from plot and plot new one\"\"\"\n",
    "    [l.remove() for l in ax.lines]\n",
    "    ax.plot(x, my_sine(x, w, amp, phi), color='C0')\n"
   ]
  },
  {
   "cell_type": "code",
   "execution_count": 14,
   "id": "3c98aecf-4ea3-4757-ae1d-324907be6f05",
   "metadata": {},
   "outputs": [
    {
     "data": {
      "application/vnd.jupyter.widget-view+json": {
       "model_id": "1a7dae5c28aa488391a713ae16263469",
       "version_major": 2,
       "version_minor": 0
      },
      "text/plain": [
       "Textarea(value='Accordion\\nAppLayout\\nAudio\\nBoundedFloatText\\nBoundedIntText\\nBox\\nButton\\nButtonStyle\\nCallb…"
      ]
     },
     "metadata": {},
     "output_type": "display_data"
    }
   ],
   "source": [
    "widgets.Textarea(\n",
    "    '\\n'.join([w for w in dir(widgets) if not w.islower()]),\n",
    "    layout=widgets.Layout(height='200px')\n",
    ")"
   ]
  },
  {
   "cell_type": "code",
   "execution_count": 15,
   "id": "3e4b1bd2-2483-4f54-b9bf-ee73f2ffac2a",
   "metadata": {},
   "outputs": [
    {
     "data": {
      "application/vnd.jupyter.widget-view+json": {
       "model_id": "99f063a849864ee1b1871798fd78e3f8",
       "version_major": 2,
       "version_minor": 0
      },
      "text/plain": [
       "VBox(children=(Label(value='A label'), HTML(value='<b>Formatted</b> <font color=\"red\">html</font>'), Text(valu…"
      ]
     },
     "metadata": {},
     "output_type": "display_data"
    }
   ],
   "source": [
    "label = widgets.Label(\n",
    "    value='A label')\n",
    " \n",
    "html = widgets.HTML(\n",
    "    value='<b>Formatted</b> <font color=\"red\">html</font>', \n",
    "    description=''\n",
    ")\n",
    " \n",
    "text = widgets.Text(\n",
    "    value='A text field', \n",
    "    description='text field'\n",
    ")\n",
    " \n",
    "textarea = widgets.Textarea(\n",
    "    value='A text area for longer texts', \n",
    "    description='text area'\n",
    ")\n",
    " \n",
    "# show the three together in a VBox (vertical box container)\n",
    "widgets.VBox([label, html, text, textarea])"
   ]
  },
  {
   "cell_type": "code",
   "execution_count": 16,
   "id": "5fd11e85-649f-49f7-b25c-b76300b8a95b",
   "metadata": {},
   "outputs": [
    {
     "data": {
      "application/vnd.jupyter.widget-view+json": {
       "model_id": "2ae0646324b944859b64677cf040155f",
       "version_major": 2,
       "version_minor": 0
      },
      "text/plain": [
       "VBox(children=(IntSlider(value=5, description='slider', max=10), IntRangeSlider(value=(20, 40), description='r…"
      ]
     },
     "metadata": {},
     "output_type": "display_data"
    }
   ],
   "source": [
    "int_slider = widgets.IntSlider(\n",
    "    value=5, \n",
    "    min=0, max=10, step=1, \n",
    "    description='slider'\n",
    ")\n",
    " \n",
    "int_range_slider = widgets.IntRangeSlider(\n",
    "    value=(20, 40), \n",
    "    min=0, max=100, step=2, \n",
    "    description='range slider'\n",
    ")\n",
    " \n",
    "dropdown = widgets.Dropdown(\n",
    "    value='feb', \n",
    "    options=['jan', 'feb', 'mar', 'apr'], \n",
    "    description='dropdown'\n",
    ")\n",
    " \n",
    "radiobuttons = widgets.RadioButtons(\n",
    "    value='feb', \n",
    "    options=['jan', 'feb', 'mar', 'apr'], \n",
    "    description='radio buttons'\n",
    ")\n",
    " \n",
    "combobox = widgets.Combobox(\n",
    "    placeholder='start typing... (e.g. L or o)',\n",
    "    options=['Amsterdam', 'Athens', 'Lisbon', 'London', 'Ljubljana'], \n",
    "    description='combo box'\n",
    ")\n",
    " \n",
    "checkbox = widgets.Checkbox(\n",
    "    description='checkbox',\n",
    "    value=True\n",
    ")\n",
    " \n",
    " \n",
    "# a VBox container to pack widgets vertically\n",
    "widgets.VBox(\n",
    "    [\n",
    "        int_slider, \n",
    "        int_range_slider, \n",
    "        dropdown, \n",
    "        radiobuttons,\n",
    "        checkbox,\n",
    "        combobox,\n",
    "    ]\n",
    ")"
   ]
  },
  {
   "cell_type": "code",
   "execution_count": 17,
   "id": "ec3cb34e-ae96-494f-b1d0-5da1f0c85e2f",
   "metadata": {},
   "outputs": [
    {
     "data": {
      "application/vnd.jupyter.widget-view+json": {
       "model_id": "26a37fc89ff240b2862053faac69b9b9",
       "version_major": 2,
       "version_minor": 0
      },
      "text/plain": [
       "Canvas(toolbar=Toolbar(toolitems=[('Home', 'Reset original view', 'home', 'home'), ('Back', 'Back to previous …"
      ]
     },
     "metadata": {},
     "output_type": "display_data"
    },
    {
     "data": {
      "application/vnd.jupyter.widget-view+json": {
       "model_id": "22300898d86349f4a142cd41258f24c8",
       "version_major": 2,
       "version_minor": 0
      },
      "text/plain": [
       "IntSlider(value=1, continuous_update=False, description='$\\\\omega$', max=10)"
      ]
     },
     "metadata": {},
     "output_type": "display_data"
    }
   ],
   "source": [
    "x = np.linspace(0, 2 * np.pi, 100)\n",
    " \n",
    "fig, ax = plt.subplots()\n",
    "line, = ax.plot(x, np.sin(x))\n",
    "ax.grid(True)\n",
    " \n",
    "def update(change):\n",
    "    line.set_ydata(np.sin(change.new * x))\n",
    "    fig.canvas.draw()\n",
    "     \n",
    "int_slider = widgets.IntSlider(\n",
    "    value=1, \n",
    "    min=0, max=10, step=1,\n",
    "    description='$\\omega$',\n",
    "    continuous_update=False\n",
    ")\n",
    "int_slider.observe(update, 'value')\n",
    "int_slider"
   ]
  },
  {
   "cell_type": "code",
   "execution_count": 18,
   "id": "89a387cb-3366-452d-bbe6-4ae154cf14c1",
   "metadata": {},
   "outputs": [
    {
     "data": {
      "text/plain": [
       "{'name': 'value',\n",
       " 'old': 7,\n",
       " 'new': 6,\n",
       " 'owner': IntSlider(value=6, max=10),\n",
       " 'type': 'change'}"
      ]
     },
     "metadata": {},
     "output_type": "display_data"
    }
   ],
   "source": [
    "def show_change(change):\n",
    "    display(change)\n",
    " \n",
    "int_slider = widgets.IntSlider(value=7, min=0, max=10)\n",
    "int_slider.observe(show_change, 'value')\n",
    "int_slider.value = 6"
   ]
  },
  {
   "cell_type": "code",
   "execution_count": null,
   "id": "18c3bdd4-47db-455e-ba65-6c9f7e1b7212",
   "metadata": {},
   "outputs": [],
   "source": []
  }
 ],
 "metadata": {
  "kernelspec": {
   "display_name": "Python 3 (ipykernel)",
   "language": "python",
   "name": "python3"
  },
  "language_info": {
   "codemirror_mode": {
    "name": "ipython",
    "version": 3
   },
   "file_extension": ".py",
   "mimetype": "text/x-python",
   "name": "python",
   "nbconvert_exporter": "python",
   "pygments_lexer": "ipython3",
   "version": "3.9.6"
  },
  "widgets": {
   "application/vnd.jupyter.widget-state+json": {
    "state": {
     "03a6802ce7d246348c89eeb6cc8853a7": {
      "model_module": "@jupyter-widgets/base",
      "model_module_version": "1.2.0",
      "model_name": "LayoutModel",
      "state": {}
     },
     "089005b4eae34014a31da9a407b9be03": {
      "model_module": "@jupyter-widgets/controls",
      "model_module_version": "1.5.0",
      "model_name": "IntSliderModel",
      "state": {
       "description": "w",
       "layout": "IPY_MODEL_99018d3f37ca41eeac0284c05501a982",
       "max": 10,
       "style": "IPY_MODEL_ae8d48fdf191454bb95e34cf44a18f1e",
       "value": 2
      }
     },
     "08d05bf8d09a416e9ff5b912c9d39249": {
      "model_module": "@jupyter-widgets/base",
      "model_module_version": "1.2.0",
      "model_name": "LayoutModel",
      "state": {}
     },
     "0a4ac4a1dbb8464eb21a2f5abff0f31d": {
      "model_module": "@jupyter-widgets/base",
      "model_module_version": "1.2.0",
      "model_name": "LayoutModel",
      "state": {}
     },
     "0a59bb737e2c44dcb808d594530a2079": {
      "model_module": "@jupyter-widgets/base",
      "model_module_version": "1.2.0",
      "model_name": "LayoutModel",
      "state": {}
     },
     "0c3acc596def487295417563c7a68806": {
      "model_module": "@jupyter-widgets/base",
      "model_module_version": "1.2.0",
      "model_name": "LayoutModel",
      "state": {}
     },
     "12471ebc4bc1495d809738db83fd770e": {
      "model_module": "@jupyter-widgets/base",
      "model_module_version": "1.2.0",
      "model_name": "LayoutModel",
      "state": {}
     },
     "12583f43b7834d8086ed38bb3fbda258": {
      "model_module": "@jupyter-widgets/base",
      "model_module_version": "1.2.0",
      "model_name": "LayoutModel",
      "state": {}
     },
     "131cfec93f8340cab55b187f1037a6d9": {
      "model_module": "@jupyter-widgets/base",
      "model_module_version": "1.2.0",
      "model_name": "LayoutModel",
      "state": {}
     },
     "1816dd7ffcff4d878c00db73d533f146": {
      "model_module": "@jupyter-widgets/controls",
      "model_module_version": "1.5.0",
      "model_name": "SliderStyleModel",
      "state": {
       "description_width": ""
      }
     },
     "1891296c756846098f9094cfbab20523": {
      "model_module": "@jupyter-widgets/controls",
      "model_module_version": "1.5.0",
      "model_name": "VBoxModel",
      "state": {
       "_dom_classes": [
        "widget-interact"
       ],
       "children": [
        "IPY_MODEL_d585e04a4a574e429971bb84f354ba68",
        "IPY_MODEL_98743a410b534cacb5cb916ecd174a4a"
       ],
       "layout": "IPY_MODEL_cf8306d2e49149798dfceb334099df50"
      }
     },
     "1a7dae5c28aa488391a713ae16263469": {
      "model_module": "@jupyter-widgets/controls",
      "model_module_version": "1.5.0",
      "model_name": "TextareaModel",
      "state": {
       "layout": "IPY_MODEL_8c9df39c59ff4dd390bab2879a5bbdc8",
       "style": "IPY_MODEL_4b08cb927386420fb94db3f5ef24e6e8",
       "value": "Accordion\nAppLayout\nAudio\nBoundedFloatText\nBoundedIntText\nBox\nButton\nButtonStyle\nCallbackDispatcher\nCheckbox\nColor\nColorPicker\nCombobox\nController\nCoreWidget\nDOMWidget\nDatePicker\nDatetime\nDropdown\nFileUpload\nFloatLogSlider\nFloatProgress\nFloatRangeSlider\nFloatSlider\nFloatText\nGridBox\nGridspecLayout\nHBox\nHTML\nHTMLMath\nImage\nIntProgress\nIntRangeSlider\nIntSlider\nIntText\nLabel\nLayout\nNumberFormat\nOutput\nPassword\nPlay\nRadioButtons\nSelect\nSelectMultiple\nSelectionRangeSlider\nSelectionSlider\nSliderStyle\nStyle\nTab\nText\nTextarea\nToggleButton\nToggleButtons\nToggleButtonsStyle\nTwoByTwoLayout\nVBox\nValid\nValueWidget\nVideo\nWidget"
      }
     },
     "1f1c98f87a2547748db9853babae65b1": {
      "model_module": "@jupyter-widgets/controls",
      "model_module_version": "1.5.0",
      "model_name": "DescriptionStyleModel",
      "state": {
       "description_width": ""
      }
     },
     "20f68c200a5c418bbd05e2ec99936236": {
      "model_module": "@jupyter-widgets/controls",
      "model_module_version": "1.5.0",
      "model_name": "DropdownModel",
      "state": {
       "_options_labels": [
        "Jim",
        "Emma",
        "Bond"
       ],
       "description": "name",
       "index": 2,
       "layout": "IPY_MODEL_43a7ab72744f40f19ffb502ad594a739",
       "style": "IPY_MODEL_70821b0318534e81a7e5fc8df64ca537"
      }
     },
     "22300898d86349f4a142cd41258f24c8": {
      "model_module": "@jupyter-widgets/controls",
      "model_module_version": "1.5.0",
      "model_name": "IntSliderModel",
      "state": {
       "continuous_update": false,
       "description": "$\\omega$",
       "layout": "IPY_MODEL_291af08db324450594f7ca6723e3da05",
       "max": 10,
       "style": "IPY_MODEL_2d52ae60d43b4ddcba6fe7fb3906e97a",
       "value": 3
      }
     },
     "23ad1a98e8a44aba884322c77bc63b97": {
      "model_module": "@jupyter-widgets/controls",
      "model_module_version": "1.5.0",
      "model_name": "VBoxModel",
      "state": {
       "_dom_classes": [
        "widget-interact"
       ],
       "children": [
        "IPY_MODEL_20f68c200a5c418bbd05e2ec99936236",
        "IPY_MODEL_6714f85d318a4434a4a4964fdd1d0fe6"
       ],
       "layout": "IPY_MODEL_9dbffa6b063949a59471e157dd6d198a"
      }
     },
     "2452fc570b7c47c8b6d0196950d61eab": {
      "model_module": "@jupyter-widgets/controls",
      "model_module_version": "1.5.0",
      "model_name": "DescriptionStyleModel",
      "state": {
       "description_width": ""
      }
     },
     "251e7a59a909453487c5bfb74975a6c3": {
      "model_module": "@jupyter-widgets/output",
      "model_module_version": "1.0.0",
      "model_name": "OutputModel",
      "state": {
       "layout": "IPY_MODEL_a765ebc2eaad49a9b0c7db9545a4f1be",
       "outputs": [
        {
         "name": "stdout",
         "output_type": "stream",
         "text": "Slider says: 5\n"
        }
       ]
      }
     },
     "26a37fc89ff240b2862053faac69b9b9": {
      "model_module": "jupyter-matplotlib",
      "model_module_version": "^0.9.0",
      "model_name": "MPLCanvasModel",
      "state": {
       "_cursor": "default",
       "_figure_label": "Figure 2",
       "_height": 480,
       "_image_mode": "diff",
       "_message": "x=2.85 y=−0.581",
       "_width": 640,
       "layout": "IPY_MODEL_acade02ca94346efb5704ced0cfacf03",
       "toolbar": "IPY_MODEL_d765b497f81d4d4585acd7cf9ce79d69",
       "toolbar_position": "left"
      }
     },
     "286b2cd5fe6b47df8164092ec6d8bc82": {
      "model_module": "@jupyter-widgets/base",
      "model_module_version": "1.2.0",
      "model_name": "LayoutModel",
      "state": {}
     },
     "291af08db324450594f7ca6723e3da05": {
      "model_module": "@jupyter-widgets/base",
      "model_module_version": "1.2.0",
      "model_name": "LayoutModel",
      "state": {}
     },
     "2ae0646324b944859b64677cf040155f": {
      "model_module": "@jupyter-widgets/controls",
      "model_module_version": "1.5.0",
      "model_name": "VBoxModel",
      "state": {
       "children": [
        "IPY_MODEL_ca25327bde564c01a4ae5ae48f4f3cb4",
        "IPY_MODEL_7ed95dcf7a204f86b764b6651b67cf55",
        "IPY_MODEL_c481e5d8bcfb4e29b02e8bf00d08273a",
        "IPY_MODEL_a57074fd80bf491dbc12534096cef1f2",
        "IPY_MODEL_a8dcb33fdea44ea2879df274c3802b09",
        "IPY_MODEL_4c7569ef19bc40fe80e74c21c26a13b3"
       ],
       "layout": "IPY_MODEL_d41ac76edf4e4de392e79cad3de19f85"
      }
     },
     "2b6b71f53f3f48d3ba508344a0188c5b": {
      "model_module": "@jupyter-widgets/controls",
      "model_module_version": "1.5.0",
      "model_name": "SliderStyleModel",
      "state": {
       "description_width": ""
      }
     },
     "2d52ae60d43b4ddcba6fe7fb3906e97a": {
      "model_module": "@jupyter-widgets/controls",
      "model_module_version": "1.5.0",
      "model_name": "SliderStyleModel",
      "state": {
       "description_width": ""
      }
     },
     "2dcd559e6e594937a84bfe266d8723a8": {
      "model_module": "@jupyter-widgets/base",
      "model_module_version": "1.2.0",
      "model_name": "LayoutModel",
      "state": {}
     },
     "2e57b15754944380a7fc8ab219966cde": {
      "model_module": "@jupyter-widgets/base",
      "model_module_version": "1.2.0",
      "model_name": "LayoutModel",
      "state": {}
     },
     "2e7415cba41b42939188e24f25e3da93": {
      "model_module": "@jupyter-widgets/controls",
      "model_module_version": "1.5.0",
      "model_name": "VBoxModel",
      "state": {
       "_dom_classes": [
        "widget-interact"
       ],
       "children": [
        "IPY_MODEL_d1b2f64e908246b19c91ea12eff193e4",
        "IPY_MODEL_ee4699a571584d70a9aa68d0321e528b"
       ],
       "layout": "IPY_MODEL_cf45a80337d44013849c6a9f9da2a6b7"
      }
     },
     "3331bf48492049eda55dca702b83b2de": {
      "model_module": "@jupyter-widgets/controls",
      "model_module_version": "1.5.0",
      "model_name": "SliderStyleModel",
      "state": {
       "description_width": ""
      }
     },
     "3593cae1348a4ccf87775976d11cc5ca": {
      "model_module": "@jupyter-widgets/base",
      "model_module_version": "1.2.0",
      "model_name": "LayoutModel",
      "state": {}
     },
     "3900143a425e45f48e7f8215d1430da9": {
      "model_module": "@jupyter-widgets/base",
      "model_module_version": "1.2.0",
      "model_name": "LayoutModel",
      "state": {}
     },
     "394b077345ff44a9b8899540610d65e6": {
      "model_module": "@jupyter-widgets/controls",
      "model_module_version": "1.5.0",
      "model_name": "TextModel",
      "state": {
       "description": "text field",
       "layout": "IPY_MODEL_dbfebe553fc548f3b387741709308e4d",
       "style": "IPY_MODEL_7b3594a6413d443b93bbacb292133b6f",
       "value": "A text field"
      }
     },
     "397c087463b342948294188cec57aeb0": {
      "model_module": "@jupyter-widgets/controls",
      "model_module_version": "1.5.0",
      "model_name": "SliderStyleModel",
      "state": {
       "description_width": ""
      }
     },
     "3a1ba38a2dd1470e8a57f55d625f33a9": {
      "model_module": "@jupyter-widgets/controls",
      "model_module_version": "1.5.0",
      "model_name": "DropdownModel",
      "state": {
       "_options_labels": [
        "a",
        "b",
        "c"
       ],
       "description": "z",
       "index": 0,
       "layout": "IPY_MODEL_baa6f1f14b034a88a927e4001584ebae",
       "style": "IPY_MODEL_c9046e94402a4bfd8d5ee74c2e726539"
      }
     },
     "3ddd26ef20544ec189906487d6a1d841": {
      "model_module": "@jupyter-widgets/base",
      "model_module_version": "1.2.0",
      "model_name": "LayoutModel",
      "state": {}
     },
     "3e633189730149709230d72566cf03cf": {
      "model_module": "@jupyter-widgets/base",
      "model_module_version": "1.2.0",
      "model_name": "LayoutModel",
      "state": {}
     },
     "400b446ad3e24712970d6a329cd8db73": {
      "model_module": "@jupyter-widgets/controls",
      "model_module_version": "1.5.0",
      "model_name": "CheckboxModel",
      "state": {
       "description": "y",
       "disabled": false,
       "layout": "IPY_MODEL_633f058be7aa46a48146f1ff3efb4c21",
       "style": "IPY_MODEL_1f1c98f87a2547748db9853babae65b1",
       "value": true
      }
     },
     "4015f79d0a964530a86bf003530d9a66": {
      "model_module": "@jupyter-widgets/controls",
      "model_module_version": "1.5.0",
      "model_name": "FloatSliderModel",
      "state": {
       "description": "x",
       "layout": "IPY_MODEL_735e089113b54e3595a808162f5112ef",
       "max": 10,
       "step": 0.5,
       "style": "IPY_MODEL_2b6b71f53f3f48d3ba508344a0188c5b",
       "value": 5
      }
     },
     "404a3248082c44bf9521b72863c59ad4": {
      "model_module": "@jupyter-widgets/controls",
      "model_module_version": "1.5.0",
      "model_name": "VBoxModel",
      "state": {
       "_dom_classes": [
        "widget-interact"
       ],
       "children": [
        "IPY_MODEL_e1fdf9e24464456fbe7ff5f3359102de",
        "IPY_MODEL_251e7a59a909453487c5bfb74975a6c3"
       ],
       "layout": "IPY_MODEL_3e633189730149709230d72566cf03cf"
      }
     },
     "43a7ab72744f40f19ffb502ad594a739": {
      "model_module": "@jupyter-widgets/base",
      "model_module_version": "1.2.0",
      "model_name": "LayoutModel",
      "state": {}
     },
     "440efd0e71114148ba56970ee8069f90": {
      "model_module": "@jupyter-widgets/controls",
      "model_module_version": "1.5.0",
      "model_name": "SliderStyleModel",
      "state": {
       "description_width": ""
      }
     },
     "4a812e86aa2742209ab6b0542320a32a": {
      "model_module": "jupyter-matplotlib",
      "model_module_version": "^0.9.0",
      "model_name": "ToolbarModel",
      "state": {
       "layout": "IPY_MODEL_12583f43b7834d8086ed38bb3fbda258",
       "toolitems": [
        [
         "Home",
         "Reset original view",
         "home",
         "home"
        ],
        [
         "Back",
         "Back to previous view",
         "arrow-left",
         "back"
        ],
        [
         "Forward",
         "Forward to next view",
         "arrow-right",
         "forward"
        ],
        [
         "Pan",
         "Left button pans, Right button zooms\nx/y fixes axis, CTRL fixes aspect",
         "arrows",
         "pan"
        ],
        [
         "Zoom",
         "Zoom to rectangle\nx/y fixes axis, CTRL fixes aspect",
         "square-o",
         "zoom"
        ],
        [
         "Download",
         "Download plot",
         "floppy-o",
         "save_figure"
        ]
       ]
      }
     },
     "4b08cb927386420fb94db3f5ef24e6e8": {
      "model_module": "@jupyter-widgets/controls",
      "model_module_version": "1.5.0",
      "model_name": "DescriptionStyleModel",
      "state": {
       "description_width": ""
      }
     },
     "4c7569ef19bc40fe80e74c21c26a13b3": {
      "model_module": "@jupyter-widgets/controls",
      "model_module_version": "1.5.0",
      "model_name": "ComboboxModel",
      "state": {
       "description": "combo box",
       "ensure_option": false,
       "layout": "IPY_MODEL_7983685f94994cc8bbfcc4b96780c1a7",
       "options": [
        "Amsterdam",
        "Athens",
        "Lisbon",
        "London",
        "Ljubljana"
       ],
       "placeholder": "start typing... (e.g. L or o)",
       "style": "IPY_MODEL_c68d57289395488d9b750a6715f682b5"
      }
     },
     "4d37822a490341d7b5915cc34de6bf71": {
      "model_module": "@jupyter-widgets/base",
      "model_module_version": "1.2.0",
      "model_name": "LayoutModel",
      "state": {}
     },
     "4e8c805d387248ccbdfc8da89151e21e": {
      "model_module": "@jupyter-widgets/controls",
      "model_module_version": "1.5.0",
      "model_name": "SliderStyleModel",
      "state": {
       "description_width": ""
      }
     },
     "516f0f81d9944ec3ae10b29c72fa3988": {
      "model_module": "@jupyter-widgets/controls",
      "model_module_version": "1.5.0",
      "model_name": "DescriptionStyleModel",
      "state": {
       "description_width": ""
      }
     },
     "52509f551b6d4312af390d2671ee0a88": {
      "model_module": "@jupyter-widgets/base",
      "model_module_version": "1.2.0",
      "model_name": "LayoutModel",
      "state": {}
     },
     "534b53d16c444c54b45993509e3b49f4": {
      "model_module": "@jupyter-widgets/controls",
      "model_module_version": "1.5.0",
      "model_name": "SliderStyleModel",
      "state": {
       "description_width": ""
      }
     },
     "54b0c1b72d7342d4926d99e0dff7f055": {
      "model_module": "jupyter-matplotlib",
      "model_module_version": "^0.9.0",
      "model_name": "MPLCanvasModel",
      "state": {
       "_cursor": "default",
       "_figure_label": "Figure 1",
       "_height": 400,
       "_image_mode": "diff",
       "_width": 600,
       "layout": "IPY_MODEL_2e57b15754944380a7fc8ab219966cde",
       "toolbar": "IPY_MODEL_a971e6ff2d7b48b9b92eea72e2e2a54c",
       "toolbar_position": "left"
      }
     },
     "55688541822840a088abab7fce06ee37": {
      "model_module": "@jupyter-widgets/controls",
      "model_module_version": "1.5.0",
      "model_name": "SliderStyleModel",
      "state": {
       "description_width": ""
      }
     },
     "58787f6e898e41f098b8d56a9e611f77": {
      "model_module": "@jupyter-widgets/base",
      "model_module_version": "1.2.0",
      "model_name": "LayoutModel",
      "state": {}
     },
     "5943daf1626a4c8db6afb0e4e6e9e6b2": {
      "model_module": "@jupyter-widgets/base",
      "model_module_version": "1.2.0",
      "model_name": "LayoutModel",
      "state": {}
     },
     "5c68ebf910fe4a2198a3dfe8ec22df24": {
      "model_module": "@jupyter-widgets/controls",
      "model_module_version": "1.5.0",
      "model_name": "VBoxModel",
      "state": {
       "_dom_classes": [
        "widget-interact"
       ],
       "children": [
        "IPY_MODEL_4015f79d0a964530a86bf003530d9a66",
        "IPY_MODEL_93c5b7462575416e95e83018b25db541"
       ],
       "layout": "IPY_MODEL_8a0054da5dd24e2f861940b618b5d300"
      }
     },
     "5d2c8e052cbb4e738f73ae93cb8a613c": {
      "model_module": "@jupyter-widgets/output",
      "model_module_version": "1.0.0",
      "model_name": "OutputModel",
      "state": {
       "layout": "IPY_MODEL_9c03bc76a4ee420585f5df5cc0422936",
       "outputs": [
        {
         "data": {
          "text/plain": "(9, True, 'I am fixed')"
         },
         "metadata": {},
         "output_type": "display_data"
        }
       ]
      }
     },
     "60b31d3bf6164f538fdffadbb0d4d8c2": {
      "model_module": "@jupyter-widgets/base",
      "model_module_version": "1.2.0",
      "model_name": "LayoutModel",
      "state": {}
     },
     "633f058be7aa46a48146f1ff3efb4c21": {
      "model_module": "@jupyter-widgets/base",
      "model_module_version": "1.2.0",
      "model_name": "LayoutModel",
      "state": {}
     },
     "663b8d0efcfc4bcb9fdc5d1bafb93497": {
      "model_module": "@jupyter-widgets/controls",
      "model_module_version": "1.5.0",
      "model_name": "IntSliderModel",
      "state": {
       "layout": "IPY_MODEL_675eb31c90d14885839cf9c8ea08c26d",
       "style": "IPY_MODEL_d10380d9205f465cbcfaae72a1c5e976"
      }
     },
     "6714f85d318a4434a4a4964fdd1d0fe6": {
      "model_module": "@jupyter-widgets/output",
      "model_module_version": "1.0.0",
      "model_name": "OutputModel",
      "state": {
       "layout": "IPY_MODEL_b128122c3e9d4d0e870be5f386b2d1c7",
       "outputs": [
        {
         "name": "stdout",
         "output_type": "stream",
         "text": "My name is Bond\n"
        }
       ]
      }
     },
     "673bf7fdad7445a9ad243306241f9ec0": {
      "model_module": "@jupyter-widgets/controls",
      "model_module_version": "1.5.0",
      "model_name": "IntSliderModel",
      "state": {
       "description": "x",
       "layout": "IPY_MODEL_aaa0834216774779a9633c2d0213222a",
       "max": 10,
       "style": "IPY_MODEL_94b0428f5e3c462d8db859d2b59f8704",
       "value": 9
      }
     },
     "675eb31c90d14885839cf9c8ea08c26d": {
      "model_module": "@jupyter-widgets/base",
      "model_module_version": "1.2.0",
      "model_name": "LayoutModel",
      "state": {}
     },
     "69b90f3b7e454a34a7dba61e1da97e14": {
      "model_module": "@jupyter-widgets/controls",
      "model_module_version": "1.5.0",
      "model_name": "DescriptionStyleModel",
      "state": {
       "description_width": ""
      }
     },
     "6a0fddb5c5994a0d917f09c058ebe4cb": {
      "model_module": "@jupyter-widgets/controls",
      "model_module_version": "1.5.0",
      "model_name": "DescriptionStyleModel",
      "state": {
       "description_width": ""
      }
     },
     "6b21795cfa904fefb93549552368147c": {
      "model_module": "jupyter-matplotlib",
      "model_module_version": "^0.9.0",
      "model_name": "MPLCanvasModel",
      "state": {
       "_cursor": "default",
       "_figure_label": "Figure 3",
       "_height": 400,
       "_image_mode": "diff",
       "_width": 600,
       "layout": "IPY_MODEL_60b31d3bf6164f538fdffadbb0d4d8c2",
       "toolbar": "IPY_MODEL_4a812e86aa2742209ab6b0542320a32a",
       "toolbar_position": "left"
      }
     },
     "6eb4327dc5564f97bc368107b47569ec": {
      "model_module": "@jupyter-widgets/controls",
      "model_module_version": "1.5.0",
      "model_name": "FloatSliderModel",
      "state": {
       "description": "amp",
       "layout": "IPY_MODEL_5943daf1626a4c8db6afb0e4e6e9e6b2",
       "max": 4,
       "step": 0.1,
       "style": "IPY_MODEL_397c087463b342948294188cec57aeb0",
       "value": 2.5
      }
     },
     "70821b0318534e81a7e5fc8df64ca537": {
      "model_module": "@jupyter-widgets/controls",
      "model_module_version": "1.5.0",
      "model_name": "DescriptionStyleModel",
      "state": {
       "description_width": ""
      }
     },
     "735e089113b54e3595a808162f5112ef": {
      "model_module": "@jupyter-widgets/base",
      "model_module_version": "1.2.0",
      "model_name": "LayoutModel",
      "state": {}
     },
     "7983685f94994cc8bbfcc4b96780c1a7": {
      "model_module": "@jupyter-widgets/base",
      "model_module_version": "1.2.0",
      "model_name": "LayoutModel",
      "state": {}
     },
     "7b3594a6413d443b93bbacb292133b6f": {
      "model_module": "@jupyter-widgets/controls",
      "model_module_version": "1.5.0",
      "model_name": "DescriptionStyleModel",
      "state": {
       "description_width": ""
      }
     },
     "7b9e6e98028c496a975aee721e81c53c": {
      "model_module": "@jupyter-widgets/controls",
      "model_module_version": "1.5.0",
      "model_name": "LabelModel",
      "state": {
       "layout": "IPY_MODEL_0a4ac4a1dbb8464eb21a2f5abff0f31d",
       "style": "IPY_MODEL_fbbd7d2d20334a8b8e7b276c3b053245",
       "value": "A label"
      }
     },
     "7de61cc734974629abd9173c2e2cdf79": {
      "model_module": "@jupyter-widgets/base",
      "model_module_version": "1.2.0",
      "model_name": "LayoutModel",
      "state": {}
     },
     "7ed95dcf7a204f86b764b6651b67cf55": {
      "model_module": "@jupyter-widgets/controls",
      "model_module_version": "1.5.0",
      "model_name": "IntRangeSliderModel",
      "state": {
       "_model_name": "IntRangeSliderModel",
       "_view_name": "IntRangeSliderView",
       "description": "range slider",
       "layout": "IPY_MODEL_12471ebc4bc1495d809738db83fd770e",
       "step": 2,
       "style": "IPY_MODEL_1816dd7ffcff4d878c00db73d533f146",
       "value": [
        20,
        40
       ]
      }
     },
     "7fb60017591d487a818c8214eb476401": {
      "model_module": "@jupyter-widgets/controls",
      "model_module_version": "1.5.0",
      "model_name": "DescriptionStyleModel",
      "state": {
       "description_width": ""
      }
     },
     "8321c35998ee4ee7a91e5cdc6e87e306": {
      "model_module": "@jupyter-widgets/controls",
      "model_module_version": "1.5.0",
      "model_name": "VBoxModel",
      "state": {
       "_dom_classes": [
        "widget-interact"
       ],
       "children": [
        "IPY_MODEL_e68c5ce646bb4e08960263a1b1310c5e",
        "IPY_MODEL_b869c39f4aed4bfaa07744c908129850",
        "IPY_MODEL_3a1ba38a2dd1470e8a57f55d625f33a9",
        "IPY_MODEL_b8c01f9b008f4e4dacb96917e675a6cb"
       ],
       "layout": "IPY_MODEL_b50607fb66684a31a6a8dede9de67140"
      }
     },
     "8a0054da5dd24e2f861940b618b5d300": {
      "model_module": "@jupyter-widgets/base",
      "model_module_version": "1.2.0",
      "model_name": "LayoutModel",
      "state": {}
     },
     "8c9df39c59ff4dd390bab2879a5bbdc8": {
      "model_module": "@jupyter-widgets/base",
      "model_module_version": "1.2.0",
      "model_name": "LayoutModel",
      "state": {
       "height": "200px"
      }
     },
     "8f3830e6b8ce495eaf261507e4334ba2": {
      "model_module": "@jupyter-widgets/base",
      "model_module_version": "1.2.0",
      "model_name": "LayoutModel",
      "state": {}
     },
     "932d2b5bb1fe4ea58be01c4601dcdc11": {
      "model_module": "@jupyter-widgets/controls",
      "model_module_version": "1.5.0",
      "model_name": "FloatSliderModel",
      "state": {
       "description": "amp",
       "layout": "IPY_MODEL_ab426274c70d45cb8da0afa0a4a86fe3",
       "max": 4,
       "step": 0.1,
       "style": "IPY_MODEL_cd5a06e44f5742a8ad6604494855b087",
       "value": 1.4
      }
     },
     "93c5b7462575416e95e83018b25db541": {
      "model_module": "@jupyter-widgets/output",
      "model_module_version": "1.0.0",
      "model_name": "OutputModel",
      "state": {
       "layout": "IPY_MODEL_a4e0d32dcb0749b0bfa5c5e9b2864dbc",
       "outputs": [
        {
         "name": "stdout",
         "output_type": "stream",
         "text": "Widget says: 5.0\n"
        }
       ]
      }
     },
     "94b0428f5e3c462d8db859d2b59f8704": {
      "model_module": "@jupyter-widgets/controls",
      "model_module_version": "1.5.0",
      "model_name": "SliderStyleModel",
      "state": {
       "description_width": ""
      }
     },
     "9597d9fcd4274f3cb80b87b0da82871c": {
      "model_module": "@jupyter-widgets/base",
      "model_module_version": "1.2.0",
      "model_name": "LayoutModel",
      "state": {}
     },
     "963ff556cee141e5be3ac943ab91af4f": {
      "model_module": "@jupyter-widgets/controls",
      "model_module_version": "1.5.0",
      "model_name": "SliderStyleModel",
      "state": {
       "description_width": ""
      }
     },
     "98743a410b534cacb5cb916ecd174a4a": {
      "model_module": "@jupyter-widgets/output",
      "model_module_version": "1.0.0",
      "model_name": "OutputModel",
      "state": {
       "layout": "IPY_MODEL_d453b0574e21445d988eae68834a34c1",
       "outputs": [
        {
         "name": "stdout",
         "output_type": "stream",
         "text": "Widget says: 0\n"
        }
       ]
      }
     },
     "99018d3f37ca41eeac0284c05501a982": {
      "model_module": "@jupyter-widgets/base",
      "model_module_version": "1.2.0",
      "model_name": "LayoutModel",
      "state": {}
     },
     "99f063a849864ee1b1871798fd78e3f8": {
      "model_module": "@jupyter-widgets/controls",
      "model_module_version": "1.5.0",
      "model_name": "VBoxModel",
      "state": {
       "children": [
        "IPY_MODEL_7b9e6e98028c496a975aee721e81c53c",
        "IPY_MODEL_e81c04e17a864d03969009e7708e2a49",
        "IPY_MODEL_394b077345ff44a9b8899540610d65e6",
        "IPY_MODEL_a1240617e25146b5b34844e3f9728cb8"
       ],
       "layout": "IPY_MODEL_3900143a425e45f48e7f8215d1430da9"
      }
     },
     "9c03bc76a4ee420585f5df5cc0422936": {
      "model_module": "@jupyter-widgets/base",
      "model_module_version": "1.2.0",
      "model_name": "LayoutModel",
      "state": {}
     },
     "9dbffa6b063949a59471e157dd6d198a": {
      "model_module": "@jupyter-widgets/base",
      "model_module_version": "1.2.0",
      "model_name": "LayoutModel",
      "state": {}
     },
     "a1240617e25146b5b34844e3f9728cb8": {
      "model_module": "@jupyter-widgets/controls",
      "model_module_version": "1.5.0",
      "model_name": "TextareaModel",
      "state": {
       "description": "text area",
       "layout": "IPY_MODEL_0c3acc596def487295417563c7a68806",
       "style": "IPY_MODEL_c6c27b170587499ea3adbec05fa0250d",
       "value": "A text area for longer texts"
      }
     },
     "a4e0d32dcb0749b0bfa5c5e9b2864dbc": {
      "model_module": "@jupyter-widgets/base",
      "model_module_version": "1.2.0",
      "model_name": "LayoutModel",
      "state": {}
     },
     "a57074fd80bf491dbc12534096cef1f2": {
      "model_module": "@jupyter-widgets/controls",
      "model_module_version": "1.5.0",
      "model_name": "RadioButtonsModel",
      "state": {
       "_options_labels": [
        "jan",
        "feb",
        "mar",
        "apr"
       ],
       "description": "radio buttons",
       "index": 1,
       "layout": "IPY_MODEL_d67ea1ab563340098efab608c2c13f0f",
       "style": "IPY_MODEL_516f0f81d9944ec3ae10b29c72fa3988"
      }
     },
     "a765ebc2eaad49a9b0c7db9545a4f1be": {
      "model_module": "@jupyter-widgets/base",
      "model_module_version": "1.2.0",
      "model_name": "LayoutModel",
      "state": {}
     },
     "a7a0e60faea644f2b3824513fc14338b": {
      "model_module": "@jupyter-widgets/base",
      "model_module_version": "1.2.0",
      "model_name": "LayoutModel",
      "state": {}
     },
     "a8dcb33fdea44ea2879df274c3802b09": {
      "model_module": "@jupyter-widgets/controls",
      "model_module_version": "1.5.0",
      "model_name": "CheckboxModel",
      "state": {
       "description": "checkbox",
       "disabled": false,
       "layout": "IPY_MODEL_9597d9fcd4274f3cb80b87b0da82871c",
       "style": "IPY_MODEL_2452fc570b7c47c8b6d0196950d61eab",
       "value": true
      }
     },
     "a971e6ff2d7b48b9b92eea72e2e2a54c": {
      "model_module": "jupyter-matplotlib",
      "model_module_version": "^0.9.0",
      "model_name": "ToolbarModel",
      "state": {
       "layout": "IPY_MODEL_afbef8fc8a3c4bf5b0aa81d6e9e3f4f9",
       "toolitems": [
        [
         "Home",
         "Reset original view",
         "home",
         "home"
        ],
        [
         "Back",
         "Back to previous view",
         "arrow-left",
         "back"
        ],
        [
         "Forward",
         "Forward to next view",
         "arrow-right",
         "forward"
        ],
        [
         "Pan",
         "Left button pans, Right button zooms\nx/y fixes axis, CTRL fixes aspect",
         "arrows",
         "pan"
        ],
        [
         "Zoom",
         "Zoom to rectangle\nx/y fixes axis, CTRL fixes aspect",
         "square-o",
         "zoom"
        ],
        [
         "Download",
         "Download plot",
         "floppy-o",
         "save_figure"
        ]
       ]
      }
     },
     "aa1485fdb1b84d2783bb0326e7e26c4f": {
      "model_module": "@jupyter-widgets/controls",
      "model_module_version": "1.5.0",
      "model_name": "SliderStyleModel",
      "state": {
       "description_width": ""
      }
     },
     "aaa0834216774779a9633c2d0213222a": {
      "model_module": "@jupyter-widgets/base",
      "model_module_version": "1.2.0",
      "model_name": "LayoutModel",
      "state": {}
     },
     "ab426274c70d45cb8da0afa0a4a86fe3": {
      "model_module": "@jupyter-widgets/base",
      "model_module_version": "1.2.0",
      "model_name": "LayoutModel",
      "state": {}
     },
     "ac3c7a63035f4ed79d4694685c4c2051": {
      "model_module": "@jupyter-widgets/controls",
      "model_module_version": "1.5.0",
      "model_name": "CheckboxModel",
      "state": {
       "description": "x",
       "disabled": false,
       "layout": "IPY_MODEL_cb9395741d4e4050a7276bdd157aeaca",
       "style": "IPY_MODEL_7fb60017591d487a818c8214eb476401",
       "value": true
      }
     },
     "acade02ca94346efb5704ced0cfacf03": {
      "model_module": "@jupyter-widgets/base",
      "model_module_version": "1.2.0",
      "model_name": "LayoutModel",
      "state": {}
     },
     "ae4525758f85415298325a98a97a4ace": {
      "model_module": "@jupyter-widgets/controls",
      "model_module_version": "1.5.0",
      "model_name": "VBoxModel",
      "state": {
       "_dom_classes": [
        "widget-interact"
       ],
       "children": [
        "IPY_MODEL_089005b4eae34014a31da9a407b9be03",
        "IPY_MODEL_932d2b5bb1fe4ea58be01c4601dcdc11",
        "IPY_MODEL_eddb9d4987234da0bf1912876ca863e0",
        "IPY_MODEL_dd7b91ad15ed4b7abfa1dde6f9bb0d08"
       ],
       "layout": "IPY_MODEL_08d05bf8d09a416e9ff5b912c9d39249"
      }
     },
     "ae8d48fdf191454bb95e34cf44a18f1e": {
      "model_module": "@jupyter-widgets/controls",
      "model_module_version": "1.5.0",
      "model_name": "SliderStyleModel",
      "state": {
       "description_width": ""
      }
     },
     "afbef8fc8a3c4bf5b0aa81d6e9e3f4f9": {
      "model_module": "@jupyter-widgets/base",
      "model_module_version": "1.2.0",
      "model_name": "LayoutModel",
      "state": {}
     },
     "b128122c3e9d4d0e870be5f386b2d1c7": {
      "model_module": "@jupyter-widgets/base",
      "model_module_version": "1.2.0",
      "model_name": "LayoutModel",
      "state": {}
     },
     "b49099cae8a345a1b4a53a63cf6e462c": {
      "model_module": "@jupyter-widgets/controls",
      "model_module_version": "1.5.0",
      "model_name": "DescriptionStyleModel",
      "state": {
       "description_width": ""
      }
     },
     "b50607fb66684a31a6a8dede9de67140": {
      "model_module": "@jupyter-widgets/base",
      "model_module_version": "1.2.0",
      "model_name": "LayoutModel",
      "state": {}
     },
     "b6cdecd401914aa692bd20d4aeaaf4dd": {
      "model_module": "@jupyter-widgets/base",
      "model_module_version": "1.2.0",
      "model_name": "LayoutModel",
      "state": {}
     },
     "b869c39f4aed4bfaa07744c908129850": {
      "model_module": "@jupyter-widgets/controls",
      "model_module_version": "1.5.0",
      "model_name": "CheckboxModel",
      "state": {
       "description": "y",
       "disabled": false,
       "layout": "IPY_MODEL_c888cc2627a34c58a75bc5e3fe758f23",
       "style": "IPY_MODEL_b9951c63061c42d1a1decf4e93bcd831",
       "value": true
      }
     },
     "b8c01f9b008f4e4dacb96917e675a6cb": {
      "model_module": "@jupyter-widgets/output",
      "model_module_version": "1.0.0",
      "model_name": "OutputModel",
      "state": {
       "layout": "IPY_MODEL_8f3830e6b8ce495eaf261507e4334ba2",
       "outputs": [
        {
         "data": {
          "text/plain": "(5, True, 'a')"
         },
         "metadata": {},
         "output_type": "display_data"
        }
       ]
      }
     },
     "b9131f6d80f349488f939fe315f9359a": {
      "model_module": "@jupyter-widgets/controls",
      "model_module_version": "1.5.0",
      "model_name": "IntSliderModel",
      "state": {
       "description": "w",
       "layout": "IPY_MODEL_7de61cc734974629abd9173c2e2cdf79",
       "max": 10,
       "style": "IPY_MODEL_963ff556cee141e5be3ac943ab91af4f",
       "value": 3
      }
     },
     "b9951c63061c42d1a1decf4e93bcd831": {
      "model_module": "@jupyter-widgets/controls",
      "model_module_version": "1.5.0",
      "model_name": "DescriptionStyleModel",
      "state": {
       "description_width": ""
      }
     },
     "b9ac16d3daa5491786d49065251dabd4": {
      "model_module": "@jupyter-widgets/base",
      "model_module_version": "1.2.0",
      "model_name": "LayoutModel",
      "state": {}
     },
     "baa6f1f14b034a88a927e4001584ebae": {
      "model_module": "@jupyter-widgets/base",
      "model_module_version": "1.2.0",
      "model_name": "LayoutModel",
      "state": {}
     },
     "c481e5d8bcfb4e29b02e8bf00d08273a": {
      "model_module": "@jupyter-widgets/controls",
      "model_module_version": "1.5.0",
      "model_name": "DropdownModel",
      "state": {
       "_options_labels": [
        "jan",
        "feb",
        "mar",
        "apr"
       ],
       "description": "dropdown",
       "index": 1,
       "layout": "IPY_MODEL_131cfec93f8340cab55b187f1037a6d9",
       "style": "IPY_MODEL_6a0fddb5c5994a0d917f09c058ebe4cb"
      }
     },
     "c68d57289395488d9b750a6715f682b5": {
      "model_module": "@jupyter-widgets/controls",
      "model_module_version": "1.5.0",
      "model_name": "DescriptionStyleModel",
      "state": {
       "description_width": ""
      }
     },
     "c6c27b170587499ea3adbec05fa0250d": {
      "model_module": "@jupyter-widgets/controls",
      "model_module_version": "1.5.0",
      "model_name": "DescriptionStyleModel",
      "state": {
       "description_width": ""
      }
     },
     "c6e93b2bc1654040926dacd9ec75f4f4": {
      "model_module": "@jupyter-widgets/output",
      "model_module_version": "1.0.0",
      "model_name": "OutputModel",
      "state": {
       "layout": "IPY_MODEL_52509f551b6d4312af390d2671ee0a88"
      }
     },
     "c888cc2627a34c58a75bc5e3fe758f23": {
      "model_module": "@jupyter-widgets/base",
      "model_module_version": "1.2.0",
      "model_name": "LayoutModel",
      "state": {}
     },
     "c9046e94402a4bfd8d5ee74c2e726539": {
      "model_module": "@jupyter-widgets/controls",
      "model_module_version": "1.5.0",
      "model_name": "DescriptionStyleModel",
      "state": {
       "description_width": ""
      }
     },
     "ca25327bde564c01a4ae5ae48f4f3cb4": {
      "model_module": "@jupyter-widgets/controls",
      "model_module_version": "1.5.0",
      "model_name": "IntSliderModel",
      "state": {
       "description": "slider",
       "layout": "IPY_MODEL_b6cdecd401914aa692bd20d4aeaaf4dd",
       "max": 10,
       "style": "IPY_MODEL_aa1485fdb1b84d2783bb0326e7e26c4f",
       "value": 5
      }
     },
     "cb9395741d4e4050a7276bdd157aeaca": {
      "model_module": "@jupyter-widgets/base",
      "model_module_version": "1.2.0",
      "model_name": "LayoutModel",
      "state": {}
     },
     "cb9be2ea3de7440b8ad794327fd450b9": {
      "model_module": "@jupyter-widgets/controls",
      "model_module_version": "1.5.0",
      "model_name": "FloatSliderModel",
      "state": {
       "description": "phi",
       "layout": "IPY_MODEL_3ddd26ef20544ec189906487d6a1d841",
       "max": 6.293185307179586,
       "step": 0.01,
       "style": "IPY_MODEL_4e8c805d387248ccbdfc8da89151e21e",
       "value": 1.28
      }
     },
     "cd5a06e44f5742a8ad6604494855b087": {
      "model_module": "@jupyter-widgets/controls",
      "model_module_version": "1.5.0",
      "model_name": "SliderStyleModel",
      "state": {
       "description_width": ""
      }
     },
     "ceab7099aee44bf7b53a424c9b0e0ce3": {
      "model_module": "@jupyter-widgets/base",
      "model_module_version": "1.2.0",
      "model_name": "LayoutModel",
      "state": {}
     },
     "cf45a80337d44013849c6a9f9da2a6b7": {
      "model_module": "@jupyter-widgets/base",
      "model_module_version": "1.2.0",
      "model_name": "LayoutModel",
      "state": {}
     },
     "cf8306d2e49149798dfceb334099df50": {
      "model_module": "@jupyter-widgets/base",
      "model_module_version": "1.2.0",
      "model_name": "LayoutModel",
      "state": {}
     },
     "d10380d9205f465cbcfaae72a1c5e976": {
      "model_module": "@jupyter-widgets/controls",
      "model_module_version": "1.5.0",
      "model_name": "SliderStyleModel",
      "state": {
       "description_width": ""
      }
     },
     "d1b2f64e908246b19c91ea12eff193e4": {
      "model_module": "@jupyter-widgets/controls",
      "model_module_version": "1.5.0",
      "model_name": "IntSliderModel",
      "state": {
       "description": "x",
       "layout": "IPY_MODEL_ceab7099aee44bf7b53a424c9b0e0ce3",
       "max": 10,
       "style": "IPY_MODEL_d24603ac65a246db993100c57330cd66",
       "value": 8
      }
     },
     "d24603ac65a246db993100c57330cd66": {
      "model_module": "@jupyter-widgets/controls",
      "model_module_version": "1.5.0",
      "model_name": "SliderStyleModel",
      "state": {
       "description_width": ""
      }
     },
     "d41ac76edf4e4de392e79cad3de19f85": {
      "model_module": "@jupyter-widgets/base",
      "model_module_version": "1.2.0",
      "model_name": "LayoutModel",
      "state": {}
     },
     "d453b0574e21445d988eae68834a34c1": {
      "model_module": "@jupyter-widgets/base",
      "model_module_version": "1.2.0",
      "model_name": "LayoutModel",
      "state": {}
     },
     "d585e04a4a574e429971bb84f354ba68": {
      "model_module": "@jupyter-widgets/controls",
      "model_module_version": "1.5.0",
      "model_name": "DropdownModel",
      "state": {
       "_options_labels": [
        "0",
        "1",
        "2",
        "3"
       ],
       "description": "x",
       "index": 0,
       "layout": "IPY_MODEL_e63e15f54ab545c29e4720ccd9ed6770",
       "style": "IPY_MODEL_69b90f3b7e454a34a7dba61e1da97e14"
      }
     },
     "d606b76eac2e4deb96a8bfc021d05fbc": {
      "model_module": "@jupyter-widgets/output",
      "model_module_version": "1.0.0",
      "model_name": "OutputModel",
      "state": {
       "layout": "IPY_MODEL_3593cae1348a4ccf87775976d11cc5ca",
       "outputs": [
        {
         "name": "stdout",
         "output_type": "stream",
         "text": "Widget says: True\n"
        }
       ]
      }
     },
     "d67ea1ab563340098efab608c2c13f0f": {
      "model_module": "@jupyter-widgets/base",
      "model_module_version": "1.2.0",
      "model_name": "LayoutModel",
      "state": {}
     },
     "d765b497f81d4d4585acd7cf9ce79d69": {
      "model_module": "jupyter-matplotlib",
      "model_module_version": "^0.9.0",
      "model_name": "ToolbarModel",
      "state": {
       "layout": "IPY_MODEL_a7a0e60faea644f2b3824513fc14338b",
       "toolitems": [
        [
         "Home",
         "Reset original view",
         "home",
         "home"
        ],
        [
         "Back",
         "Back to previous view",
         "arrow-left",
         "back"
        ],
        [
         "Forward",
         "Forward to next view",
         "arrow-right",
         "forward"
        ],
        [
         "Pan",
         "Left button pans, Right button zooms\nx/y fixes axis, CTRL fixes aspect",
         "arrows",
         "pan"
        ],
        [
         "Zoom",
         "Zoom to rectangle\nx/y fixes axis, CTRL fixes aspect",
         "square-o",
         "zoom"
        ],
        [
         "Download",
         "Download plot",
         "floppy-o",
         "save_figure"
        ]
       ]
      }
     },
     "dbf022c1bd184419a1f7cf95dfd64341": {
      "model_module": "@jupyter-widgets/base",
      "model_module_version": "1.2.0",
      "model_name": "LayoutModel",
      "state": {}
     },
     "dbfebe553fc548f3b387741709308e4d": {
      "model_module": "@jupyter-widgets/base",
      "model_module_version": "1.2.0",
      "model_name": "LayoutModel",
      "state": {}
     },
     "dd7b91ad15ed4b7abfa1dde6f9bb0d08": {
      "model_module": "@jupyter-widgets/output",
      "model_module_version": "1.0.0",
      "model_name": "OutputModel",
      "state": {
       "layout": "IPY_MODEL_e01381bcf33b43e3bdc588a85618d9f1"
      }
     },
     "ddd2dfbfd29140e39f73343ef0212c09": {
      "model_module": "@jupyter-widgets/controls",
      "model_module_version": "1.5.0",
      "model_name": "IntSliderModel",
      "state": {
       "layout": "IPY_MODEL_b9ac16d3daa5491786d49065251dabd4",
       "max": 10,
       "style": "IPY_MODEL_534b53d16c444c54b45993509e3b49f4",
       "value": 6
      }
     },
     "e01381bcf33b43e3bdc588a85618d9f1": {
      "model_module": "@jupyter-widgets/base",
      "model_module_version": "1.2.0",
      "model_name": "LayoutModel",
      "state": {}
     },
     "e1fdf9e24464456fbe7ff5f3359102de": {
      "model_module": "@jupyter-widgets/controls",
      "model_module_version": "1.5.0",
      "model_name": "IntSliderModel",
      "state": {
       "description": "x",
       "layout": "IPY_MODEL_eafe21832508412789ddc0a574c857d2",
       "max": 10,
       "style": "IPY_MODEL_3331bf48492049eda55dca702b83b2de",
       "value": 5
      }
     },
     "e2e63118ed574b7fa9978b7a3576ec43": {
      "model_module": "@jupyter-widgets/controls",
      "model_module_version": "1.5.0",
      "model_name": "VBoxModel",
      "state": {
       "_dom_classes": [
        "widget-interact"
       ],
       "children": [
        "IPY_MODEL_b9131f6d80f349488f939fe315f9359a",
        "IPY_MODEL_6eb4327dc5564f97bc368107b47569ec",
        "IPY_MODEL_cb9be2ea3de7440b8ad794327fd450b9",
        "IPY_MODEL_c6e93b2bc1654040926dacd9ec75f4f4"
       ],
       "layout": "IPY_MODEL_58787f6e898e41f098b8d56a9e611f77"
      }
     },
     "e63e15f54ab545c29e4720ccd9ed6770": {
      "model_module": "@jupyter-widgets/base",
      "model_module_version": "1.2.0",
      "model_name": "LayoutModel",
      "state": {}
     },
     "e68c5ce646bb4e08960263a1b1310c5e": {
      "model_module": "@jupyter-widgets/controls",
      "model_module_version": "1.5.0",
      "model_name": "IntSliderModel",
      "state": {
       "description": "x",
       "layout": "IPY_MODEL_286b2cd5fe6b47df8164092ec6d8bc82",
       "max": 10,
       "style": "IPY_MODEL_55688541822840a088abab7fce06ee37",
       "value": 5
      }
     },
     "e81c04e17a864d03969009e7708e2a49": {
      "model_module": "@jupyter-widgets/controls",
      "model_module_version": "1.5.0",
      "model_name": "HTMLModel",
      "state": {
       "layout": "IPY_MODEL_4d37822a490341d7b5915cc34de6bf71",
       "style": "IPY_MODEL_b49099cae8a345a1b4a53a63cf6e462c",
       "value": "<b>Formatted</b> <font color=\"red\">html</font>"
      }
     },
     "eafe21832508412789ddc0a574c857d2": {
      "model_module": "@jupyter-widgets/base",
      "model_module_version": "1.2.0",
      "model_name": "LayoutModel",
      "state": {}
     },
     "eddb9d4987234da0bf1912876ca863e0": {
      "model_module": "@jupyter-widgets/controls",
      "model_module_version": "1.5.0",
      "model_name": "FloatSliderModel",
      "state": {
       "description": "phi",
       "layout": "IPY_MODEL_0a59bb737e2c44dcb808d594530a2079",
       "max": 6.293185307179586,
       "step": 0.01,
       "style": "IPY_MODEL_440efd0e71114148ba56970ee8069f90",
       "value": 2.72
      }
     },
     "ee4699a571584d70a9aa68d0321e528b": {
      "model_module": "@jupyter-widgets/output",
      "model_module_version": "1.0.0",
      "model_name": "OutputModel",
      "state": {
       "layout": "IPY_MODEL_dbf022c1bd184419a1f7cf95dfd64341",
       "outputs": [
        {
         "name": "stdout",
         "output_type": "stream",
         "text": "Widget says: 8\n"
        }
       ]
      }
     },
     "fbbd7d2d20334a8b8e7b276c3b053245": {
      "model_module": "@jupyter-widgets/controls",
      "model_module_version": "1.5.0",
      "model_name": "DescriptionStyleModel",
      "state": {
       "description_width": ""
      }
     },
     "fde6faacc7864c6f888fbcc533489572": {
      "model_module": "@jupyter-widgets/controls",
      "model_module_version": "1.5.0",
      "model_name": "VBoxModel",
      "state": {
       "_dom_classes": [
        "widget-interact"
       ],
       "children": [
        "IPY_MODEL_ac3c7a63035f4ed79d4694685c4c2051",
        "IPY_MODEL_d606b76eac2e4deb96a8bfc021d05fbc"
       ],
       "layout": "IPY_MODEL_2dcd559e6e594937a84bfe266d8723a8"
      }
     },
     "ffb00772fe9c412fab1c7456a63f8eba": {
      "model_module": "@jupyter-widgets/controls",
      "model_module_version": "1.5.0",
      "model_name": "VBoxModel",
      "state": {
       "_dom_classes": [
        "widget-interact"
       ],
       "children": [
        "IPY_MODEL_673bf7fdad7445a9ad243306241f9ec0",
        "IPY_MODEL_400b446ad3e24712970d6a329cd8db73",
        "IPY_MODEL_5d2c8e052cbb4e738f73ae93cb8a613c"
       ],
       "layout": "IPY_MODEL_03a6802ce7d246348c89eeb6cc8853a7"
      }
     }
    },
    "version_major": 2,
    "version_minor": 0
   }
  }
 },
 "nbformat": 4,
 "nbformat_minor": 5
}
