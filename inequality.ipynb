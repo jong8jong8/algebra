{
 "cells": [
  {
   "cell_type": "code",
   "execution_count": 4,
   "id": "0349e72a-1c0d-4b01-b034-4b57bff9adb5",
   "metadata": {},
   "outputs": [
    {
     "data": {
      "text/latex": [
       "$\\displaystyle 0 < x$"
      ],
      "text/plain": [
       "0 < x"
      ]
     },
     "execution_count": 4,
     "metadata": {},
     "output_type": "execute_result"
    }
   ],
   "source": [
    "import sympy as sy\n",
    "x, y = sy.symbols('x,y', real=True)\n",
    "sy.solve(x - 1 < 2*x - 1, x)"
   ]
  },
  {
   "cell_type": "code",
   "execution_count": 5,
   "id": "fb7b34b1-e8a9-49a7-ad7a-43d4a3ef714b",
   "metadata": {},
   "outputs": [
    {
     "data": {
      "text/latex": [
       "$\\displaystyle 2 < x \\vee x < -2$"
      ],
      "text/plain": [
       "(2 < x) | (x < -2)"
      ]
     },
     "execution_count": 5,
     "metadata": {},
     "output_type": "execute_result"
    }
   ],
   "source": [
    "sy.solve_univariate_inequality(x**2 > 4, x)"
   ]
  },
  {
   "cell_type": "code",
   "execution_count": 6,
   "id": "05570f47-1afd-4cf7-9dd8-1fc9a80f114a",
   "metadata": {},
   "outputs": [
    {
     "data": {
      "text/latex": [
       "$\\displaystyle 2 < x \\vee x < -2$"
      ],
      "text/plain": [
       "(2 < x) | (x < -2)"
      ]
     },
     "execution_count": 6,
     "metadata": {},
     "output_type": "execute_result"
    }
   ],
   "source": [
    "sy.solve(x**2 > 4, x)"
   ]
  },
  {
   "cell_type": "code",
   "execution_count": null,
   "id": "d804814a-3c3a-414e-b5a8-cb9e7f38b95f",
   "metadata": {},
   "outputs": [],
   "source": []
  }
 ],
 "metadata": {
  "kernelspec": {
   "display_name": "Python 3",
   "language": "python",
   "name": "python3"
  },
  "language_info": {
   "codemirror_mode": {
    "name": "ipython",
    "version": 3
   },
   "file_extension": ".py",
   "mimetype": "text/x-python",
   "name": "python",
   "nbconvert_exporter": "python",
   "pygments_lexer": "ipython3",
   "version": "3.8.5"
  }
 },
 "nbformat": 4,
 "nbformat_minor": 5
}
