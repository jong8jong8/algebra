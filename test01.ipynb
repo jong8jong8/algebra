{
 "cells": [
  {
   "cell_type": "code",
   "execution_count": 1,
   "id": "44e7d2df-1a7f-4418-88e7-6121f84190cd",
   "metadata": {},
   "outputs": [],
   "source": [
    "import matplotlib.pyplot as plt"
   ]
  },
  {
   "cell_type": "code",
   "execution_count": 4,
   "id": "65709e72-869f-4c9d-b577-cc2f05b99036",
   "metadata": {},
   "outputs": [
    {
     "data": {
      "text/plain": [
       "<matplotlib.collections.PathCollection at 0x10231f70>"
      ]
     },
     "execution_count": 4,
     "metadata": {},
     "output_type": "execute_result"
    },
    {
     "data": {
      "image/png": "[encoded data removed]",
      "text/plain": [
       "<Figure size 576x396 with 1 Axes>"
      ]
     },
     "metadata": {},
     "output_type": "display_data"
    }
   ],
   "source": [
    "x_values = [1, 2, 3, 4, 5]\n",
    "y_values = [2, 4, 6, 8, 10]\n",
    "plt.style.use('seaborn')\n",
    "fig, ax = plt.subplots()\n",
    "#ax.plot(x_values, y_values)\n",
    "ax.scatter(x_values, y_values)"
   ]
  },
  {
   "cell_type": "code",
   "execution_count": 5,
   "id": "123fe95a-5928-4875-9961-341ae82a4b5b",
   "metadata": {},
   "outputs": [],
   "source": [
    "import sympy as sy"
   ]
  },
  {
   "cell_type": "code",
   "execution_count": 6,
   "id": "96884fff-7769-4b2e-a705-48659cfe129d",
   "metadata": {},
   "outputs": [
    {
     "data": {
      "text/latex": [
       "$\\displaystyle \\sqrt[3]{3}$"
      ],
      "text/plain": [
       "3**(1/3)"
      ]
     },
     "execution_count": 6,
     "metadata": {},
     "output_type": "execute_result"
    }
   ],
   "source": [
    "sy.cbrt(3)"
   ]
  },
  {
   "cell_type": "code",
   "execution_count": 15,
   "id": "bfe2b794-793c-41bf-9db1-8127d4debece",
   "metadata": {},
   "outputs": [],
   "source": [
    "x, y = sy.symbols('x, y', real=True)"
   ]
  },
  {
   "cell_type": "code",
   "execution_count": 19,
   "id": "551ac13c-d291-47ff-b322-3ea13da838b0",
   "metadata": {},
   "outputs": [],
   "source": [
    "expr = x**(sy.Rational(1,3))"
   ]
  },
  {
   "cell_type": "code",
   "execution_count": 20,
   "id": "88dddba3-8cc2-491c-be12-865c30f51d46",
   "metadata": {},
   "outputs": [
    {
     "data": {
      "text/latex": [
       "$\\displaystyle \\sqrt[3]{x}$"
      ],
      "text/plain": [
       "x**(1/3)"
      ]
     },
     "execution_count": 20,
     "metadata": {},
     "output_type": "execute_result"
    }
   ],
   "source": [
    "expr"
   ]
  },
  {
   "cell_type": "code",
   "execution_count": 22,
   "id": "81bb7927-71bc-45e2-8efb-2386d02d6f0c",
   "metadata": {},
   "outputs": [
    {
     "data": {
      "text/latex": [
       "$\\displaystyle 9 \\sqrt{2} y^{2} \\sqrt{x^{5}}$"
      ],
      "text/plain": [
       "9*sqrt(2)*y**2*sqrt(x**5)"
      ]
     },
     "execution_count": 22,
     "metadata": {},
     "output_type": "execute_result"
    }
   ],
   "source": [
    "sy.simplify(sy.sqrt(162*x**5*y**4))"
   ]
  },
  {
   "cell_type": "code",
   "execution_count": null,
   "id": "d1f3bd0d-d6bd-4e45-b652-491d3fee63e6",
   "metadata": {},
   "outputs": [],
   "source": []
  }
 ],
 "metadata": {
  "kernelspec": {
   "display_name": "Python 3",
   "language": "python",
   "name": "python3"
  },
  "language_info": {
   "codemirror_mode": {
    "name": "ipython",
    "version": 3
   },
   "file_extension": ".py",
   "mimetype": "text/x-python",
   "name": "python",
   "nbconvert_exporter": "python",
   "pygments_lexer": "ipython3",
   "version": "3.8.5"
  }
 },
 "nbformat": 4,
 "nbformat_minor": 5
}
