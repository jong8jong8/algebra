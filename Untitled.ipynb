{
 "cells": [
  {
   "cell_type": "code",
   "execution_count": 53,
   "id": "7bc50ecb-6ae6-450a-b4ae-13dceffa93d7",
   "metadata": {},
   "outputs": [],
   "source": [
    "from sympy import symbols, Eq, solveset"
   ]
  },
  {
   "cell_type": "code",
   "execution_count": 52,
   "id": "ed5ad66e-05ea-4cf5-8b7f-a5329c6f47bc",
   "metadata": {},
   "outputs": [],
   "source": [
    "x = symbols('x')"
   ]
  },
  {
   "cell_type": "code",
   "execution_count": null,
   "id": "89884845-a0b8-48a8-85fd-add1ee17bbe2",
   "metadata": {},
   "outputs": [],
   "source": [
    "expr = Eq( 4*(x -3) + 12, 15 )"
   ]
  }
 ],
 "metadata": {
  "kernelspec": {
   "display_name": "Python 3",
   "language": "python",
   "name": "python3"
  },
  "language_info": {
   "codemirror_mode": {
    "name": "ipython",
    "version": 3
   },
   "file_extension": ".py",
   "mimetype": "text/x-python",
   "name": "python",
   "nbconvert_exporter": "python",
   "pygments_lexer": "ipython3",
   "version": "3.8.5"
  }
 },
 "nbformat": 4,
 "nbformat_minor": 5
}
