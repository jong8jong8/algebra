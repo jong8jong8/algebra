{
 "cells": [
  {
   "cell_type": "code",
   "execution_count": 21,
   "id": "75183a4a-9c0a-4120-bec4-95749a87ae1c",
   "metadata": {},
   "outputs": [],
   "source": [
    "from sympy import symbols, sqrt, S, simplify"
   ]
  },
  {
   "cell_type": "code",
   "execution_count": 22,
   "id": "3891c3fd-c706-452b-9383-74c84029216f",
   "metadata": {},
   "outputs": [],
   "source": [
    "x = symbols('x')"
   ]
  },
  {
   "cell_type": "code",
   "execution_count": 23,
   "id": "ada92632-b8fa-4aaa-9ed1-b2f872a3dabb",
   "metadata": {},
   "outputs": [],
   "source": [
    "f = x**3 + 1"
   ]
  },
  {
   "cell_type": "code",
   "execution_count": 24,
   "id": "54b8fe92-0406-4dc2-98c2-97e797a6fed3",
   "metadata": {},
   "outputs": [],
   "source": [
    "i = sqrt(-1)"
   ]
  },
  {
   "cell_type": "code",
   "execution_count": 25,
   "id": "cd458aba-35d1-4b18-9e52-842df5d2f058",
   "metadata": {},
   "outputs": [
    {
     "data": {
      "text/latex": [
       "$\\displaystyle \\frac{1}{2}$"
      ],
      "text/plain": [
       "1/2"
      ]
     },
     "execution_count": 25,
     "metadata": {},
     "output_type": "execute_result"
    }
   ],
   "source": [
    "a = 1/S(2)\n",
    "a"
   ]
  },
  {
   "cell_type": "code",
   "execution_count": 26,
   "id": "f3e37d73-d672-4fc2-a4f6-a5f0f70fb3f9",
   "metadata": {},
   "outputs": [
    {
     "data": {
      "text/latex": [
       "$\\displaystyle \\frac{\\sqrt{3}}{2}$"
      ],
      "text/plain": [
       "sqrt(3)/2"
      ]
     },
     "execution_count": 26,
     "metadata": {},
     "output_type": "execute_result"
    }
   ],
   "source": [
    "b = sqrt(3)/ 2\n",
    "b"
   ]
  },
  {
   "cell_type": "code",
   "execution_count": 27,
   "id": "98e44ab2-c86b-44e2-83d0-eba97f4d45bf",
   "metadata": {},
   "outputs": [
    {
     "data": {
      "text/latex": [
       "$\\displaystyle \\frac{1}{2} + \\frac{\\sqrt{3} i}{2}$"
      ],
      "text/plain": [
       "1/2 + sqrt(3)*I/2"
      ]
     },
     "execution_count": 27,
     "metadata": {},
     "output_type": "execute_result"
    }
   ],
   "source": [
    "sol = a + b*i\n",
    "sol"
   ]
  },
  {
   "cell_type": "code",
   "execution_count": 28,
   "id": "69129001-4763-4d18-af4a-79a5bf49d087",
   "metadata": {},
   "outputs": [
    {
     "data": {
      "text/latex": [
       "$\\displaystyle 1 + \\left(\\frac{1}{2} + \\frac{\\sqrt{3} i}{2}\\right)^{3}$"
      ],
      "text/plain": [
       "1 + (1/2 + sqrt(3)*I/2)**3"
      ]
     },
     "execution_count": 28,
     "metadata": {},
     "output_type": "execute_result"
    }
   ],
   "source": [
    "f.subs(x, sol)"
   ]
  },
  {
   "cell_type": "code",
   "execution_count": 29,
   "id": "d3735c96-b28b-40fe-92b6-a3435b0cfc8b",
   "metadata": {},
   "outputs": [
    {
     "data": {
      "text/latex": [
       "$\\displaystyle 0$"
      ],
      "text/plain": [
       "0"
      ]
     },
     "execution_count": 29,
     "metadata": {},
     "output_type": "execute_result"
    }
   ],
   "source": [
    "simplify( f.subs(x, sol) )"
   ]
  },
  {
   "cell_type": "code",
   "execution_count": 30,
   "id": "dfe8d94d-fb59-4331-b0e7-c40466b2e74f",
   "metadata": {},
   "outputs": [
    {
     "data": {
      "text/latex": [
       "$\\displaystyle \\frac{1}{2} - \\frac{\\sqrt{3} i}{2}$"
      ],
      "text/plain": [
       "1/2 - sqrt(3)*I/2"
      ]
     },
     "execution_count": 30,
     "metadata": {},
     "output_type": "execute_result"
    }
   ],
   "source": [
    "sol_conjugate = a - b*i\n",
    "sol_conjugate"
   ]
  },
  {
   "cell_type": "code",
   "execution_count": 31,
   "id": "5332652e-1476-4b7f-8896-84743426c2e2",
   "metadata": {},
   "outputs": [
    {
     "data": {
      "text/latex": [
       "$\\displaystyle 0$"
      ],
      "text/plain": [
       "0"
      ]
     },
     "execution_count": 31,
     "metadata": {},
     "output_type": "execute_result"
    }
   ],
   "source": [
    "simplify( f.subs(x, sol_conjugate) )"
   ]
  },
  {
   "cell_type": "code",
   "execution_count": null,
   "id": "1ee45ae2-b9e4-4fef-8a04-77adbf660ca6",
   "metadata": {},
   "outputs": [],
   "source": []
  }
 ],
 "metadata": {
  "kernelspec": {
   "display_name": "Python 3 (ipykernel)",
   "language": "python",
   "name": "python3"
  },
  "language_info": {
   "codemirror_mode": {
    "name": "ipython",
    "version": 3
   },
   "file_extension": ".py",
   "mimetype": "text/x-python",
   "name": "python",
   "nbconvert_exporter": "python",
   "pygments_lexer": "ipython3",
   "version": "3.9.6"
  },
  "widgets": {
   "application/vnd.jupyter.widget-state+json": {
    "state": {
     "0d6cba28b6f24ba980ebc9a9ca20caef": {
      "model_module": "jupyter-matplotlib",
      "model_module_version": "^0.9.0",
      "model_name": "MPLCanvasModel",
      "state": {
       "_cursor": "default",
       "_figure_label": "Figure 1",
       "_height": 550,
       "_width": 800,
       "layout": "IPY_MODEL_ae34fc708c734179a294e7bb743bae28",
       "toolbar": "IPY_MODEL_1bcf56a2783d4ad98c54c1051203f76a",
       "toolbar_position": "left"
      }
     },
     "1bcf56a2783d4ad98c54c1051203f76a": {
      "model_module": "jupyter-matplotlib",
      "model_module_version": "^0.9.0",
      "model_name": "ToolbarModel",
      "state": {
       "layout": "IPY_MODEL_c47f7688e2e0473482d095e48d1d9485",
       "toolitems": [
        [
         "Home",
         "Reset original view",
         "home",
         "home"
        ],
        [
         "Back",
         "Back to previous view",
         "arrow-left",
         "back"
        ],
        [
         "Forward",
         "Forward to next view",
         "arrow-right",
         "forward"
        ],
        [
         "Pan",
         "Left button pans, Right button zooms\nx/y fixes axis, CTRL fixes aspect",
         "arrows",
         "pan"
        ],
        [
         "Zoom",
         "Zoom to rectangle\nx/y fixes axis, CTRL fixes aspect",
         "square-o",
         "zoom"
        ],
        [
         "Download",
         "Download plot",
         "floppy-o",
         "save_figure"
        ]
       ]
      }
     },
     "ae34fc708c734179a294e7bb743bae28": {
      "model_module": "@jupyter-widgets/base",
      "model_module_version": "1.2.0",
      "model_name": "LayoutModel",
      "state": {}
     },
     "c47f7688e2e0473482d095e48d1d9485": {
      "model_module": "@jupyter-widgets/base",
      "model_module_version": "1.2.0",
      "model_name": "LayoutModel",
      "state": {}
     }
    },
    "version_major": 2,
    "version_minor": 0
   }
  }
 },
 "nbformat": 4,
 "nbformat_minor": 5
}
