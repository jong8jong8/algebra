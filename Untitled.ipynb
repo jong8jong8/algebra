{
 "cells": [
  {
   "cell_type": "code",
   "execution_count": 45,
   "id": "a9e54561-bced-4c81-9a8e-7feb05f8ff96",
   "metadata": {},
   "outputs": [],
   "source": [
    "from sympy import symbols, Eq, linsolve"
   ]
  },
  {
   "cell_type": "code",
   "execution_count": 44,
   "id": "12970a1e-992f-423f-aabe-2da925558da1",
   "metadata": {},
   "outputs": [],
   "source": [
    "x, y = symbols('x, y')"
   ]
  },
  {
   "cell_type": "code",
   "execution_count": 50,
   "id": "43e0ebab-0c1e-44cf-b9ee-ddc0eb9f9d6d",
   "metadata": {},
   "outputs": [],
   "source": [
    "eq1 = Eq(x + 3*y, 2)\n",
    "eq2 = Eq(3*x + 9*y, 6)"
   ]
  },
  {
   "cell_type": "code",
   "execution_count": 51,
   "id": "bf082b5c-11c5-450c-a9cc-5b38b34739f3",
   "metadata": {},
   "outputs": [
    {
     "data": {
      "text/latex": [
       "$\\displaystyle \\left\\{\\left( 2 - 3 y, \\  y\\right)\\right\\}$"
      ],
      "text/plain": [
       "FiniteSet((2 - 3*y, y))"
      ]
     },
     "execution_count": 51,
     "metadata": {},
     "output_type": "execute_result"
    }
   ],
   "source": [
    "linsolve([eq1, eq2], (x, y))"
   ]
  },
  {
   "cell_type": "code",
   "execution_count": null,
   "id": "031e7a5b-14b1-4ecf-87eb-d7de39f69cbd",
   "metadata": {},
   "outputs": [],
   "source": []
  }
 ],
 "metadata": {
  "kernelspec": {
   "display_name": "Python 3 (ipykernel)",
   "language": "python",
   "name": "python3"
  },
  "language_info": {
   "codemirror_mode": {
    "name": "ipython",
    "version": 3
   },
   "file_extension": ".py",
   "mimetype": "text/x-python",
   "name": "python",
   "nbconvert_exporter": "python",
   "pygments_lexer": "ipython3",
   "version": "3.9.6"
  },
  "widgets": {
   "application/vnd.jupyter.widget-state+json": {
    "state": {
     "02ba1d4aa3ea4fac88185d397d1ba417": {
      "model_module": "@jupyter-widgets/base",
      "model_module_version": "1.2.0",
      "model_name": "LayoutModel",
      "state": {}
     },
     "17c91d6e24a54399a5fc162824d786b2": {
      "model_module": "jupyter-matplotlib",
      "model_module_version": "^0.9.0",
      "model_name": "ToolbarModel",
      "state": {
       "layout": "IPY_MODEL_4ea4372740744749a3a78a991dae4015",
       "toolitems": [
        [
         "Home",
         "Reset original view",
         "home",
         "home"
        ],
        [
         "Back",
         "Back to previous view",
         "arrow-left",
         "back"
        ],
        [
         "Forward",
         "Forward to next view",
         "arrow-right",
         "forward"
        ],
        [
         "Pan",
         "Left button pans, Right button zooms\nx/y fixes axis, CTRL fixes aspect",
         "arrows",
         "pan"
        ],
        [
         "Zoom",
         "Zoom to rectangle\nx/y fixes axis, CTRL fixes aspect",
         "square-o",
         "zoom"
        ],
        [
         "Download",
         "Download plot",
         "floppy-o",
         "save_figure"
        ]
       ]
      }
     },
     "4ea4372740744749a3a78a991dae4015": {
      "model_module": "@jupyter-widgets/base",
      "model_module_version": "1.2.0",
      "model_name": "LayoutModel",
      "state": {}
     },
     "5fa15e0a1be142ce88f2b0dd5b0dcd50": {
      "model_module": "@jupyter-widgets/base",
      "model_module_version": "1.2.0",
      "model_name": "LayoutModel",
      "state": {}
     },
     "81f9d0b9999e4c408317a578914232cd": {
      "model_module": "jupyter-matplotlib",
      "model_module_version": "^0.9.0",
      "model_name": "MPLCanvasModel",
      "state": {
       "_cursor": "default",
       "_figure_label": "Figure 1",
       "_height": 480,
       "_width": 640,
       "layout": "IPY_MODEL_5fa15e0a1be142ce88f2b0dd5b0dcd50",
       "toolbar": "IPY_MODEL_17c91d6e24a54399a5fc162824d786b2",
       "toolbar_position": "left"
      }
     },
     "8e7f7a8e651d4148a9e641864773cb9f": {
      "model_module": "jupyter-matplotlib",
      "model_module_version": "^0.9.0",
      "model_name": "ToolbarModel",
      "state": {
       "layout": "IPY_MODEL_df34a80b5ff24b8d95a79801c44a7f71",
       "toolitems": [
        [
         "Home",
         "Reset original view",
         "home",
         "home"
        ],
        [
         "Back",
         "Back to previous view",
         "arrow-left",
         "back"
        ],
        [
         "Forward",
         "Forward to next view",
         "arrow-right",
         "forward"
        ],
        [
         "Pan",
         "Left button pans, Right button zooms\nx/y fixes axis, CTRL fixes aspect",
         "arrows",
         "pan"
        ],
        [
         "Zoom",
         "Zoom to rectangle\nx/y fixes axis, CTRL fixes aspect",
         "square-o",
         "zoom"
        ],
        [
         "Download",
         "Download plot",
         "floppy-o",
         "save_figure"
        ]
       ]
      }
     },
     "df34a80b5ff24b8d95a79801c44a7f71": {
      "model_module": "@jupyter-widgets/base",
      "model_module_version": "1.2.0",
      "model_name": "LayoutModel",
      "state": {}
     }
    },
    "version_major": 2,
    "version_minor": 0
   }
  }
 },
 "nbformat": 4,
 "nbformat_minor": 5
}
