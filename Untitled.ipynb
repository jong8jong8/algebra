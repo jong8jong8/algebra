{
 "cells": [
  {
   "cell_type": "code",
   "execution_count": 64,
   "id": "fc6b01de-60ce-49fa-92c4-a936fe7546de",
   "metadata": {},
   "outputs": [
    {
     "data": {
      "application/vnd.jupyter.widget-view+json": {
       "model_id": "92dc87578bbb450993afc27d700ee18f",
       "version_major": 2,
       "version_minor": 0
      },
      "text/plain": [
       "Canvas(toolbar=Toolbar(toolitems=[('Home', 'Reset original view', 'home', 'home'), ('Back', 'Back to previous …"
      ]
     },
     "metadata": {},
     "output_type": "display_data"
    },
    {
     "data": {
      "text/plain": [
       "Text(0.5, 1.0, '$y = f(x) = \\\\sqrt{4 - x^2}$ and its transformations')"
      ]
     },
     "execution_count": 64,
     "metadata": {},
     "output_type": "execute_result"
    }
   ],
   "source": [
    "# Example 20\n",
    "\n",
    "%matplotlib widget\n",
    "import matplotlib.pyplot as plt\n",
    "import numpy as np\n",
    "\n",
    "x0 = np.arange(-2, 2, 0.0001)\n",
    "y0 = np.sqrt(4 - x0**2)\n",
    "\n",
    "x1 = np.arange(-4, 4, 0.0001)\n",
    "y1 = np.sqrt( 4 - (0.5*x1)**2 )\n",
    "\n",
    "x2 = np.arange(-6, 2, 0.0001)\n",
    "y2 = np.sqrt( 4 - (0.5*(x2 + 2))**2 )\n",
    "\n",
    "x3 = np.arange(-6, 2, 0.0001)\n",
    "y3 = np.sqrt( 4 - (0.5*(x2 + 2))**2 ) - 3\n",
    "\n",
    "plt.style.use('seaborn')\n",
    "fig, ax = plt.subplots()\n",
    "ax.plot(x0, y0, x1, y1, 'g', x2, y2, 'b', x3, y3, 'r')\n",
    "ax.axis('equal')\n",
    "ax.legend(labels=('$y = \\sqrt{4 - (x)^2}$', '$y = \\sqrt{4 - (0.5x)^2}$', '$y = \\sqrt{4 - (0.5(x+2))^2} = \\sqrt{4 - (0.5x + 1)^2}$', '$y = \\sqrt{4 - (0.5(x+2))^2} - 3 = \\sqrt{4 - (0.5x + 1)^2} - 3$'), loc='upper left')\n",
    "plt.xlim(-8, 8)\n",
    "plt.ylim(-10, 13)\n",
    "plt.title('$y = f(x) = \\sqrt{4 - x^2}$ and its transformations')\n"
   ]
  },
  {
   "cell_type": "code",
   "execution_count": null,
   "id": "f032e119-be4c-454b-9020-4db64cb24b29",
   "metadata": {},
   "outputs": [],
   "source": []
  }
 ],
 "metadata": {
  "kernelspec": {
   "display_name": "Python 3 (ipykernel)",
   "language": "python",
   "name": "python3"
  },
  "language_info": {
   "codemirror_mode": {
    "name": "ipython",
    "version": 3
   },
   "file_extension": ".py",
   "mimetype": "text/x-python",
   "name": "python",
   "nbconvert_exporter": "python",
   "pygments_lexer": "ipython3",
   "version": "3.9.6"
  },
  "widgets": {
   "application/vnd.jupyter.widget-state+json": {
    "state": {
     "5ef0973e793445519cace1c53ad76cb7": {
      "model_module": "@jupyter-widgets/base",
      "model_module_version": "1.2.0",
      "model_name": "LayoutModel",
      "state": {}
     },
     "648a551d53e6445396daf67de0472309": {
      "model_module": "jupyter-matplotlib",
      "model_module_version": "^0.9.0",
      "model_name": "ToolbarModel",
      "state": {
       "layout": "IPY_MODEL_b248cdf95efd4e98b69726b06d78e24b",
       "toolitems": [
        [
         "Home",
         "Reset original view",
         "home",
         "home"
        ],
        [
         "Back",
         "Back to previous view",
         "arrow-left",
         "back"
        ],
        [
         "Forward",
         "Forward to next view",
         "arrow-right",
         "forward"
        ],
        [
         "Pan",
         "Left button pans, Right button zooms\nx/y fixes axis, CTRL fixes aspect",
         "arrows",
         "pan"
        ],
        [
         "Zoom",
         "Zoom to rectangle\nx/y fixes axis, CTRL fixes aspect",
         "square-o",
         "zoom"
        ],
        [
         "Download",
         "Download plot",
         "floppy-o",
         "save_figure"
        ]
       ]
      }
     },
     "92dc87578bbb450993afc27d700ee18f": {
      "model_module": "jupyter-matplotlib",
      "model_module_version": "^0.9.0",
      "model_name": "MPLCanvasModel",
      "state": {
       "_cursor": "default",
       "_figure_label": "Figure 1",
       "_height": 550,
       "_width": 800,
       "layout": "IPY_MODEL_5ef0973e793445519cace1c53ad76cb7",
       "toolbar": "IPY_MODEL_648a551d53e6445396daf67de0472309",
       "toolbar_position": "left"
      }
     },
     "b248cdf95efd4e98b69726b06d78e24b": {
      "model_module": "@jupyter-widgets/base",
      "model_module_version": "1.2.0",
      "model_name": "LayoutModel",
      "state": {}
     }
    },
    "version_major": 2,
    "version_minor": 0
   }
  }
 },
 "nbformat": 4,
 "nbformat_minor": 5
}
