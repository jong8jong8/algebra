{
 "cells": [
  {
   "cell_type": "code",
   "execution_count": 20,
   "id": "1a795580-8d44-4a3a-b76b-d0902ae6ca32",
   "metadata": {},
   "outputs": [
    {
     "name": "stdout",
     "output_type": "stream",
     "text": [
      "[[1.         0.95092338]\n",
      " [0.95092338 1.        ]]\n",
      "0.9509233781433042\n"
     ]
    }
   ],
   "source": [
    "import numpy as np\n",
    "\n",
    "x = np.array([44, 35, 20.4, 33, 31, 35, 18.5, 37, 26])\n",
    "y = np.array([80.5, 70.5, 57, 66, 68, 72, 52, 73.5, 53])\n",
    "\n",
    "Pearson_matrix = np.corrcoef(x, y)\n",
    "Pearson_matrix\n",
    "\n",
    "r = Pearson_matrix[0, 1]\n",
    "r"
   ]
  },
  {
   "cell_type": "code",
   "execution_count": 6,
   "id": "3c49c553-9999-4803-aaa2-d249e0c5ed7e",
   "metadata": {},
   "outputs": [],
   "source": [
    "x = np.array([44, 35, 20.4, 33, 31, 35, 18.5, 37, 26])"
   ]
  },
  {
   "cell_type": "code",
   "execution_count": 8,
   "id": "f3ba05b1-b6b4-43ef-86b7-18f1cbee4836",
   "metadata": {},
   "outputs": [],
   "source": [
    "y = np.array([80.5, 70.5, 57, 66, 68, 72, 52, 73.5, 53])"
   ]
  },
  {
   "cell_type": "code",
   "execution_count": 18,
   "id": "b54061ec-9fc4-491d-b090-f2ffe2d1c305",
   "metadata": {},
   "outputs": [
    {
     "name": "stdout",
     "output_type": "stream",
     "text": [
      "[[1.         0.95092338]\n",
      " [0.95092338 1.        ]]\n"
     ]
    }
   ],
   "source": [
    "Pearson_matrix = np.corrcoef(x, y)\n",
    "print(Pearson_matrix)"
   ]
  },
  {
   "cell_type": "code",
   "execution_count": 19,
   "id": "46b69d5e-94e3-4002-8704-b8b1ec67fdd1",
   "metadata": {},
   "outputs": [
    {
     "name": "stdout",
     "output_type": "stream",
     "text": [
      "0.9509233781433042\n"
     ]
    }
   ],
   "source": [
    "r = Pearson_matrix[0, 1]\n",
    "print(r)"
   ]
  },
  {
   "cell_type": "code",
   "execution_count": null,
   "id": "082365cb-4663-4472-b301-5925c79d10be",
   "metadata": {},
   "outputs": [],
   "source": []
  }
 ],
 "metadata": {
  "kernelspec": {
   "display_name": "Python 3 (ipykernel)",
   "language": "python",
   "name": "python3"
  },
  "language_info": {
   "codemirror_mode": {
    "name": "ipython",
    "version": 3
   },
   "file_extension": ".py",
   "mimetype": "text/x-python",
   "name": "python",
   "nbconvert_exporter": "python",
   "pygments_lexer": "ipython3",
   "version": "3.9.6"
  }
 },
 "nbformat": 4,
 "nbformat_minor": 5
}
