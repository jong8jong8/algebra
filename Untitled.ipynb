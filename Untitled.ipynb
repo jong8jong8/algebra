{
 "cells": [
  {
   "cell_type": "code",
   "execution_count": 2,
   "id": "d28dd33f-d932-46f2-9648-ea64430313b9",
   "metadata": {},
   "outputs": [
    {
     "name": "stdout",
     "output_type": "stream",
     "text": [
      "1.143175185212902 30.280585073212094\n"
     ]
    },
    {
     "data": {
      "application/vnd.jupyter.widget-view+json": {
       "model_id": "6b2ef9201dad4872971e357079544485",
       "version_major": 2,
       "version_minor": 0
      },
      "text/plain": [
       "Canvas(toolbar=Toolbar(toolitems=[('Home', 'Reset original view', 'home', 'home'), ('Back', 'Back to previous …"
      ]
     },
     "metadata": {},
     "output_type": "display_data"
    },
    {
     "data": {
      "text/plain": [
       "Text(0.5, 1.0, 'Cricket Chirps vs. Temperature')"
      ]
     },
     "execution_count": 2,
     "metadata": {},
     "output_type": "execute_result"
    }
   ],
   "source": [
    "%matplotlib widget\n",
    "import matplotlib.pyplot as plt\n",
    "import numpy as np\n",
    "\n",
    "c = [44, 35, 20.4, 33, 31, 35, 18.5, 37, 26] # Chirp\n",
    "T = [80.5, 70.5, 57, 66, 68, 72, 52, 73.5, 53] # Temperature\n",
    "\n",
    "m, b = np.polyfit(c, T, 1)\n",
    "print(m,b)\n",
    "\n",
    "x = np.arange(0, 55, 0.01)\n",
    "y = m*x + b\n",
    "\n",
    "plt.style.use('seaborn')\n",
    "fig, ax = plt.subplots()\n",
    "ax.scatter(c, T)\n",
    "ax.plot(x, y, 'r')\n",
    "plt.xlabel('Cricket Chirps in 15 Seconds')\n",
    "plt.ylabel('Temperature ($^\\circ\\!$F)')\n",
    "plt.xlim(0, 55)\n",
    "plt.ylim(20, 90)\n",
    "plt.title(\"Cricket Chirps vs. Temperature\")"
   ]
  },
  {
   "cell_type": "code",
   "execution_count": null,
   "id": "1a795580-8d44-4a3a-b76b-d0902ae6ca32",
   "metadata": {},
   "outputs": [],
   "source": []
  }
 ],
 "metadata": {
  "kernelspec": {
   "display_name": "Python 3 (ipykernel)",
   "language": "python",
   "name": "python3"
  },
  "language_info": {
   "codemirror_mode": {
    "name": "ipython",
    "version": 3
   },
   "file_extension": ".py",
   "mimetype": "text/x-python",
   "name": "python",
   "nbconvert_exporter": "python",
   "pygments_lexer": "ipython3",
   "version": "3.9.6"
  }
 },
 "nbformat": 4,
 "nbformat_minor": 5
}
