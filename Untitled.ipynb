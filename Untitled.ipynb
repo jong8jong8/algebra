{
 "cells": [
  {
   "cell_type": "code",
   "execution_count": 1,
   "id": "e3b928dd-f9f5-4b17-99ad-4bcc824c675d",
   "metadata": {},
   "outputs": [],
   "source": [
    "from sympy import symbols, log, exp, Eq, solveset, S"
   ]
  },
  {
   "cell_type": "code",
   "execution_count": 2,
   "id": "2b9a3dc1-9c65-49a0-ab9a-0889989c6278",
   "metadata": {},
   "outputs": [],
   "source": [
    "t = symbols('t')"
   ]
  },
  {
   "cell_type": "code",
   "execution_count": 6,
   "id": "28de2f27-01e9-4e93-a303-f9c7004bd893",
   "metadata": {},
   "outputs": [],
   "source": [
    "A0 = 1000 # the initial amount of uranium-235"
   ]
  },
  {
   "cell_type": "code",
   "execution_count": 7,
   "id": "c701be75-9d0e-4306-b405-0a32399df654",
   "metadata": {},
   "outputs": [],
   "source": [
    "T = 703800000 # the half-life of uranium-235"
   ]
  },
  {
   "cell_type": "code",
   "execution_count": 10,
   "id": "06238f1b-fd01-4fc4-a56f-1153ff5ebf39",
   "metadata": {},
   "outputs": [],
   "source": [
    "y = A0 * 0.9  # 10% decay means 90% remained"
   ]
  },
  {
   "cell_type": "code",
   "execution_count": 16,
   "id": "0253945d-ab93-4eb8-828c-4ad508e5784c",
   "metadata": {},
   "outputs": [],
   "source": [
    "formula = A0*exp( (log(0.5))/T * t ) # the half-life formula"
   ]
  },
  {
   "cell_type": "code",
   "execution_count": 17,
   "id": "0d5fffea-5fbd-43ab-9f20-9c800d44a825",
   "metadata": {},
   "outputs": [
    {
     "data": {
      "text/latex": [
       "$\\displaystyle 900.0 = 1000 e^{- 9.84863854163037 \\cdot 10^{-10} t}$"
      ],
      "text/plain": [
       "Eq(900.0, 1000*exp(-9.84863854163037e-10*t))"
      ]
     },
     "execution_count": 17,
     "metadata": {},
     "output_type": "execute_result"
    }
   ],
   "source": [
    "expr = Eq(y, formula)\n",
    "expr"
   ]
  },
  {
   "cell_type": "code",
   "execution_count": 18,
   "id": "8efec20a-f597-4da7-9ccb-52c903193451",
   "metadata": {},
   "outputs": [],
   "source": [
    "sol = solveset(expr, t , S.Reals)"
   ]
  },
  {
   "cell_type": "code",
   "execution_count": 22,
   "id": "db510946-0f5e-416a-b0b5-9811174132b1",
   "metadata": {},
   "outputs": [],
   "source": [
    "num = list(sol.evalf())[0]"
   ]
  },
  {
   "cell_type": "code",
   "execution_count": 23,
   "id": "31c0e1fa-413e-452c-92c7-33306a0cee6e",
   "metadata": {},
   "outputs": [
    {
     "data": {
      "text/latex": [
       "$\\displaystyle 106979777.166626$"
      ],
      "text/plain": [
       "106979777.166626"
      ]
     },
     "execution_count": 23,
     "metadata": {},
     "output_type": "execute_result"
    }
   ],
   "source": [
    "num"
   ]
  },
  {
   "cell_type": "code",
   "execution_count": null,
   "id": "05182698-645b-4ca9-ac74-55907200862e",
   "metadata": {},
   "outputs": [],
   "source": []
  }
 ],
 "metadata": {
  "kernelspec": {
   "display_name": "Python 3 (ipykernel)",
   "language": "python",
   "name": "python3"
  },
  "language_info": {
   "codemirror_mode": {
    "name": "ipython",
    "version": 3
   },
   "file_extension": ".py",
   "mimetype": "text/x-python",
   "name": "python",
   "nbconvert_exporter": "python",
   "pygments_lexer": "ipython3",
   "version": "3.9.6"
  }
 },
 "nbformat": 4,
 "nbformat_minor": 5
}
