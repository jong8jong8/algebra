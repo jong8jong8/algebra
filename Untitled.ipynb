{
 "cells": [
  {
   "cell_type": "code",
   "execution_count": 24,
   "id": "cd6c275e-4a03-453b-8ec0-915a775cd8d7",
   "metadata": {},
   "outputs": [],
   "source": [
    "from sympy import symbols, S, solveset, Abs"
   ]
  },
  {
   "cell_type": "code",
   "execution_count": 25,
   "id": "f2fa9104-11cc-48b1-be22-c9c2b53a8ec3",
   "metadata": {},
   "outputs": [],
   "source": [
    "x = symbols('x')"
   ]
  },
  {
   "cell_type": "code",
   "execution_count": 26,
   "id": "2d854205-e865-4eae-82f1-8551a93316d6",
   "metadata": {},
   "outputs": [
    {
     "data": {
      "text/latex": [
       "$\\displaystyle \\left|{x - 5}\\right| \\leq 4$"
      ],
      "text/plain": [
       "Abs(x - 5) <= 4"
      ]
     },
     "execution_count": 26,
     "metadata": {},
     "output_type": "execute_result"
    }
   ],
   "source": [
    "ineq = Abs(x - 5) <= 4\n",
    "ineq"
   ]
  },
  {
   "cell_type": "code",
   "execution_count": 29,
   "id": "7457c7dc-e767-4319-9b13-d33846fc255c",
   "metadata": {},
   "outputs": [
    {
     "data": {
      "text/latex": [
       "$\\displaystyle \\left[1, 9\\right]$"
      ],
      "text/plain": [
       "Interval(1, 9)"
      ]
     },
     "execution_count": 29,
     "metadata": {},
     "output_type": "execute_result"
    }
   ],
   "source": [
    "solveset(ineq, x, S.Reals)"
   ]
  },
  {
   "cell_type": "code",
   "execution_count": null,
   "id": "1c865d38-6aa8-4fc7-91b3-f04517a5be77",
   "metadata": {},
   "outputs": [],
   "source": []
  }
 ],
 "metadata": {
  "kernelspec": {
   "display_name": "Python 3",
   "language": "python",
   "name": "python3"
  },
  "language_info": {
   "codemirror_mode": {
    "name": "ipython",
    "version": 3
   },
   "file_extension": ".py",
   "mimetype": "text/x-python",
   "name": "python",
   "nbconvert_exporter": "python",
   "pygments_lexer": "ipython3",
   "version": "3.8.5"
  }
 },
 "nbformat": 4,
 "nbformat_minor": 5
}
