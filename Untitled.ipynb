{
 "cells": [
  {
   "cell_type": "code",
   "execution_count": 37,
   "id": "e9fbc62b-cdb8-408c-8aac-5b1593548557",
   "metadata": {},
   "outputs": [],
   "source": [
    "from sympy import symbols, factor, expand"
   ]
  },
  {
   "cell_type": "code",
   "execution_count": 38,
   "id": "fea76817-e848-4004-a224-6ddfed1a7732",
   "metadata": {},
   "outputs": [],
   "source": [
    "a, b = symbols('a, b')"
   ]
  },
  {
   "cell_type": "code",
   "execution_count": 39,
   "id": "89022ada-0d76-4881-a7b1-5c6809f02119",
   "metadata": {},
   "outputs": [
    {
     "data": {
      "text/latex": [
       "$\\displaystyle a^{2} + 2 a b + b^{2}$"
      ],
      "text/plain": [
       "a**2 + 2*a*b + b**2"
      ]
     },
     "execution_count": 39,
     "metadata": {},
     "output_type": "execute_result"
    }
   ],
   "source": [
    "expr = a**2 + 2*a*b + b**2\n",
    "expr"
   ]
  },
  {
   "cell_type": "code",
   "execution_count": 41,
   "id": "9b6b85e3-df79-4c41-b884-3bb5f4b64e9f",
   "metadata": {},
   "outputs": [
    {
     "data": {
      "text/latex": [
       "$\\displaystyle \\left(a + b\\right)^{2}$"
      ],
      "text/plain": [
       "(a + b)**2"
      ]
     },
     "execution_count": 41,
     "metadata": {},
     "output_type": "execute_result"
    }
   ],
   "source": [
    "expr2 = factor(expr)\n",
    "expr2"
   ]
  },
  {
   "cell_type": "code",
   "execution_count": 42,
   "id": "96441c6f-35a3-414f-bf9e-26ee5ff64f38",
   "metadata": {},
   "outputs": [
    {
     "data": {
      "text/latex": [
       "$\\displaystyle a^{2} + 2 a b + b^{2}$"
      ],
      "text/plain": [
       "a**2 + 2*a*b + b**2"
      ]
     },
     "execution_count": 42,
     "metadata": {},
     "output_type": "execute_result"
    }
   ],
   "source": [
    "expand(expr2)"
   ]
  },
  {
   "cell_type": "code",
   "execution_count": 43,
   "id": "e5f8b5cd-3d85-4139-8048-a10cf3497acd",
   "metadata": {},
   "outputs": [],
   "source": [
    "from sympy import cancel"
   ]
  },
  {
   "cell_type": "code",
   "execution_count": 52,
   "id": "5a79ed88-5c95-4509-ac13-a40fb9cdf539",
   "metadata": {},
   "outputs": [],
   "source": [
    "x, n, d = symbols('x, n, d')"
   ]
  },
  {
   "cell_type": "code",
   "execution_count": 55,
   "id": "5ce64827-ef25-45e1-b840-b36a7401ee79",
   "metadata": {},
   "outputs": [
    {
     "data": {
      "text/latex": [
       "$\\displaystyle x^{2} + 8 x + 16$"
      ],
      "text/plain": [
       "x**2 + 8*x + 16"
      ]
     },
     "execution_count": 55,
     "metadata": {},
     "output_type": "execute_result"
    }
   ],
   "source": [
    "n = x**2 + 8*x + 16\n",
    "n"
   ]
  },
  {
   "cell_type": "code",
   "execution_count": 56,
   "id": "e12ea7eb-c3c3-4f29-9f4d-9c8d994757d9",
   "metadata": {},
   "outputs": [
    {
     "data": {
      "text/latex": [
       "$\\displaystyle x^{2} + 11 x + 28$"
      ],
      "text/plain": [
       "x**2 + 11*x + 28"
      ]
     },
     "execution_count": 56,
     "metadata": {},
     "output_type": "execute_result"
    }
   ],
   "source": [
    "d = x**2 + 11*x + 28\n",
    "d"
   ]
  },
  {
   "cell_type": "code",
   "execution_count": 57,
   "id": "11b609a7-a211-47ef-81e9-4a94a522971a",
   "metadata": {},
   "outputs": [
    {
     "data": {
      "text/latex": [
       "$\\displaystyle \\frac{x^{2} + 8 x + 16}{x^{2} + 11 x + 28}$"
      ],
      "text/plain": [
       "(x**2 + 8*x + 16)/(x**2 + 11*x + 28)"
      ]
     },
     "execution_count": 57,
     "metadata": {},
     "output_type": "execute_result"
    }
   ],
   "source": [
    "expr = n / d\n",
    "expr"
   ]
  },
  {
   "cell_type": "code",
   "execution_count": 58,
   "id": "e19ce436-e391-44b7-acf2-f520590da2f9",
   "metadata": {},
   "outputs": [
    {
     "data": {
      "text/latex": [
       "$\\displaystyle \\frac{x + 4}{x + 7}$"
      ],
      "text/plain": [
       "(x + 4)/(x + 7)"
      ]
     },
     "execution_count": 58,
     "metadata": {},
     "output_type": "execute_result"
    }
   ],
   "source": [
    "cancel(expr)"
   ]
  },
  {
   "cell_type": "code",
   "execution_count": 59,
   "id": "926a84e9-89bf-44b3-be68-94a31eff2065",
   "metadata": {},
   "outputs": [
    {
     "data": {
      "application/vnd.jupyter.widget-view+json": {
       "model_id": "5e6a0de339ec4a4ca33a754716e9f909",
       "version_major": 2,
       "version_minor": 0
      },
      "text/plain": [
       "Canvas(toolbar=Toolbar(toolitems=[('Home', 'Reset original view', 'home', 'home'), ('Back', 'Back to previous …"
      ]
     },
     "metadata": {},
     "output_type": "display_data"
    },
    {
     "data": {
      "text/plain": [
       "Text(0.5, 1.0, 'Example 2. Figure 6')"
      ]
     },
     "execution_count": 59,
     "metadata": {},
     "output_type": "execute_result"
    }
   ],
   "source": [
    "%matplotlib widget\n",
    "import matplotlib.pyplot as plt\n",
    "\n",
    "x = [-3, -2, -1, 0, 1, 2, 3, 4] \n",
    "y = [-7, -5, -3, -1, 1, 3, 5, 7]\n",
    "\n",
    "plt.style.use('seaborn')\n",
    "fig, ax = plt.subplots()\n",
    "ax.plot(x, y)\n",
    "ax.axhline(0, color='gray')\n",
    "ax.axvline(0, color='gray')\n",
    "plt.xlim([-5, 5])\n",
    "plt.ylim([-7, 7])\n",
    "plt.title(\"Example 2. Figure 6\")"
   ]
  },
  {
   "cell_type": "code",
   "execution_count": 60,
   "id": "1aba6be0-d5c0-4863-9625-8a9ea4cc0726",
   "metadata": {},
   "outputs": [],
   "source": [
    "from sympy import Eq, solveset"
   ]
  },
  {
   "cell_type": "code",
   "execution_count": 61,
   "id": "f2fa6327-8048-4cb5-9fdd-933ba51e287a",
   "metadata": {},
   "outputs": [],
   "source": [
    "x, y = symbols('x, y')"
   ]
  },
  {
   "cell_type": "code",
   "execution_count": 62,
   "id": "e5af44f0-de15-48e8-b9b0-d0cd4f5e6d47",
   "metadata": {},
   "outputs": [],
   "source": [
    "expr = Eq(y, -3*x-4)"
   ]
  },
  {
   "cell_type": "code",
   "execution_count": 63,
   "id": "dab62399-ca99-4123-b4fd-a3c11e149ae1",
   "metadata": {},
   "outputs": [
    {
     "data": {
      "text/latex": [
       "$\\displaystyle y = - 3 x - 4$"
      ],
      "text/plain": [
       "Eq(y, -3*x - 4)"
      ]
     },
     "execution_count": 63,
     "metadata": {},
     "output_type": "execute_result"
    }
   ],
   "source": [
    "expr"
   ]
  },
  {
   "cell_type": "code",
   "execution_count": 64,
   "id": "b8c89729-2179-4f75-932c-47a1810e0543",
   "metadata": {},
   "outputs": [
    {
     "data": {
      "text/latex": [
       "$\\displaystyle 0 = - 3 x - 4$"
      ],
      "text/plain": [
       "Eq(0, -3*x - 4)"
      ]
     },
     "execution_count": 64,
     "metadata": {},
     "output_type": "execute_result"
    }
   ],
   "source": [
    "expr1 = expr.subs(y, 0)\n",
    "expr1"
   ]
  },
  {
   "cell_type": "code",
   "execution_count": 65,
   "id": "f05eb08b-0db6-4f33-bc61-c6b732df5128",
   "metadata": {},
   "outputs": [
    {
     "data": {
      "text/latex": [
       "$\\displaystyle \\left\\{- \\frac{4}{3}\\right\\}$"
      ],
      "text/plain": [
       "FiniteSet(-4/3)"
      ]
     },
     "execution_count": 65,
     "metadata": {},
     "output_type": "execute_result"
    }
   ],
   "source": [
    "solveset(expr1, x)"
   ]
  },
  {
   "cell_type": "code",
   "execution_count": 66,
   "id": "4d0a8484-abd2-45c0-9de4-5690c62bad6f",
   "metadata": {},
   "outputs": [
    {
     "data": {
      "application/vnd.jupyter.widget-view+json": {
       "model_id": "56ea9ca5348a4939a9f8591b40dbd6c7",
       "version_major": 2,
       "version_minor": 0
      },
      "text/plain": [
       "Canvas(toolbar=Toolbar(toolitems=[('Home', 'Reset original view', 'home', 'home'), ('Back', 'Back to previous …"
      ]
     },
     "metadata": {},
     "output_type": "display_data"
    },
    {
     "data": {
      "text/plain": [
       "Text(0.5, 1.0, 'Figure 16')"
      ]
     },
     "execution_count": 66,
     "metadata": {},
     "output_type": "execute_result"
    }
   ],
   "source": [
    "%matplotlib widget\n",
    "import matplotlib.pyplot as plt\n",
    "\n",
    "x1, x2, y1, y2 = -3, 2, -1, 3\n",
    "xm, ym = (x1 + x2)/2, (y1 + y2)/2\n",
    "\n",
    "plt.style.use('seaborn')\n",
    "fig, ax = plt.subplots()\n",
    "ax.plot([x1, x2], [y1, y2])\n",
    "ax.scatter([x1, x2], [y1, y2])\n",
    "ax.scatter(xm, ym)\n",
    "plt.title(\"Figure 16\")"
   ]
  },
  {
   "cell_type": "code",
   "execution_count": null,
   "id": "f60c2a72-deb7-4d88-aaa2-ab61a0778550",
   "metadata": {},
   "outputs": [],
   "source": []
  }
 ],
 "metadata": {
  "kernelspec": {
   "display_name": "Python 3",
   "language": "python",
   "name": "python3"
  },
  "language_info": {
   "codemirror_mode": {
    "name": "ipython",
    "version": 3
   },
   "file_extension": ".py",
   "mimetype": "text/x-python",
   "name": "python",
   "nbconvert_exporter": "python",
   "pygments_lexer": "ipython3",
   "version": "3.8.5"
  }
 },
 "nbformat": 4,
 "nbformat_minor": 5
}
