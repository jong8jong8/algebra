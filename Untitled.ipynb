{
 "cells": [
  {
   "cell_type": "code",
   "execution_count": 45,
   "id": "b06d3a11-ecf1-4357-8ffc-e582d99fcf54",
   "metadata": {},
   "outputs": [
    {
     "data": {
      "application/vnd.jupyter.widget-view+json": {
       "model_id": "c9004c4b9fe245e28fd52ec328b0b73c",
       "version_major": 2,
       "version_minor": 0
      },
      "text/plain": [
       "Canvas(toolbar=Toolbar(toolitems=[('Home', 'Reset original view', 'home', 'home'), ('Back', 'Back to previous …"
      ]
     },
     "metadata": {},
     "output_type": "display_data"
    },
    {
     "data": {
      "text/plain": [
       "(-6.0, 8.0)"
      ]
     },
     "execution_count": 45,
     "metadata": {},
     "output_type": "execute_result"
    }
   ],
   "source": [
    "%matplotlib widget\n",
    "import matplotlib.pyplot as plt\n",
    "import numpy as np\n",
    "\n",
    "x1 = np.arange(-6, -2.01, 0.01)\n",
    "x2 = np.arange(-1.99, 0.99, 0.01)\n",
    "x3 = np.arange(1.01, 4.99, 0.01)\n",
    "x4 = np.arange(5.01, 8, 0.01)\n",
    "y1 = ((x1 - 2)*(x1 + 3))/((x1 - 1)*(x1 + 2)*(x1 - 5))\n",
    "y2 = ((x2 - 2)*(x2 + 3))/((x2 - 1)*(x2 + 2)*(x2 - 5))\n",
    "y3 = ((x3 - 2)*(x3 + 3))/((x3 - 1)*(x3 + 2)*(x3 - 5))\n",
    "y4 = ((x4 - 2)*(x4 + 3))/((x4 - 1)*(x4 + 2)*(x4 - 5))\n",
    "\n",
    "fig, ax = plt.subplots()\n",
    "ax.plot(x1, y1, 'b', x2, y2, 'b', x3, y3, 'b', x4, y4, 'b')\n",
    "ax.axvline(x = -2, color='r', linestyle='--') # vertical asymptote\n",
    "ax.axvline(x = 1, color='orange', linestyle='--') # vertical asymptote\n",
    "ax.axvline(x = 5, color='c', linestyle='--') # vertical asymptote\n",
    "ax.axhline(y = 0, color='g', linestyle='--') # horizontal asymptote\n",
    "ax.scatter(-3, 0) # x-intercept\n",
    "ax.scatter(2, 0) # x-intercept\n",
    "ax.scatter(0, -0.6) # y-intercept\n",
    "ax.grid(True)\n",
    "plt.xlim(-6, 8)\n",
    "plt.ylim(-6, 8)"
   ]
  },
  {
   "cell_type": "code",
   "execution_count": null,
   "id": "5dddab42-923f-4a55-a1c8-376cd3a486ef",
   "metadata": {},
   "outputs": [],
   "source": []
  }
 ],
 "metadata": {
  "kernelspec": {
   "display_name": "Python 3 (ipykernel)",
   "language": "python",
   "name": "python3"
  },
  "language_info": {
   "codemirror_mode": {
    "name": "ipython",
    "version": 3
   },
   "file_extension": ".py",
   "mimetype": "text/x-python",
   "name": "python",
   "nbconvert_exporter": "python",
   "pygments_lexer": "ipython3",
   "version": "3.9.6"
  }
 },
 "nbformat": 4,
 "nbformat_minor": 5
}
