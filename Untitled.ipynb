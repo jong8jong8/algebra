{
 "cells": [
  {
   "cell_type": "code",
   "execution_count": 1,
   "id": "3b74f40d-dd4d-48c9-9cb3-034d2b402a66",
   "metadata": {},
   "outputs": [],
   "source": [
    "from sympy import symbols, factor, Function, Eq, solveset"
   ]
  },
  {
   "cell_type": "code",
   "execution_count": 2,
   "id": "99c3c5f1-2cd1-4c49-939a-4d23d54a12cc",
   "metadata": {},
   "outputs": [],
   "source": [
    "x = symbols('x', real=True)"
   ]
  },
  {
   "cell_type": "code",
   "execution_count": 3,
   "id": "564e331d-badb-4a3d-b73d-2e7e2205577b",
   "metadata": {},
   "outputs": [],
   "source": [
    "f = Function('f', real=True)"
   ]
  },
  {
   "cell_type": "code",
   "execution_count": 4,
   "id": "eae0e441-494b-49de-9173-6582cd187e4c",
   "metadata": {},
   "outputs": [],
   "source": [
    "def f(x):\n",
    "    return x**6 - 3*x**4 + 2*x**2 "
   ]
  },
  {
   "cell_type": "code",
   "execution_count": 5,
   "id": "a939c9b2-9818-40d5-93e2-9be7585dda1c",
   "metadata": {},
   "outputs": [
    {
     "data": {
      "text/latex": [
       "$\\displaystyle x^{6} - 3 x^{4} + 2 x^{2}$"
      ],
      "text/plain": [
       "x**6 - 3*x**4 + 2*x**2"
      ]
     },
     "execution_count": 5,
     "metadata": {},
     "output_type": "execute_result"
    }
   ],
   "source": [
    "f(x)"
   ]
  },
  {
   "cell_type": "code",
   "execution_count": 6,
   "id": "1c282d70-8b54-4d08-9998-0080a9c31db3",
   "metadata": {},
   "outputs": [
    {
     "data": {
      "text/latex": [
       "$\\displaystyle x^{2} \\left(x - 1\\right) \\left(x + 1\\right) \\left(x^{2} - 2\\right)$"
      ],
      "text/plain": [
       "x**2*(x - 1)*(x + 1)*(x**2 - 2)"
      ]
     },
     "execution_count": 6,
     "metadata": {},
     "output_type": "execute_result"
    }
   ],
   "source": [
    "factor(f(x))"
   ]
  },
  {
   "cell_type": "code",
   "execution_count": 7,
   "id": "2d4d622f-ae81-410d-9b0f-4caabbba0ca3",
   "metadata": {},
   "outputs": [
    {
     "data": {
      "text/latex": [
       "$\\displaystyle x^{6} - 3 x^{4} + 2 x^{2} = 0$"
      ],
      "text/plain": [
       "Eq(x**6 - 3*x**4 + 2*x**2, 0)"
      ]
     },
     "execution_count": 7,
     "metadata": {},
     "output_type": "execute_result"
    }
   ],
   "source": [
    "expr = Eq(f(x), 0)\n",
    "expr"
   ]
  },
  {
   "cell_type": "code",
   "execution_count": 8,
   "id": "131cda25-ea09-4a1a-8ef6-6f10dd828236",
   "metadata": {},
   "outputs": [
    {
     "data": {
      "text/latex": [
       "$\\displaystyle \\left\\{-1, 0, 1, - \\sqrt{2}, \\sqrt{2}\\right\\}$"
      ],
      "text/plain": [
       "FiniteSet(-1, 0, 1, sqrt(2), -sqrt(2))"
      ]
     },
     "execution_count": 8,
     "metadata": {},
     "output_type": "execute_result"
    }
   ],
   "source": [
    "solveset(expr, x)"
   ]
  },
  {
   "cell_type": "code",
   "execution_count": null,
   "id": "964565e8-c6f1-4c93-a002-3cec1b5bb1a7",
   "metadata": {},
   "outputs": [],
   "source": []
  },
  {
   "cell_type": "code",
   "execution_count": 70,
   "id": "72cdd9aa-5e1b-41dc-835c-6b53f6465c2f",
   "metadata": {},
   "outputs": [
    {
     "name": "stdout",
     "output_type": "stream",
     "text": [
      "[-3. -1.  2.]\n"
     ]
    },
    {
     "data": {
      "application/vnd.jupyter.widget-view+json": {
       "model_id": "ce0e8ac4cf534b56a75d0790109ceb11",
       "version_major": 2,
       "version_minor": 0
      },
      "text/plain": [
       "Canvas(toolbar=Toolbar(toolitems=[('Home', 'Reset original view', 'home', 'home'), ('Back', 'Back to previous …"
      ]
     },
     "metadata": {},
     "output_type": "display_data"
    },
    {
     "data": {
      "text/plain": [
       "(-40.0, 40.0)"
      ]
     },
     "execution_count": 70,
     "metadata": {},
     "output_type": "execute_result"
    }
   ],
   "source": [
    "%matplotlib widget\n",
    "import matplotlib.pyplot as plt\n",
    "import numpy as np\n",
    "\n",
    "x = np.arange(-4, 4, 0.005)\n",
    "y = (x + 3) * (x - 2)**2 * (x + 1)**3 # the 7th degree polynomial\n",
    "tol = 1e-7\n",
    "sol_index = np.where((y > -tol) & (y < tol))\n",
    "print(x[sol_index])\n",
    "\n",
    "plt.style.use('seaborn')\n",
    "fig, ax = plt.subplots()\n",
    "ax.plot(x, y)\n",
    "ax.scatter(x[sol_index], y[sol_index])\n",
    "plt.xlim(-4, 4)\n",
    "plt.ylim(-40, 40)"
   ]
  },
  {
   "cell_type": "code",
   "execution_count": null,
   "id": "3bf9b83d-404e-40bc-9770-d73f8e3defad",
   "metadata": {},
   "outputs": [],
   "source": []
  }
 ],
 "metadata": {
  "kernelspec": {
   "display_name": "Python 3 (ipykernel)",
   "language": "python",
   "name": "python3"
  },
  "language_info": {
   "codemirror_mode": {
    "name": "ipython",
    "version": 3
   },
   "file_extension": ".py",
   "mimetype": "text/x-python",
   "name": "python",
   "nbconvert_exporter": "python",
   "pygments_lexer": "ipython3",
   "version": "3.9.6"
  }
 },
 "nbformat": 4,
 "nbformat_minor": 5
}
