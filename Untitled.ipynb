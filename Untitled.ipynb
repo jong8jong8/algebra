{
 "cells": [
  {
   "cell_type": "code",
   "execution_count": 1,
   "id": "89231f8c-a44a-403d-9c83-8fa6ad550b4b",
   "metadata": {},
   "outputs": [],
   "source": [
    "from sympy import symbols, Function"
   ]
  },
  {
   "cell_type": "code",
   "execution_count": 2,
   "id": "be0c3791-47ae-4bde-b620-fd9d40e50040",
   "metadata": {},
   "outputs": [],
   "source": [
    "x = symbols('x')\n",
    "f = Function('f')\n",
    "g = Function('g')"
   ]
  },
  {
   "cell_type": "code",
   "execution_count": 3,
   "id": "a3b4bc85-42cc-4d0a-9f31-5325ca0c6a2b",
   "metadata": {},
   "outputs": [],
   "source": [
    "def f(x):\n",
    "    return 1/(x + 2)  "
   ]
  },
  {
   "cell_type": "code",
   "execution_count": 4,
   "id": "9e7e2672-b4d6-46a4-8f58-5f8370040222",
   "metadata": {},
   "outputs": [
    {
     "data": {
      "text/latex": [
       "$\\displaystyle \\frac{1}{x + 2}$"
      ],
      "text/plain": [
       "1/(x + 2)"
      ]
     },
     "execution_count": 4,
     "metadata": {},
     "output_type": "execute_result"
    }
   ],
   "source": [
    "f(x)"
   ]
  },
  {
   "cell_type": "code",
   "execution_count": 5,
   "id": "14d668ef-5979-44b6-b4e1-68e7fb43289a",
   "metadata": {},
   "outputs": [],
   "source": [
    "def g(x):\n",
    "    return 1/x - 2"
   ]
  },
  {
   "cell_type": "code",
   "execution_count": 6,
   "id": "0a7ef8fb-21e5-4631-9984-7bb12436d14c",
   "metadata": {},
   "outputs": [
    {
     "data": {
      "text/latex": [
       "$\\displaystyle -2 + \\frac{1}{x}$"
      ],
      "text/plain": [
       "-2 + 1/x"
      ]
     },
     "execution_count": 6,
     "metadata": {},
     "output_type": "execute_result"
    }
   ],
   "source": [
    "g(x)"
   ]
  },
  {
   "cell_type": "code",
   "execution_count": null,
   "id": "6e58ea2b-6cd7-46c6-9c5d-1d9966b9cf71",
   "metadata": {},
   "outputs": [],
   "source": []
  }
 ],
 "metadata": {
  "kernelspec": {
   "display_name": "Python 3 (ipykernel)",
   "language": "python",
   "name": "python3"
  },
  "language_info": {
   "codemirror_mode": {
    "name": "ipython",
    "version": 3
   },
   "file_extension": ".py",
   "mimetype": "text/x-python",
   "name": "python",
   "nbconvert_exporter": "python",
   "pygments_lexer": "ipython3",
   "version": "3.9.6"
  },
  "widgets": {
   "application/vnd.jupyter.widget-state+json": {
    "state": {},
    "version_major": 2,
    "version_minor": 0
   }
  }
 },
 "nbformat": 4,
 "nbformat_minor": 5
}
