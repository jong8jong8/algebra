{
 "cells": [
  {
   "cell_type": "code",
   "execution_count": 10,
   "id": "18ba9bc4-01c0-4319-a8df-eff5762557a2",
   "metadata": {},
   "outputs": [
    {
     "data": {
      "application/vnd.jupyter.widget-view+json": {
       "model_id": "5e676d3154e04786a224efe67b35097f",
       "version_major": 2,
       "version_minor": 0
      },
      "text/plain": [
       "Canvas(toolbar=Toolbar(toolitems=[('Home', 'Reset original view', 'home', 'home'), ('Back', 'Back to previous …"
      ]
     },
     "metadata": {},
     "output_type": "display_data"
    },
    {
     "data": {
      "text/plain": [
       "Text(0.5, 1.0, 'Example 2. Figure 6')"
      ]
     },
     "execution_count": 10,
     "metadata": {},
     "output_type": "execute_result"
    }
   ],
   "source": [
    "%matplotlib widget\n",
    "import matplotlib.pyplot as plt\n",
    "\n",
    "x = [-3, -2, -1, 0, 1, 2, 3, 4] \n",
    "y = [-7, -5, -3, -1, 1, 3, 5, 7]\n",
    "\n",
    "plt.style.use('seaborn')\n",
    "fig, ax = plt.subplots()\n",
    "ax.plot(x, y)\n",
    "ax.axhline(0, color='gray')\n",
    "ax.axvline(0, color='gray')\n",
    "plt.xlim([-5, 5])\n",
    "plt.ylim([-7, 7])\n",
    "plt.title(\"Example 2. Figure 6\")"
   ]
  },
  {
   "cell_type": "code",
   "execution_count": null,
   "id": "20e89e89-2e5c-44b2-822d-ccf90521232c",
   "metadata": {},
   "outputs": [],
   "source": []
  }
 ],
 "metadata": {
  "kernelspec": {
   "display_name": "Python 3",
   "language": "python",
   "name": "python3"
  },
  "language_info": {
   "codemirror_mode": {
    "name": "ipython",
    "version": 3
   },
   "file_extension": ".py",
   "mimetype": "text/x-python",
   "name": "python",
   "nbconvert_exporter": "python",
   "pygments_lexer": "ipython3",
   "version": "3.8.5"
  }
 },
 "nbformat": 4,
 "nbformat_minor": 5
}
