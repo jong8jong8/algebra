{
 "cells": [
  {
   "cell_type": "code",
   "execution_count": 66,
   "id": "a1e86e5c-d960-450d-8d10-cf99bf999e04",
   "metadata": {},
   "outputs": [],
   "source": [
    "%matplotlib widget\n",
    "import matplotlib.pyplot as plt\n",
    "import numpy as np"
   ]
  },
  {
   "cell_type": "code",
   "execution_count": 80,
   "id": "5453da32-83a0-4aab-85ae-a1815de69abf",
   "metadata": {},
   "outputs": [],
   "source": [
    "x = np.arange(-7, 7, 0.01)\n",
    "y1 = 3*x - 1\n",
    "y2 = (-1/3)*x - 2"
   ]
  },
  {
   "cell_type": "code",
   "execution_count": 83,
   "id": "96bf8c3a-1bbc-4652-8d1f-b2b8613edf07",
   "metadata": {},
   "outputs": [
    {
     "data": {
      "application/vnd.jupyter.widget-view+json": {
       "model_id": "533a11a1c4394a93840dcd78f5e45d2f",
       "version_major": 2,
       "version_minor": 0
      },
      "text/plain": [
       "Canvas(toolbar=Toolbar(toolitems=[('Home', 'Reset original view', 'home', 'home'), ('Back', 'Back to previous …"
      ]
     },
     "metadata": {},
     "output_type": "display_data"
    }
   ],
   "source": [
    "plt.style.use('seaborn')\n",
    "fig, ax = plt.subplots()\n",
    "ax.plot(x, y1, x, y2)\n",
    "plt.gca().set_aspect('equal', adjustable='box')"
   ]
  },
  {
   "cell_type": "code",
   "execution_count": null,
   "id": "ae7be18f-195d-4dbb-8af3-64ac45d802c1",
   "metadata": {},
   "outputs": [],
   "source": []
  }
 ],
 "metadata": {
  "kernelspec": {
   "display_name": "Python 3",
   "language": "python",
   "name": "python3"
  },
  "language_info": {
   "codemirror_mode": {
    "name": "ipython",
    "version": 3
   },
   "file_extension": ".py",
   "mimetype": "text/x-python",
   "name": "python",
   "nbconvert_exporter": "python",
   "pygments_lexer": "ipython3",
   "version": "3.8.5"
  }
 },
 "nbformat": 4,
 "nbformat_minor": 5
}
