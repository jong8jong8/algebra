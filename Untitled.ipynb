{
 "cells": [
  {
   "cell_type": "code",
   "execution_count": 6,
   "id": "1bdc2878-963f-405e-a89a-b380440d29e8",
   "metadata": {},
   "outputs": [
    {
     "data": {
      "application/vnd.jupyter.widget-view+json": {
       "model_id": "8af0a1d4c212478abb0dc446da822bf4",
       "version_major": 2,
       "version_minor": 0
      },
      "text/plain": [
       "Canvas(toolbar=Toolbar(toolitems=[('Home', 'Reset original view', 'home', 'home'), ('Back', 'Back to previous …"
      ]
     },
     "metadata": {},
     "output_type": "display_data"
    },
    {
     "data": {
      "text/plain": [
       "(-6.0, 6.0)"
      ]
     },
     "execution_count": 6,
     "metadata": {},
     "output_type": "execute_result"
    }
   ],
   "source": [
    "%matplotlib widget\n",
    "import matplotlib.pyplot as plt\n",
    "import numpy as np\n",
    "\n",
    "x1 = np.arange(-6, 6, 0.01)\n",
    "f = 2**x1\n",
    "\n",
    "x2 = np.arange(0.01, 6, 0.01)\n",
    "g = np.log2(x2)\n",
    "\n",
    "fig, ax = plt.subplots()\n",
    "ax.plot(x1, f, 'r')\n",
    "ax.plot(x2, g)\n",
    "ax.axline((0, 0), (1, 1), color='g', linestyle='--')\n",
    "ax.scatter(0, 1, s=20, color='r')\n",
    "ax.scatter(1, 0, s=20)\n",
    "ax.set_aspect('equal', 'box')\n",
    "plt.grid(which='major', color='#666666', linestyle='-')\n",
    "plt.minorticks_on()\n",
    "plt.grid(which='minor', color='#999999', linestyle='-', alpha=0.2)\n",
    "plt.xlim(-6, 6)\n",
    "plt.ylim(-6, 6)"
   ]
  },
  {
   "cell_type": "code",
   "execution_count": null,
   "id": "87eff80f-e2a5-41fc-a454-46d39ef7c688",
   "metadata": {},
   "outputs": [],
   "source": []
  }
 ],
 "metadata": {
  "kernelspec": {
   "display_name": "Python 3 (ipykernel)",
   "language": "python",
   "name": "python3"
  },
  "language_info": {
   "codemirror_mode": {
    "name": "ipython",
    "version": 3
   },
   "file_extension": ".py",
   "mimetype": "text/x-python",
   "name": "python",
   "nbconvert_exporter": "python",
   "pygments_lexer": "ipython3",
   "version": "3.9.6"
  }
 },
 "nbformat": 4,
 "nbformat_minor": 5
}
