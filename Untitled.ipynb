{
 "cells": [
  {
   "cell_type": "code",
   "execution_count": 1,
   "id": "9de782a1-24b3-40fa-8469-8c4268e53827",
   "metadata": {},
   "outputs": [],
   "source": [
    "from sympy import symbols, Rational, log, logcombine"
   ]
  },
  {
   "cell_type": "code",
   "execution_count": 2,
   "id": "da75cdb3-ae02-4fd1-a1f5-434b3b343e18",
   "metadata": {},
   "outputs": [],
   "source": [
    "x = symbols('x')"
   ]
  },
  {
   "cell_type": "code",
   "execution_count": 3,
   "id": "f46e3baa-edb8-4955-a6a0-6d6cef8f9264",
   "metadata": {},
   "outputs": [
    {
     "data": {
      "text/latex": [
       "$\\displaystyle \\log{\\left(x^{2} \\right)} + \\frac{\\log{\\left(x - 1 \\right)}}{2} - 3 \\log{\\left(\\left(x + 1\\right)^{2} \\right)}$"
      ],
      "text/plain": [
       "log(x**2) + log(x - 1)/2 - 3*log((x + 1)**2)"
      ]
     },
     "execution_count": 3,
     "metadata": {},
     "output_type": "execute_result"
    }
   ],
   "source": [
    "expr = log(x**2) + Rational(1, 2)*log(x - 1) - 3*log((x + 1)**2)\n",
    "expr"
   ]
  },
  {
   "cell_type": "code",
   "execution_count": 5,
   "id": "6bd13b42-3385-4f4e-9d03-cfa610d85826",
   "metadata": {},
   "outputs": [
    {
     "data": {
      "text/latex": [
       "$\\displaystyle \\log{\\left(\\frac{x^{2} \\sqrt{x - 1}}{\\left(x + 1\\right)^{6}} \\right)}$"
      ],
      "text/plain": [
       "log(x**2*sqrt(x - 1)/(x + 1)**6)"
      ]
     },
     "execution_count": 5,
     "metadata": {},
     "output_type": "execute_result"
    }
   ],
   "source": [
    "log_e_expr = logcombine(expr, force=True)\n",
    "log_e_expr"
   ]
  },
  {
   "cell_type": "code",
   "execution_count": 6,
   "id": "39389ce0-7261-4d32-a0f1-c32163ba63fd",
   "metadata": {},
   "outputs": [
    {
     "data": {
      "text/latex": [
       "$\\displaystyle \\frac{\\log{\\left(\\frac{x^{2} \\sqrt{x - 1}}{\\left(x + 1\\right)^{6}} \\right)}}{\\log{\\left(2 \\right)}}$"
      ],
      "text/plain": [
       "log(x**2*sqrt(x - 1)/(x + 1)**6)/log(2)"
      ]
     },
     "execution_count": 6,
     "metadata": {},
     "output_type": "execute_result"
    }
   ],
   "source": [
    "log_2_expr = log_e_expr / log(2)\n",
    "log_2_expr"
   ]
  },
  {
   "cell_type": "code",
   "execution_count": 8,
   "id": "aa38556f-6f08-4ff0-8793-a4ebb9a93bc1",
   "metadata": {},
   "outputs": [
    {
     "data": {
      "text/latex": [
       "$\\displaystyle 3.32192809488736$"
      ],
      "text/plain": [
       "3.32192809488736"
      ]
     },
     "execution_count": 8,
     "metadata": {},
     "output_type": "execute_result"
    }
   ],
   "source": [
    "log(10, 2).evalf()"
   ]
  },
  {
   "cell_type": "code",
   "execution_count": null,
   "id": "095e34c3-5351-47a8-b018-9940e2f15780",
   "metadata": {},
   "outputs": [],
   "source": []
  }
 ],
 "metadata": {
  "kernelspec": {
   "display_name": "Python 3 (ipykernel)",
   "language": "python",
   "name": "python3"
  },
  "language_info": {
   "codemirror_mode": {
    "name": "ipython",
    "version": 3
   },
   "file_extension": ".py",
   "mimetype": "text/x-python",
   "name": "python",
   "nbconvert_exporter": "python",
   "pygments_lexer": "ipython3",
   "version": "3.9.6"
  }
 },
 "nbformat": 4,
 "nbformat_minor": 5
}
