{
 "cells": [
  {
   "cell_type": "code",
   "execution_count": 11,
   "id": "c2470a82-5c3c-49ad-9f27-ffb54a92f807",
   "metadata": {},
   "outputs": [],
   "source": [
    "from sympy import symbols, Function, exp, log, Eq, solveset, S, plot"
   ]
  },
  {
   "cell_type": "code",
   "execution_count": 2,
   "id": "593e1f60-c29a-4b4c-894b-81b7867da92d",
   "metadata": {},
   "outputs": [],
   "source": [
    "t, A0, k = symbols('t, A0, k')"
   ]
  },
  {
   "cell_type": "code",
   "execution_count": 3,
   "id": "2c2045a4-7e6a-44bb-9a6f-659cef6a7c36",
   "metadata": {},
   "outputs": [],
   "source": [
    "A = Function('A')"
   ]
  },
  {
   "cell_type": "code",
   "execution_count": 4,
   "id": "165aa794-52e1-4eaf-96cf-202fb6f43a16",
   "metadata": {},
   "outputs": [],
   "source": [
    "def A(t):\n",
    "    return A0*exp(k*t)"
   ]
  },
  {
   "cell_type": "code",
   "execution_count": 5,
   "id": "b6867b85-ef73-4790-a0f2-079bf08dc266",
   "metadata": {},
   "outputs": [],
   "source": [
    "A0 = 10"
   ]
  },
  {
   "cell_type": "code",
   "execution_count": 6,
   "id": "5925f982-e99e-4de7-a8ac-66d688497de8",
   "metadata": {},
   "outputs": [
    {
     "data": {
      "text/latex": [
       "$\\displaystyle 20 = 10 e^{k}$"
      ],
      "text/plain": [
       "Eq(20, 10*exp(k))"
      ]
     },
     "execution_count": 6,
     "metadata": {},
     "output_type": "execute_result"
    }
   ],
   "source": [
    "expr = Eq(2*A0, A(1))\n",
    "expr"
   ]
  },
  {
   "cell_type": "code",
   "execution_count": 7,
   "id": "35704d79-0a52-4588-af87-a0ea0dae98d6",
   "metadata": {},
   "outputs": [
    {
     "data": {
      "text/latex": [
       "$\\displaystyle \\left\\{\\log{\\left(2 \\right)}\\right\\}$"
      ],
      "text/plain": [
       "FiniteSet(log(2))"
      ]
     },
     "execution_count": 7,
     "metadata": {},
     "output_type": "execute_result"
    }
   ],
   "source": [
    "sol = solveset(expr, k, S.Reals)\n",
    "sol"
   ]
  },
  {
   "cell_type": "code",
   "execution_count": 8,
   "id": "c0962751-ea37-4322-8e10-449370a68bbd",
   "metadata": {},
   "outputs": [],
   "source": [
    "k = list(sol)[0]"
   ]
  },
  {
   "cell_type": "code",
   "execution_count": 9,
   "id": "92a7ddbe-fe58-44dd-8d9a-3982e8529be7",
   "metadata": {},
   "outputs": [
    {
     "data": {
      "text/latex": [
       "$\\displaystyle \\log{\\left(2 \\right)}$"
      ],
      "text/plain": [
       "log(2)"
      ]
     },
     "execution_count": 9,
     "metadata": {},
     "output_type": "execute_result"
    }
   ],
   "source": [
    "k"
   ]
  },
  {
   "cell_type": "code",
   "execution_count": 10,
   "id": "fe5c8518-b85c-4fdd-b283-688989b5dcc2",
   "metadata": {},
   "outputs": [
    {
     "data": {
      "text/latex": [
       "$\\displaystyle 0.693147180559945$"
      ],
      "text/plain": [
       "0.693147180559945"
      ]
     },
     "execution_count": 10,
     "metadata": {},
     "output_type": "execute_result"
    }
   ],
   "source": [
    "k.evalf()"
   ]
  },
  {
   "cell_type": "code",
   "execution_count": 13,
   "id": "9d08ccb6-bcd0-458e-b735-e1c848e8457e",
   "metadata": {},
   "outputs": [
    {
     "data": {
      "image/png": "[encoded data removed]",
      "text/plain": [
       "<Figure size 432x288 with 1 Axes>"
      ]
     },
     "metadata": {
      "needs_background": "light"
     },
     "output_type": "display_data"
    },
    {
     "data": {
      "text/plain": [
       "<sympy.plotting.plot.Plot at 0x1d30cbe7f40>"
      ]
     },
     "execution_count": 13,
     "metadata": {},
     "output_type": "execute_result"
    }
   ],
   "source": [
    "plot(t, A(t))"
   ]
  },
  {
   "cell_type": "code",
   "execution_count": null,
   "id": "496f9997-2414-4de0-bb33-17026431e3dd",
   "metadata": {},
   "outputs": [],
   "source": []
  }
 ],
 "metadata": {
  "kernelspec": {
   "display_name": "Python 3 (ipykernel)",
   "language": "python",
   "name": "python3"
  },
  "language_info": {
   "codemirror_mode": {
    "name": "ipython",
    "version": 3
   },
   "file_extension": ".py",
   "mimetype": "text/x-python",
   "name": "python",
   "nbconvert_exporter": "python",
   "pygments_lexer": "ipython3",
   "version": "3.9.6"
  }
 },
 "nbformat": 4,
 "nbformat_minor": 5
}
