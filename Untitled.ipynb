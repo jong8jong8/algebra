{
 "cells": [
  {
   "cell_type": "code",
   "execution_count": 1,
   "id": "c2470a82-5c3c-49ad-9f27-ffb54a92f807",
   "metadata": {},
   "outputs": [],
   "source": [
    "from sympy import symbols, Function, exp, log, Eq, solveset, S"
   ]
  },
  {
   "cell_type": "code",
   "execution_count": 2,
   "id": "0d8a6bb8-edc3-435b-84c3-2cc825d75b15",
   "metadata": {},
   "outputs": [],
   "source": [
    "t, T0, Ts, A, k = symbols('t, T0, Ts, A, k')"
   ]
  },
  {
   "cell_type": "code",
   "execution_count": 3,
   "id": "709987a4-98cc-44da-987c-3feef78e0893",
   "metadata": {},
   "outputs": [],
   "source": [
    "T = Function('T')"
   ]
  },
  {
   "cell_type": "code",
   "execution_count": 4,
   "id": "0627b492-e40a-42a0-98a1-5fed9e203140",
   "metadata": {},
   "outputs": [],
   "source": [
    "T0 = 165"
   ]
  },
  {
   "cell_type": "code",
   "execution_count": 5,
   "id": "fef1d926-1b02-4ffc-b299-325ef55cc203",
   "metadata": {},
   "outputs": [],
   "source": [
    "Ts = 35"
   ]
  },
  {
   "cell_type": "code",
   "execution_count": 6,
   "id": "03712333-f116-4bd9-a431-87adfae363c6",
   "metadata": {},
   "outputs": [],
   "source": [
    "A = T0 - Ts"
   ]
  },
  {
   "cell_type": "code",
   "execution_count": 7,
   "id": "9f9d9fff-e738-4fd3-8855-60154e6983f9",
   "metadata": {},
   "outputs": [],
   "source": [
    "def T(t):\n",
    "    return A*exp(k*t) + Ts"
   ]
  },
  {
   "cell_type": "code",
   "execution_count": 8,
   "id": "dd58c4f8-29d6-4abb-be53-5586c836023d",
   "metadata": {},
   "outputs": [
    {
     "data": {
      "text/latex": [
       "$\\displaystyle 130 e^{k t} + 35$"
      ],
      "text/plain": [
       "130*exp(k*t) + 35"
      ]
     },
     "execution_count": 8,
     "metadata": {},
     "output_type": "execute_result"
    }
   ],
   "source": [
    "T(t)"
   ]
  },
  {
   "cell_type": "code",
   "execution_count": 9,
   "id": "d8237183-f615-447e-a740-90ac7ab66546",
   "metadata": {},
   "outputs": [
    {
     "data": {
      "text/latex": [
       "$\\displaystyle 150 = 130 e^{10 k} + 35$"
      ],
      "text/plain": [
       "Eq(150, 130*exp(10*k) + 35)"
      ]
     },
     "execution_count": 9,
     "metadata": {},
     "output_type": "execute_result"
    }
   ],
   "source": [
    "expr = Eq(150, T(10))\n",
    "expr"
   ]
  },
  {
   "cell_type": "code",
   "execution_count": 10,
   "id": "3dcffc3f-c953-43dd-b4a1-1a2731f3dd79",
   "metadata": {},
   "outputs": [
    {
     "data": {
      "text/latex": [
       "$\\displaystyle \\frac{\\log{\\left(\\frac{23}{26} \\right)}}{10}$"
      ],
      "text/plain": [
       "log(23/26)/10"
      ]
     },
     "execution_count": 10,
     "metadata": {},
     "output_type": "execute_result"
    }
   ],
   "source": [
    "sol = solveset(expr, k, S.Reals)\n",
    "k = list(sol)[0]\n",
    "k"
   ]
  },
  {
   "cell_type": "code",
   "execution_count": 11,
   "id": "08d97a5a-3f3f-4275-b3ac-5d559d4eeefc",
   "metadata": {},
   "outputs": [
    {
     "data": {
      "text/latex": [
       "$\\displaystyle 130 e^{\\frac{t \\log{\\left(\\frac{23}{26} \\right)}}{10}} + 35$"
      ],
      "text/plain": [
       "130*exp(t*log(23/26)/10) + 35"
      ]
     },
     "execution_count": 11,
     "metadata": {},
     "output_type": "execute_result"
    }
   ],
   "source": [
    "T(t)"
   ]
  },
  {
   "cell_type": "code",
   "execution_count": 12,
   "id": "50fea048-2687-4fd3-8420-c9c20bce519f",
   "metadata": {},
   "outputs": [
    {
     "data": {
      "text/latex": [
       "$\\displaystyle 70 = 130 e^{\\frac{t \\log{\\left(\\frac{23}{26} \\right)}}{10}} + 35$"
      ],
      "text/plain": [
       "Eq(70, 130*exp(t*log(23/26)/10) + 35)"
      ]
     },
     "execution_count": 12,
     "metadata": {},
     "output_type": "execute_result"
    }
   ],
   "source": [
    "expr = Eq(70, T(t))\n",
    "expr"
   ]
  },
  {
   "cell_type": "code",
   "execution_count": 15,
   "id": "17ca2ff2-de68-49ef-b93a-1920c0a7a5ea",
   "metadata": {},
   "outputs": [],
   "source": [
    "t_eat = solveset(expr, t, S.Reals)\n",
    "t_eat = (list(t_eat)[0])"
   ]
  },
  {
   "cell_type": "code",
   "execution_count": 18,
   "id": "baa4c765-0d8c-4b8d-81f0-a6e1e6c56a33",
   "metadata": {},
   "outputs": [
    {
     "data": {
      "text/latex": [
       "$\\displaystyle 107.027857757699$"
      ],
      "text/plain": [
       "107.027857757699"
      ]
     },
     "execution_count": 18,
     "metadata": {},
     "output_type": "execute_result"
    }
   ],
   "source": [
    "t_eat.evalf()"
   ]
  },
  {
   "cell_type": "code",
   "execution_count": null,
   "id": "e194b721-214e-4673-92e2-121ec0766a41",
   "metadata": {},
   "outputs": [],
   "source": []
  }
 ],
 "metadata": {
  "kernelspec": {
   "display_name": "Python 3 (ipykernel)",
   "language": "python",
   "name": "python3"
  },
  "language_info": {
   "codemirror_mode": {
    "name": "ipython",
    "version": 3
   },
   "file_extension": ".py",
   "mimetype": "text/x-python",
   "name": "python",
   "nbconvert_exporter": "python",
   "pygments_lexer": "ipython3",
   "version": "3.9.6"
  }
 },
 "nbformat": 4,
 "nbformat_minor": 5
}
