{
 "cells": [
  {
   "cell_type": "code",
   "execution_count": 6,
   "id": "cc4482b3-633e-44bc-a9ad-f049561592f7",
   "metadata": {},
   "outputs": [],
   "source": [
    "from sympy import symbols, sin, cos, Eq, fraction"
   ]
  },
  {
   "cell_type": "code",
   "execution_count": 2,
   "id": "390c178b-e429-4cbd-be86-69750d5dc15a",
   "metadata": {},
   "outputs": [],
   "source": [
    "r, theta = symbols('r, theta')"
   ]
  },
  {
   "cell_type": "code",
   "execution_count": 3,
   "id": "c54afe1e-e18c-4c36-821e-c19c2855b0f9",
   "metadata": {},
   "outputs": [
    {
     "data": {
      "text/latex": [
       "$\\displaystyle r$"
      ],
      "text/plain": [
       "r"
      ]
     },
     "execution_count": 3,
     "metadata": {},
     "output_type": "execute_result"
    }
   ],
   "source": [
    "LHS1 = r\n",
    "LHS1"
   ]
  },
  {
   "cell_type": "code",
   "execution_count": 4,
   "id": "d435c900-3b01-49cc-a83e-bbd2a7ecfab0",
   "metadata": {},
   "outputs": [
    {
     "data": {
      "text/latex": [
       "$\\displaystyle \\frac{3}{1 - 2 \\cos{\\left(\\theta \\right)}}$"
      ],
      "text/plain": [
       "3/(1 - 2*cos(theta))"
      ]
     },
     "execution_count": 4,
     "metadata": {},
     "output_type": "execute_result"
    }
   ],
   "source": [
    "RHS1 = 3 / (1 - 2*cos(theta))\n",
    "RHS1"
   ]
  },
  {
   "cell_type": "code",
   "execution_count": 5,
   "id": "e220249f-4c4e-4be6-82a6-dece7992e67f",
   "metadata": {},
   "outputs": [
    {
     "data": {
      "text/latex": [
       "$\\displaystyle r = \\frac{3}{1 - 2 \\cos{\\left(\\theta \\right)}}$"
      ],
      "text/plain": [
       "Eq(r, 3/(1 - 2*cos(theta)))"
      ]
     },
     "execution_count": 5,
     "metadata": {},
     "output_type": "execute_result"
    }
   ],
   "source": [
    "eq1 = Eq(LHS1, RHS1)\n",
    "eq1"
   ]
  },
  {
   "cell_type": "code",
   "execution_count": 8,
   "id": "3eb33bab-bd30-43a1-8384-754ab3d03c5f",
   "metadata": {},
   "outputs": [
    {
     "data": {
      "text/latex": [
       "$\\displaystyle 1 - 2 \\cos{\\left(\\theta \\right)}$"
      ],
      "text/plain": [
       "1 - 2*cos(theta)"
      ]
     },
     "execution_count": 8,
     "metadata": {},
     "output_type": "execute_result"
    }
   ],
   "source": [
    "num, den = fraction(RHS1)\n",
    "den"
   ]
  },
  {
   "cell_type": "code",
   "execution_count": 9,
   "id": "f255311a-c308-4f00-9a88-a218de2b63e3",
   "metadata": {},
   "outputs": [
    {
     "data": {
      "text/latex": [
       "$\\displaystyle r \\left(1 - 2 \\cos{\\left(\\theta \\right)}\\right)$"
      ],
      "text/plain": [
       "r*(1 - 2*cos(theta))"
      ]
     },
     "execution_count": 9,
     "metadata": {},
     "output_type": "execute_result"
    }
   ],
   "source": [
    "LHS2 = LHS1 * den\n",
    "LHS2"
   ]
  },
  {
   "cell_type": "code",
   "execution_count": 11,
   "id": "72d1046b-638d-4ccb-ae01-8b14d14ed84a",
   "metadata": {},
   "outputs": [
    {
     "data": {
      "text/latex": [
       "$\\displaystyle 3$"
      ],
      "text/plain": [
       "3"
      ]
     },
     "execution_count": 11,
     "metadata": {},
     "output_type": "execute_result"
    }
   ],
   "source": [
    "RHS2 = RHS1*den\n",
    "RHS2"
   ]
  },
  {
   "cell_type": "code",
   "execution_count": null,
   "id": "4555d3cd-5a9a-4618-86fb-087d17f08fdf",
   "metadata": {},
   "outputs": [],
   "source": []
  }
 ],
 "metadata": {
  "kernelspec": {
   "display_name": "Python 3 (ipykernel)",
   "language": "python",
   "name": "python3"
  },
  "language_info": {
   "codemirror_mode": {
    "name": "ipython",
    "version": 3
   },
   "file_extension": ".py",
   "mimetype": "text/x-python",
   "name": "python",
   "nbconvert_exporter": "python",
   "pygments_lexer": "ipython3",
   "version": "3.9.6"
  },
  "widgets": {
   "application/vnd.jupyter.widget-state+json": {
    "state": {},
    "version_major": 2,
    "version_minor": 0
   }
  }
 },
 "nbformat": 4,
 "nbformat_minor": 5
}
