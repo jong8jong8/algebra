{
 "cells": [
  {
   "cell_type": "code",
   "execution_count": 15,
   "id": "0aad38cf-9f21-45d1-99a6-d58eb7b9a0e0",
   "metadata": {},
   "outputs": [],
   "source": [
    "from sympy.matrices import Matrix"
   ]
  },
  {
   "cell_type": "code",
   "execution_count": 34,
   "id": "86bb46be-bace-4e65-88a8-968f9cf4dc19",
   "metadata": {},
   "outputs": [
    {
     "data": {
      "text/latex": [
       "$\\displaystyle \\left[\\begin{matrix}-15 & 25 & 32\\\\41 & -7 & -28\\\\10 & 34 & -2\\end{matrix}\\right]$"
      ],
      "text/plain": [
       "Matrix([\n",
       "[-15, 25,  32],\n",
       "[ 41, -7, -28],\n",
       "[ 10, 34,  -2]])"
      ]
     },
     "execution_count": 34,
     "metadata": {},
     "output_type": "execute_result"
    }
   ],
   "source": [
    "A = Matrix( [ [-15, 25, 32], [41, -7, -28], [10, 34, -2] ] )\n",
    "A"
   ]
  },
  {
   "cell_type": "code",
   "execution_count": 35,
   "id": "d35b6531-0f47-42e7-b681-37e9ad5a0e58",
   "metadata": {},
   "outputs": [
    {
     "data": {
      "text/latex": [
       "$\\displaystyle \\left[\\begin{matrix}45 & 21 & -37\\\\-24 & 52 & 19\\\\6 & -48 & -31\\end{matrix}\\right]$"
      ],
      "text/plain": [
       "Matrix([\n",
       "[ 45,  21, -37],\n",
       "[-24,  52,  19],\n",
       "[  6, -48, -31]])"
      ]
     },
     "execution_count": 35,
     "metadata": {},
     "output_type": "execute_result"
    }
   ],
   "source": [
    "B = Matrix( [ [45, 21, -37], [-24, 52, 19], [6, -48, -31] ] )\n",
    "B"
   ]
  },
  {
   "cell_type": "code",
   "execution_count": 33,
   "id": "cd96ded0-b6a1-4e17-b530-69629bd5c181",
   "metadata": {},
   "outputs": [
    {
     "data": {
      "text/latex": [
       "$\\displaystyle \\left[\\begin{matrix}2520 & 3840\\end{matrix}\\right]$"
      ],
      "text/plain": [
       "Matrix([[2520, 3840]])"
      ]
     },
     "execution_count": 33,
     "metadata": {},
     "output_type": "execute_result"
    }
   ],
   "source": [
    "C = Matrix( [ [-100, -89, -98], [25, -56, 7], [] ] )"
   ]
  },
  {
   "cell_type": "code",
   "execution_count": null,
   "id": "699be179-a538-489f-af7c-17dfa4956f7b",
   "metadata": {},
   "outputs": [],
   "source": []
  }
 ],
 "metadata": {
  "kernelspec": {
   "display_name": "Python 3 (ipykernel)",
   "language": "python",
   "name": "python3"
  },
  "language_info": {
   "codemirror_mode": {
    "name": "ipython",
    "version": 3
   },
   "file_extension": ".py",
   "mimetype": "text/x-python",
   "name": "python",
   "nbconvert_exporter": "python",
   "pygments_lexer": "ipython3",
   "version": "3.9.6"
  },
  "widgets": {
   "application/vnd.jupyter.widget-state+json": {
    "state": {},
    "version_major": 2,
    "version_minor": 0
   }
  }
 },
 "nbformat": 4,
 "nbformat_minor": 5
}
