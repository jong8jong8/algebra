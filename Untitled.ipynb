{
 "cells": [
  {
   "cell_type": "code",
   "execution_count": 1,
   "id": "8768dfc4-f860-4847-a009-7c5c1d844705",
   "metadata": {},
   "outputs": [],
   "source": [
    "from sympy import symbols, S, solveset"
   ]
  },
  {
   "cell_type": "code",
   "execution_count": 2,
   "id": "507d3039-fd7a-4733-b902-7c6df585a0ca",
   "metadata": {},
   "outputs": [],
   "source": [
    "x = symbols('x')\n",
    "\n"
   ]
  },
  {
   "cell_type": "code",
   "execution_count": 3,
   "id": "ee2628e6-fc80-4f73-9ba8-60c6e6fb32b4",
   "metadata": {},
   "outputs": [
    {
     "data": {
      "text/latex": [
       "$\\displaystyle x - 1 \\leq 6$"
      ],
      "text/plain": [
       "x - 1 <= 6"
      ]
     },
     "execution_count": 3,
     "metadata": {},
     "output_type": "execute_result"
    }
   ],
   "source": [
    "inequality = 6 >= x - 1\n",
    "inequality"
   ]
  },
  {
   "cell_type": "code",
   "execution_count": 4,
   "id": "2c09e277-be6a-4344-b748-862309a9ee07",
   "metadata": {},
   "outputs": [
    {
     "data": {
      "text/latex": [
       "$\\displaystyle \\left(-\\infty, 7\\right]$"
      ],
      "text/plain": [
       "Interval(-oo, 7)"
      ]
     },
     "execution_count": 4,
     "metadata": {},
     "output_type": "execute_result"
    }
   ],
   "source": [
    "solveset(inequality, x, domain=S.Reals)"
   ]
  },
  {
   "cell_type": "code",
   "execution_count": null,
   "id": "5693b576-df50-4c03-8324-f0f19be8689d",
   "metadata": {},
   "outputs": [],
   "source": []
  }
 ],
 "metadata": {
  "kernelspec": {
   "display_name": "Python 3 (ipykernel)",
   "language": "python",
   "name": "python3"
  },
  "language_info": {
   "codemirror_mode": {
    "name": "ipython",
    "version": 3
   },
   "file_extension": ".py",
   "mimetype": "text/x-python",
   "name": "python",
   "nbconvert_exporter": "python",
   "pygments_lexer": "ipython3",
   "version": "3.9.6"
  }
 },
 "nbformat": 4,
 "nbformat_minor": 5
}
