{
 "cells": [
  {
   "cell_type": "code",
   "execution_count": 38,
   "id": "082365cb-4663-4472-b301-5925c79d10be",
   "metadata": {},
   "outputs": [
    {
     "data": {
      "application/vnd.jupyter.widget-view+json": {
       "model_id": "0c2eb3bc17f94197a28278cadf22e37e",
       "version_major": 2,
       "version_minor": 0
      },
      "text/plain": [
       "Canvas(toolbar=Toolbar(toolitems=[('Home', 'Reset original view', 'home', 'home'), ('Back', 'Back to previous …"
      ]
     },
     "metadata": {},
     "output_type": "display_data"
    },
    {
     "data": {
      "text/plain": [
       "(-3.0, 8.0)"
      ]
     },
     "execution_count": 38,
     "metadata": {},
     "output_type": "execute_result"
    }
   ],
   "source": [
    "%matplotlib widget\n",
    "import matplotlib.pyplot as plt\n",
    "import numpy as np\n",
    "\n",
    "a = 1\n",
    "b = 4\n",
    "c = 3\n",
    "h = -b/(2*a)\n",
    "k = c - (b**2)/(4*a)\n",
    "\n",
    "x = np.arange(-6, 6, 0.05)\n",
    "y = a*x**2 + b*x + c\n",
    "root1 = (-b - np.sqrt(b**2 - 4*a*c))/(2*a)\n",
    "root2 = (-b + np.sqrt(b**2 - 4*a*c))/(2*a)\n",
    "\n",
    "plt.style.use('seaborn')\n",
    "fig, ax = plt.subplots()\n",
    "ax.plot(x, y)\n",
    "ax.axvline(x = h, color='r', linestyle='--')\n",
    "ax.scatter(h, k)\n",
    "ax.scatter(root1, 0)\n",
    "ax.scatter(root2, 0)\n",
    "plt.xlim(-6, 6)\n",
    "plt.ylim(-3, 8)"
   ]
  },
  {
   "cell_type": "code",
   "execution_count": null,
   "id": "baafdfb1-c3f8-446b-bde1-fcfd3ba400d8",
   "metadata": {},
   "outputs": [],
   "source": []
  }
 ],
 "metadata": {
  "kernelspec": {
   "display_name": "Python 3 (ipykernel)",
   "language": "python",
   "name": "python3"
  },
  "language_info": {
   "codemirror_mode": {
    "name": "ipython",
    "version": 3
   },
   "file_extension": ".py",
   "mimetype": "text/x-python",
   "name": "python",
   "nbconvert_exporter": "python",
   "pygments_lexer": "ipython3",
   "version": "3.9.6"
  }
 },
 "nbformat": 4,
 "nbformat_minor": 5
}
