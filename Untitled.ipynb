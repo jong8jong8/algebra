{
 "cells": [
  {
   "cell_type": "code",
   "execution_count": 11,
   "id": "cd6c275e-4a03-453b-8ec0-915a775cd8d7",
   "metadata": {},
   "outputs": [],
   "source": [
    "from sympy import symbols, S, solveset, Intersection"
   ]
  },
  {
   "cell_type": "code",
   "execution_count": 2,
   "id": "f2fa9104-11cc-48b1-be22-c9c2b53a8ec3",
   "metadata": {},
   "outputs": [],
   "source": [
    "x = symbols('x')"
   ]
  },
  {
   "cell_type": "code",
   "execution_count": 14,
   "id": "2d854205-e865-4eae-82f1-8551a93316d6",
   "metadata": {},
   "outputs": [
    {
     "data": {
      "text/latex": [
       "$\\displaystyle 2 x + 2 \\geq 3$"
      ],
      "text/plain": [
       "2*x + 2 >= 3"
      ]
     },
     "execution_count": 14,
     "metadata": {},
     "output_type": "execute_result"
    }
   ],
   "source": [
    "ineq1 = 3 <= 2*x + 2\n",
    "ineq1"
   ]
  },
  {
   "cell_type": "code",
   "execution_count": 16,
   "id": "001d2f65-5842-43db-8ec3-a4a869b71c13",
   "metadata": {},
   "outputs": [
    {
     "data": {
      "text/latex": [
       "$\\displaystyle 2 x + 2 < 6$"
      ],
      "text/plain": [
       "2*x + 2 < 6"
      ]
     },
     "execution_count": 16,
     "metadata": {},
     "output_type": "execute_result"
    }
   ],
   "source": [
    "ineq2 = 2*x + 2 < 6\n",
    "ineq2"
   ]
  },
  {
   "cell_type": "code",
   "execution_count": 19,
   "id": "20852cb3-a130-43b6-9e40-9165575369d4",
   "metadata": {},
   "outputs": [
    {
     "data": {
      "text/latex": [
       "$\\displaystyle \\left[\\frac{1}{2}, \\infty\\right)$"
      ],
      "text/plain": [
       "Interval(1/2, oo)"
      ]
     },
     "execution_count": 19,
     "metadata": {},
     "output_type": "execute_result"
    }
   ],
   "source": [
    "interval1 = solveset(ineq1, x, S.Reals)\n",
    "interval1"
   ]
  },
  {
   "cell_type": "code",
   "execution_count": 20,
   "id": "b2346fe2-9284-4b84-9c3e-8264d1664bd6",
   "metadata": {},
   "outputs": [
    {
     "data": {
      "text/latex": [
       "$\\displaystyle \\left(-\\infty, 2\\right)$"
      ],
      "text/plain": [
       "Interval.open(-oo, 2)"
      ]
     },
     "execution_count": 20,
     "metadata": {},
     "output_type": "execute_result"
    }
   ],
   "source": [
    "interval2 = solveset(ineq2, x, S.Reals)\n",
    "interval2"
   ]
  },
  {
   "cell_type": "code",
   "execution_count": 23,
   "id": "c266578b-9f1e-40f7-8b40-fbbdcacc4077",
   "metadata": {},
   "outputs": [
    {
     "data": {
      "text/latex": [
       "$\\displaystyle \\left[\\frac{1}{2}, 2\\right)$"
      ],
      "text/plain": [
       "Interval.Ropen(1/2, 2)"
      ]
     },
     "execution_count": 23,
     "metadata": {},
     "output_type": "execute_result"
    }
   ],
   "source": [
    "Intersection(interval1, interval2)"
   ]
  },
  {
   "cell_type": "code",
   "execution_count": null,
   "id": "7457c7dc-e767-4319-9b13-d33846fc255c",
   "metadata": {},
   "outputs": [],
   "source": []
  }
 ],
 "metadata": {
  "kernelspec": {
   "display_name": "Python 3",
   "language": "python",
   "name": "python3"
  },
  "language_info": {
   "codemirror_mode": {
    "name": "ipython",
    "version": 3
   },
   "file_extension": ".py",
   "mimetype": "text/x-python",
   "name": "python",
   "nbconvert_exporter": "python",
   "pygments_lexer": "ipython3",
   "version": "3.8.5"
  }
 },
 "nbformat": 4,
 "nbformat_minor": 5
}
