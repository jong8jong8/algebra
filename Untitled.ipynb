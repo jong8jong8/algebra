{
 "cells": [
  {
   "cell_type": "code",
   "execution_count": 12,
   "id": "00a575c0-6b63-4524-a070-11a6c3bef842",
   "metadata": {},
   "outputs": [],
   "source": [
    "from sympy import sqrt, simplify, conjugate"
   ]
  },
  {
   "cell_type": "code",
   "execution_count": 4,
   "id": "ceafec0c-b305-4a7a-a195-77fbece17fe6",
   "metadata": {},
   "outputs": [],
   "source": [
    "a, b, c, d = 1, 2, 3, 4\n",
    "i = sqrt(-1)\n"
   ]
  },
  {
   "cell_type": "code",
   "execution_count": 5,
   "id": "5e4907fe-e77a-4d64-b5b2-af9b86297480",
   "metadata": {},
   "outputs": [
    {
     "data": {
      "text/latex": [
       "$\\displaystyle 1 + 2 i$"
      ],
      "text/plain": [
       "1 + 2*I"
      ]
     },
     "execution_count": 5,
     "metadata": {},
     "output_type": "execute_result"
    }
   ],
   "source": [
    "z1 = a + b*i\n",
    "z1\n"
   ]
  },
  {
   "cell_type": "code",
   "execution_count": 6,
   "id": "5d9af1f5-b802-4f68-a676-4af72cb43f57",
   "metadata": {},
   "outputs": [
    {
     "data": {
      "text/latex": [
       "$\\displaystyle 3 + 4 i$"
      ],
      "text/plain": [
       "3 + 4*I"
      ]
     },
     "execution_count": 6,
     "metadata": {},
     "output_type": "execute_result"
    }
   ],
   "source": [
    "z2 = c + d*i\n",
    "z2\n"
   ]
  },
  {
   "cell_type": "code",
   "execution_count": 7,
   "id": "0cdc7285-ec05-41bc-ae8e-eab1539c73fe",
   "metadata": {},
   "outputs": [
    {
     "data": {
      "text/latex": [
       "$\\displaystyle 4 + 6 i$"
      ],
      "text/plain": [
       "4 + 6*I"
      ]
     },
     "execution_count": 7,
     "metadata": {},
     "output_type": "execute_result"
    }
   ],
   "source": [
    "z1 + z2\n"
   ]
  },
  {
   "cell_type": "code",
   "execution_count": 8,
   "id": "b30a9b45-88da-4a13-9dd5-df8f3c69538f",
   "metadata": {},
   "outputs": [
    {
     "data": {
      "text/latex": [
       "$\\displaystyle -2 - 2 i$"
      ],
      "text/plain": [
       "-2 - 2*I"
      ]
     },
     "execution_count": 8,
     "metadata": {},
     "output_type": "execute_result"
    }
   ],
   "source": [
    "z1 - z2\n"
   ]
  },
  {
   "cell_type": "code",
   "execution_count": 10,
   "id": "5ce770c5-94b6-42b9-b31c-4b9f90f1522a",
   "metadata": {},
   "outputs": [
    {
     "data": {
      "text/latex": [
       "$\\displaystyle -5 + 10 i$"
      ],
      "text/plain": [
       "-5 + 10*I"
      ]
     },
     "execution_count": 10,
     "metadata": {},
     "output_type": "execute_result"
    }
   ],
   "source": [
    "simplify(z1*z2)"
   ]
  },
  {
   "cell_type": "code",
   "execution_count": 13,
   "id": "eeeb8fcb-35f7-4996-a163-85e31ff02ecc",
   "metadata": {},
   "outputs": [
    {
     "data": {
      "text/latex": [
       "$\\displaystyle 1 - 2 i$"
      ],
      "text/plain": [
       "1 - 2*I"
      ]
     },
     "execution_count": 13,
     "metadata": {},
     "output_type": "execute_result"
    }
   ],
   "source": [
    "conjugate(z1)"
   ]
  },
  {
   "cell_type": "code",
   "execution_count": 14,
   "id": "c73e5346-f2a3-4880-82ba-b3a7a4816c37",
   "metadata": {},
   "outputs": [
    {
     "data": {
      "text/latex": [
       "$\\displaystyle - i$"
      ],
      "text/plain": [
       "-I"
      ]
     },
     "execution_count": 14,
     "metadata": {},
     "output_type": "execute_result"
    }
   ],
   "source": [
    "i**3"
   ]
  },
  {
   "cell_type": "code",
   "execution_count": 15,
   "id": "66f0136a-63d2-4a9b-9a1f-c04cfb2a56cb",
   "metadata": {},
   "outputs": [
    {
     "data": {
      "text/plain": [
       "0.6"
      ]
     },
     "execution_count": 15,
     "metadata": {},
     "output_type": "execute_result"
    }
   ],
   "source": [
    "3/5"
   ]
  },
  {
   "cell_type": "code",
   "execution_count": 16,
   "id": "0d3c2578-9e68-4e13-a78f-a0d19cad26cc",
   "metadata": {},
   "outputs": [
    {
     "data": {
      "text/plain": [
       "0"
      ]
     },
     "execution_count": 16,
     "metadata": {},
     "output_type": "execute_result"
    }
   ],
   "source": [
    "3 // 5"
   ]
  },
  {
   "cell_type": "code",
   "execution_count": 17,
   "id": "4631baea-be9a-4e8f-883a-7efe7dedc0e2",
   "metadata": {},
   "outputs": [
    {
     "data": {
      "text/plain": [
       "1"
      ]
     },
     "execution_count": 17,
     "metadata": {},
     "output_type": "execute_result"
    }
   ],
   "source": [
    "5 % 2"
   ]
  },
  {
   "cell_type": "code",
   "execution_count": null,
   "id": "21ddaa1a-8538-4c78-9c9d-9804fd9e9137",
   "metadata": {},
   "outputs": [],
   "source": []
  }
 ],
 "metadata": {
  "kernelspec": {
   "display_name": "Python 3 (ipykernel)",
   "language": "python",
   "name": "python3"
  },
  "language_info": {
   "codemirror_mode": {
    "name": "ipython",
    "version": 3
   },
   "file_extension": ".py",
   "mimetype": "text/x-python",
   "name": "python",
   "nbconvert_exporter": "python",
   "pygments_lexer": "ipython3",
   "version": "3.9.6"
  }
 },
 "nbformat": 4,
 "nbformat_minor": 5
}
