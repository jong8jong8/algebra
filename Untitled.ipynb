{
 "cells": [
  {
   "cell_type": "code",
   "execution_count": 46,
   "id": "a9dcd0ec-95d8-409e-8535-60f1005db65e",
   "metadata": {},
   "outputs": [
    {
     "data": {
      "application/vnd.jupyter.widget-view+json": {
       "model_id": "9203209350bb4a09880911bf10e9fcda",
       "version_major": 2,
       "version_minor": 0
      },
      "text/plain": [
       "Canvas(toolbar=Toolbar(toolitems=[('Home', 'Reset original view', 'home', 'home'), ('Back', 'Back to previous …"
      ]
     },
     "metadata": {},
     "output_type": "display_data"
    },
    {
     "data": {
      "text/plain": [
       "(-30.0, 30.0)"
      ]
     },
     "execution_count": 46,
     "metadata": {},
     "output_type": "execute_result"
    }
   ],
   "source": [
    "%matplotlib widget\n",
    "import matplotlib.pyplot as plt\n",
    "import numpy as np\n",
    "\n",
    "x = np.arange(-25, 25, 0.0001)\n",
    "x1 = np.arange(-25, -4, 0.0001)\n",
    "x2 = np.arange(8, 25, 0.0001)\n",
    "y1 = -5 + np.sqrt(81*((x1 - 2)**2/36 - 1))\n",
    "y2 = -5 + np.sqrt(81*((x2 - 2)**2/36 - 1))\n",
    "y3 = -5 - np.sqrt(81*((x1 - 2)**2/36 - 1))\n",
    "y4 = -5 - np.sqrt(81*((x2 - 2)**2/36 - 1))\n",
    "y5 = 9/6*(x - 2) - 5\n",
    "y6 = -9/6*(x - 2) - 5\n",
    "           \n",
    "fig, ax = plt.subplots()\n",
    "ax.plot(x1, y1, 'C0')\n",
    "ax.plot(x2, y2, 'C0')\n",
    "ax.plot(x1, y3, 'C0')\n",
    "ax.plot(x2, y4, 'C0')\n",
    "ax.plot(x, y5, 'r--')\n",
    "ax.plot(x, y6, 'r--')\n",
    "\n",
    "ax.scatter(2, -5, color='k')\n",
    "ax.scatter(-4, -5, color='r')\n",
    "ax.scatter(8, -5, color='r')\n",
    "ax.scatter(2, -14, color='g')\n",
    "ax.scatter(2, 4, color='g')\n",
    "ax.scatter(-np.sqrt(117) + 2, -5, color='b')\n",
    "ax.scatter(np.sqrt(117) + 2, -5, color='b')\n",
    "\n",
    "ax.set_aspect('equal', 'box')\n",
    "\n",
    "plt.grid(which='major', color='#666666', linestyle='-')\n",
    "plt.minorticks_on()\n",
    "plt.grid(which='minor', color='#999999', linestyle='-', alpha=0.2)\n",
    "\n",
    "plt.xlim(-25, 25)\n",
    "plt.ylim(-30, 30)"
   ]
  },
  {
   "cell_type": "code",
   "execution_count": null,
   "id": "89231f8c-a44a-403d-9c83-8fa6ad550b4b",
   "metadata": {},
   "outputs": [],
   "source": []
  }
 ],
 "metadata": {
  "kernelspec": {
   "display_name": "Python 3 (ipykernel)",
   "language": "python",
   "name": "python3"
  },
  "language_info": {
   "codemirror_mode": {
    "name": "ipython",
    "version": 3
   },
   "file_extension": ".py",
   "mimetype": "text/x-python",
   "name": "python",
   "nbconvert_exporter": "python",
   "pygments_lexer": "ipython3",
   "version": "3.9.6"
  },
  "widgets": {
   "application/vnd.jupyter.widget-state+json": {
    "state": {},
    "version_major": 2,
    "version_minor": 0
   }
  }
 },
 "nbformat": 4,
 "nbformat_minor": 5
}
