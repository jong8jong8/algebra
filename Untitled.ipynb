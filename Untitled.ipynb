{
 "cells": [
  {
   "cell_type": "code",
   "execution_count": 22,
   "id": "20e89e89-2e5c-44b2-822d-ccf90521232c",
   "metadata": {},
   "outputs": [],
   "source": [
    "from sympy import symbols, Eq, solveset"
   ]
  },
  {
   "cell_type": "code",
   "execution_count": 23,
   "id": "ebf0daf6-0400-4d27-b0ac-f7cdb2dceb51",
   "metadata": {},
   "outputs": [],
   "source": [
    "x = symbols('x')"
   ]
  },
  {
   "cell_type": "code",
   "execution_count": 24,
   "id": "722bc2f8-a238-454d-be99-08ba0ca3853b",
   "metadata": {},
   "outputs": [
    {
     "data": {
      "text/latex": [
       "$\\displaystyle x^{2} + 5 x + 1 = 0$"
      ],
      "text/plain": [
       "Eq(x**2 + 5*x + 1, 0)"
      ]
     },
     "execution_count": 24,
     "metadata": {},
     "output_type": "execute_result"
    }
   ],
   "source": [
    "eqn = Eq(x**2 + 5*x + 1, 0)\n",
    "eqn"
   ]
  },
  {
   "cell_type": "code",
   "execution_count": 26,
   "id": "46f47547-85d5-42df-9664-9b0ca09523ba",
   "metadata": {},
   "outputs": [],
   "source": [
    "solutions = solveset(eqn)"
   ]
  },
  {
   "cell_type": "code",
   "execution_count": 27,
   "id": "4b217210-c638-45ba-984e-55a81a380f0f",
   "metadata": {},
   "outputs": [
    {
     "data": {
      "text/latex": [
       "$\\displaystyle \\left\\{- \\frac{5}{2} - \\frac{\\sqrt{21}}{2}, - \\frac{5}{2} + \\frac{\\sqrt{21}}{2}\\right\\}$"
      ],
      "text/plain": [
       "FiniteSet(-5/2 - sqrt(21)/2, -5/2 + sqrt(21)/2)"
      ]
     },
     "execution_count": 27,
     "metadata": {},
     "output_type": "execute_result"
    }
   ],
   "source": [
    "solutions"
   ]
  },
  {
   "cell_type": "code",
   "execution_count": 36,
   "id": "0a84f0e5-35e2-48ea-8ac0-758c87e4b539",
   "metadata": {},
   "outputs": [
    {
     "data": {
      "text/plain": [
       "[-5/2 - sqrt(21)/2, -5/2 + sqrt(21)/2]"
      ]
     },
     "execution_count": 36,
     "metadata": {},
     "output_type": "execute_result"
    }
   ],
   "source": [
    "ordered_solutions = list(solutions)\n",
    "ordered_solutions"
   ]
  },
  {
   "cell_type": "code",
   "execution_count": 40,
   "id": "821fcb67-9625-4a7a-bd65-9c28abb8e854",
   "metadata": {},
   "outputs": [
    {
     "data": {
      "text/latex": [
       "$\\displaystyle - \\frac{5}{2} - \\frac{\\sqrt{21}}{2}$"
      ],
      "text/plain": [
       "-5/2 - sqrt(21)/2"
      ]
     },
     "execution_count": 40,
     "metadata": {},
     "output_type": "execute_result"
    }
   ],
   "source": [
    "x1 = ordered_solutions[0]\n",
    "x1"
   ]
  },
  {
   "cell_type": "code",
   "execution_count": 39,
   "id": "a325060a-780e-42c6-a793-51e7adcc81b3",
   "metadata": {},
   "outputs": [
    {
     "data": {
      "text/latex": [
       "$\\displaystyle - \\frac{5}{2} + \\frac{\\sqrt{21}}{2}$"
      ],
      "text/plain": [
       "-5/2 + sqrt(21)/2"
      ]
     },
     "execution_count": 39,
     "metadata": {},
     "output_type": "execute_result"
    }
   ],
   "source": [
    "x2 = sols[1]\n",
    "x2"
   ]
  },
  {
   "cell_type": "code",
   "execution_count": null,
   "id": "a9877c90-2acc-4dcb-97a4-688f61e58cd1",
   "metadata": {},
   "outputs": [],
   "source": []
  }
 ],
 "metadata": {
  "kernelspec": {
   "display_name": "Python 3",
   "language": "python",
   "name": "python3"
  },
  "language_info": {
   "codemirror_mode": {
    "name": "ipython",
    "version": 3
   },
   "file_extension": ".py",
   "mimetype": "text/x-python",
   "name": "python",
   "nbconvert_exporter": "python",
   "pygments_lexer": "ipython3",
   "version": "3.8.5"
  }
 },
 "nbformat": 4,
 "nbformat_minor": 5
}
