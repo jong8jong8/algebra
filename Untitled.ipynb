{
 "cells": [
  {
   "cell_type": "code",
   "execution_count": 20,
   "id": "18b037a6-2e97-427e-b389-3902f44862c4",
   "metadata": {},
   "outputs": [
    {
     "data": {
      "application/vnd.jupyter.widget-view+json": {
       "model_id": "6acb26d96f3c49e698777b423507ed90",
       "version_major": 2,
       "version_minor": 0
      },
      "text/plain": [
       "Canvas(toolbar=Toolbar(toolitems=[('Home', 'Reset original view', 'home', 'home'), ('Back', 'Back to previous …"
      ]
     },
     "metadata": {},
     "output_type": "display_data"
    },
    {
     "data": {
      "text/plain": [
       "(-1.0, 5.0)"
      ]
     },
     "execution_count": 20,
     "metadata": {},
     "output_type": "execute_result"
    }
   ],
   "source": [
    "# Example 13\n",
    "\n",
    "%matplotlib widget\n",
    "import matplotlib.pyplot as plt\n",
    "import numpy as np\n",
    "\n",
    "x = np.arange(-4, 4, 0.01)\n",
    "\n",
    "def f(x):\n",
    "    conditions = [x <= 1, (x > 1) & (x <= 2), x > 2]\n",
    "    formulas = [lambda x: x**2, lambda x: 3, lambda x: x]\n",
    "    result = np.piecewise(x, conditions, formulas)\n",
    "    return result\n",
    "\n",
    "plt.style.use('seaborn')\n",
    "fig, ax = plt.subplots()\n",
    "ax.plot(x, f(x))\n",
    "plt.xlim(-4,4)\n",
    "plt.ylim(-1,5)"
   ]
  },
  {
   "cell_type": "code",
   "execution_count": null,
   "id": "b801a17c-ebb8-4b9a-8cfe-fcd78f7f75ac",
   "metadata": {},
   "outputs": [],
   "source": []
  }
 ],
 "metadata": {
  "kernelspec": {
   "display_name": "Python 3",
   "language": "python",
   "name": "python3"
  },
  "language_info": {
   "codemirror_mode": {
    "name": "ipython",
    "version": 3
   },
   "file_extension": ".py",
   "mimetype": "text/x-python",
   "name": "python",
   "nbconvert_exporter": "python",
   "pygments_lexer": "ipython3",
   "version": "3.8.5"
  }
 },
 "nbformat": 4,
 "nbformat_minor": 5
}
