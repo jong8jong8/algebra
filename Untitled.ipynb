{
 "cells": [
  {
   "cell_type": "code",
   "execution_count": 14,
   "id": "e2075570-2c51-4a66-8d5d-2239694f8631",
   "metadata": {},
   "outputs": [],
   "source": [
    "from sympy import symbols, Function, Piecewise"
   ]
  },
  {
   "cell_type": "code",
   "execution_count": 15,
   "id": "3366e870-3abd-4678-9e8f-e2ed7a0d035c",
   "metadata": {},
   "outputs": [],
   "source": [
    "x = symbols('x')"
   ]
  },
  {
   "cell_type": "code",
   "execution_count": 16,
   "id": "0df0c767-4aa0-4ad1-8674-53bc6fa0718e",
   "metadata": {},
   "outputs": [],
   "source": [
    "f = Function('f')"
   ]
  },
  {
   "cell_type": "code",
   "execution_count": 17,
   "id": "9981dda0-6830-49d5-be2e-f3ec9bccc069",
   "metadata": {},
   "outputs": [],
   "source": [
    "def f(x):\n",
    "    formula1 = x\n",
    "    formula2 = -x\n",
    "    interval1 = (x >= 0)\n",
    "    interval2 = (x < 0)\n",
    "    return Piecewise( (formula1, interval1) , (formula2, interval2) )"
   ]
  },
  {
   "cell_type": "code",
   "execution_count": null,
   "id": "11691301-1160-4bac-8cad-bd5d80b924d8",
   "metadata": {},
   "outputs": [],
   "source": []
  }
 ],
 "metadata": {
  "kernelspec": {
   "display_name": "Python 3 (ipykernel)",
   "language": "python",
   "name": "python3"
  },
  "language_info": {
   "codemirror_mode": {
    "name": "ipython",
    "version": 3
   },
   "file_extension": ".py",
   "mimetype": "text/x-python",
   "name": "python",
   "nbconvert_exporter": "python",
   "pygments_lexer": "ipython3",
   "version": "3.9.6"
  }
 },
 "nbformat": 4,
 "nbformat_minor": 5
}
