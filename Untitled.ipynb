{
 "cells": [
  {
   "cell_type": "code",
   "execution_count": 45,
   "id": "a9e54561-bced-4c81-9a8e-7feb05f8ff96",
   "metadata": {},
   "outputs": [],
   "source": [
    "from sympy import symbols, Eq, linsolve"
   ]
  },
  {
   "cell_type": "code",
   "execution_count": 44,
   "id": "12970a1e-992f-423f-aabe-2da925558da1",
   "metadata": {},
   "outputs": [],
   "source": [
    "x, y = symbols('x, y')"
   ]
  },
  {
   "cell_type": "code",
   "execution_count": 50,
   "id": "43e0ebab-0c1e-44cf-b9ee-ddc0eb9f9d6d",
   "metadata": {},
   "outputs": [],
   "source": [
    "eq1 = Eq(x + 3*y, 2)\n",
    "eq2 = Eq(3*x + 9*y, 6)"
   ]
  },
  {
   "cell_type": "code",
   "execution_count": 51,
   "id": "bf082b5c-11c5-450c-a9cc-5b38b34739f3",
   "metadata": {},
   "outputs": [
    {
     "data": {
      "text/latex": [
       "$\\displaystyle \\left\\{\\left( 2 - 3 y, \\  y\\right)\\right\\}$"
      ],
      "text/plain": [
       "FiniteSet((2 - 3*y, y))"
      ]
     },
     "execution_count": 51,
     "metadata": {},
     "output_type": "execute_result"
    }
   ],
   "source": [
    "linsolve([eq1, eq2], (x, y))"
   ]
  },
  {
   "cell_type": "code",
   "execution_count": null,
   "id": "031e7a5b-14b1-4ecf-87eb-d7de39f69cbd",
   "metadata": {},
   "outputs": [],
   "source": []
  }
 ],
 "metadata": {
  "kernelspec": {
   "display_name": "Python 3 (ipykernel)",
   "language": "python",
   "name": "python3"
  },
  "language_info": {
   "codemirror_mode": {
    "name": "ipython",
    "version": 3
   },
   "file_extension": ".py",
   "mimetype": "text/x-python",
   "name": "python",
   "nbconvert_exporter": "python",
   "pygments_lexer": "ipython3",
   "version": "3.9.6"
  },
  "widgets": {
   "application/vnd.jupyter.widget-state+json": {
    "state": {},
    "version_major": 2,
    "version_minor": 0
   }
  }
 },
 "nbformat": 4,
 "nbformat_minor": 5
}
