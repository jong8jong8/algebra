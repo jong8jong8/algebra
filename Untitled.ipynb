{
 "cells": [
  {
   "cell_type": "code",
   "execution_count": 22,
   "id": "d8f6994c-aa44-4462-8492-4de19f8e33ac",
   "metadata": {},
   "outputs": [
    {
     "data": {
      "application/vnd.jupyter.widget-view+json": {
       "model_id": "1a9e717aa57b43ab98c29fea3d527957",
       "version_major": 2,
       "version_minor": 0
      },
      "text/plain": [
       "Canvas(toolbar=Toolbar(toolitems=[('Home', 'Reset original view', 'home', 'home'), ('Back', 'Back to previous …"
      ]
     },
     "metadata": {},
     "output_type": "display_data"
    },
    {
     "name": "stdout",
     "output_type": "stream",
     "text": [
      "[1, 2, 3, 4] [5, 0, -3, 2]\n",
      "[2.]\n",
      "[3.791]\n"
     ]
    },
    {
     "data": {
      "text/plain": [
       "(-10.0, 10.0)"
      ]
     },
     "execution_count": 22,
     "metadata": {},
     "output_type": "execute_result"
    }
   ],
   "source": [
    "%matplotlib widget\n",
    "import matplotlib.pyplot as plt\n",
    "import numpy as np\n",
    "\n",
    "x = np.arange(-3, 5, 0.001)\n",
    "y = x**3 - 5*x**2 + 3*x + 6\n",
    "\n",
    "plt.style.use('seaborn')\n",
    "fig, ax = plt.subplots()\n",
    "ax.plot(x, y)\n",
    "\n",
    "def f(t):\n",
    "    return t**3 - 5*t**2 + 3*t + 6\n",
    "\n",
    "x1, x2, x3, x4 = 1, 2, 3, 4\n",
    "y1, y2, y3, y4 = f(1), f(2), f(3), f(4) \n",
    "\n",
    "print([x1, x2, x3, x4], [y1, y2, y3, y4])\n",
    "\n",
    "ax.scatter([x1, x2, x3, x4], [y1, y2, y3, y4])\n",
    "ax.axhline(y = 0, color='y', linestyle='--')\n",
    "\n",
    "tol = 4e-3\n",
    "sol_index1 = np.where((y > -tol) & (y < tol) & (x > 1) & (x < 3))\n",
    "print(x[sol_index1])\n",
    "ax.scatter(x[sol_index1], y[sol_index1], color='magenta')\n",
    "\n",
    "sol_index2 = np.where((y > -tol) & (y < tol) & (x > 3) & (x < 4))\n",
    "print(x[sol_index2])\n",
    "ax.scatter(x[sol_index2], y[sol_index2], color='red')\n",
    "\n",
    "plt.xlim(-3, 5)\n",
    "plt.ylim(-10, 10)"
   ]
  },
  {
   "cell_type": "code",
   "execution_count": null,
   "id": "0f28f5fb-6715-4055-a086-6c9aec12b291",
   "metadata": {},
   "outputs": [],
   "source": []
  }
 ],
 "metadata": {
  "kernelspec": {
   "display_name": "Python 3 (ipykernel)",
   "language": "python",
   "name": "python3"
  },
  "language_info": {
   "codemirror_mode": {
    "name": "ipython",
    "version": 3
   },
   "file_extension": ".py",
   "mimetype": "text/x-python",
   "name": "python",
   "nbconvert_exporter": "python",
   "pygments_lexer": "ipython3",
   "version": "3.9.6"
  }
 },
 "nbformat": 4,
 "nbformat_minor": 5
}
