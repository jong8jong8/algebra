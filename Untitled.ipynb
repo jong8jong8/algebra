{
 "cells": [
  {
   "cell_type": "code",
   "execution_count": 21,
   "id": "4b70a743-d1c3-4074-a346-75c8c59db910",
   "metadata": {},
   "outputs": [],
   "source": [
    "from sympy import symbols, sqrt, pi, cos, sin, atan, S, simplify"
   ]
  },
  {
   "cell_type": "code",
   "execution_count": 6,
   "id": "8c7b8528-0daa-43a4-977f-51a808a603cb",
   "metadata": {},
   "outputs": [],
   "source": [
    "i = sqrt(-1)"
   ]
  },
  {
   "cell_type": "code",
   "execution_count": 7,
   "id": "097aea87-4b0c-4b3f-9210-dd87cb1c487d",
   "metadata": {},
   "outputs": [],
   "source": [
    "r, theta, n = symbols('r, theta, n')"
   ]
  },
  {
   "cell_type": "code",
   "execution_count": 9,
   "id": "cd8a2478-5a5e-4823-95d4-25c67c292653",
   "metadata": {},
   "outputs": [
    {
     "data": {
      "text/latex": [
       "$\\displaystyle r^{n} \\left(i \\sin{\\left(n \\theta \\right)} + \\cos{\\left(n \\theta \\right)}\\right)$"
      ],
      "text/plain": [
       "r**n*(I*sin(n*theta) + cos(n*theta))"
      ]
     },
     "execution_count": 9,
     "metadata": {},
     "output_type": "execute_result"
    }
   ],
   "source": [
    "zn = r**n * ( cos(n*theta) + i*sin(n*theta) )\n",
    "zn"
   ]
  },
  {
   "cell_type": "code",
   "execution_count": 18,
   "id": "bab11618-e272-4725-9e9d-b9ec025f0dc4",
   "metadata": {},
   "outputs": [
    {
     "data": {
      "text/latex": [
       "$\\displaystyle \\frac{\\pi}{4}$"
      ],
      "text/plain": [
       "pi/4"
      ]
     },
     "execution_count": 18,
     "metadata": {},
     "output_type": "execute_result"
    }
   ],
   "source": [
    "x = S(1) # symbolic integer\n",
    "y = 1\n",
    "atan(y/x) # y/x symbolic integer division"
   ]
  },
  {
   "cell_type": "code",
   "execution_count": 20,
   "id": "8be1d807-c267-4494-95d9-26f526462640",
   "metadata": {},
   "outputs": [
    {
     "data": {
      "text/latex": [
       "$\\displaystyle 4 \\sqrt{2} \\left(- \\frac{\\sqrt{2}}{2} - \\frac{\\sqrt{2} i}{2}\\right)$"
      ],
      "text/plain": [
       "4*sqrt(2)*(-sqrt(2)/2 - sqrt(2)*I/2)"
      ]
     },
     "execution_count": 20,
     "metadata": {},
     "output_type": "execute_result"
    }
   ],
   "source": [
    "zn = zn.subs({r: sqrt(x**2 + y**2), theta: atan(y/x), n: 5})\n",
    "zn"
   ]
  },
  {
   "cell_type": "code",
   "execution_count": 22,
   "id": "78b1fe84-e334-4f7d-99fd-db8aa8004e44",
   "metadata": {},
   "outputs": [
    {
     "data": {
      "text/latex": [
       "$\\displaystyle -4 - 4 i$"
      ],
      "text/plain": [
       "-4 - 4*I"
      ]
     },
     "execution_count": 22,
     "metadata": {},
     "output_type": "execute_result"
    }
   ],
   "source": [
    "simplify(zn)"
   ]
  },
  {
   "cell_type": "code",
   "execution_count": null,
   "id": "37029a52-80fa-45eb-ae27-fb11d9e550f1",
   "metadata": {},
   "outputs": [],
   "source": []
  }
 ],
 "metadata": {
  "kernelspec": {
   "display_name": "Python 3 (ipykernel)",
   "language": "python",
   "name": "python3"
  },
  "language_info": {
   "codemirror_mode": {
    "name": "ipython",
    "version": 3
   },
   "file_extension": ".py",
   "mimetype": "text/x-python",
   "name": "python",
   "nbconvert_exporter": "python",
   "pygments_lexer": "ipython3",
   "version": "3.9.6"
  },
  "widgets": {
   "application/vnd.jupyter.widget-state+json": {
    "state": {},
    "version_major": 2,
    "version_minor": 0
   }
  }
 },
 "nbformat": 4,
 "nbformat_minor": 5
}
