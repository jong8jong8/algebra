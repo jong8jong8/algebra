{
 "cells": [
  {
   "cell_type": "code",
   "execution_count": 18,
   "id": "b4069009-6f6f-413f-baa5-453bb1ccdfaa",
   "metadata": {},
   "outputs": [],
   "source": [
    "from sympy import symbols, Rational\n",
    "from sympy.matrices import Matrix"
   ]
  },
  {
   "cell_type": "code",
   "execution_count": 59,
   "id": "eb13bb2c-1e56-4122-a1ee-2640e58b1ecb",
   "metadata": {},
   "outputs": [],
   "source": [
    "M = Matrix([\n",
    "    [5, 3, 9, -1],\n",
    "    [-2, 3, -1, -2],\n",
    "    [-1, -4, 5, 1] ])"
   ]
  },
  {
   "cell_type": "code",
   "execution_count": 60,
   "id": "bbb5fa86-f70a-4cdf-91af-7eae994a48d9",
   "metadata": {},
   "outputs": [
    {
     "data": {
      "text/latex": [
       "$\\displaystyle \\left[\\begin{matrix}5 & 3 & 9 & -1\\\\-2 & 3 & -1 & -2\\\\-1 & -4 & 5 & 1\\end{matrix}\\right]$"
      ],
      "text/plain": [
       "Matrix([\n",
       "[ 5,  3,  9, -1],\n",
       "[-2,  3, -1, -2],\n",
       "[-1, -4,  5,  1]])"
      ]
     },
     "execution_count": 60,
     "metadata": {},
     "output_type": "execute_result"
    }
   ],
   "source": [
    "M"
   ]
  },
  {
   "cell_type": "code",
   "execution_count": 61,
   "id": "abd9c449-6bfb-4c17-9288-8f748d8d2227",
   "metadata": {},
   "outputs": [],
   "source": [
    "M_rref, M_pivot =  M.rref()  # reduced row-echelon form (rref)"
   ]
  },
  {
   "cell_type": "code",
   "execution_count": 62,
   "id": "eafbe30d-4c40-4fef-a8c0-200bfcda3845",
   "metadata": {},
   "outputs": [
    {
     "data": {
      "text/latex": [
       "$\\displaystyle \\left[\\begin{matrix}1 & 0 & 0 & \\frac{61}{187}\\\\0 & 1 & 0 & - \\frac{92}{187}\\\\0 & 0 & 1 & - \\frac{24}{187}\\end{matrix}\\right]$"
      ],
      "text/plain": [
       "Matrix([\n",
       "[1, 0, 0,  61/187],\n",
       "[0, 1, 0, -92/187],\n",
       "[0, 0, 1, -24/187]])"
      ]
     },
     "execution_count": 62,
     "metadata": {},
     "output_type": "execute_result"
    }
   ],
   "source": [
    "M_rref"
   ]
  },
  {
   "cell_type": "code",
   "execution_count": 63,
   "id": "cc1c2d13-ddd4-484a-9431-007a7fec1ae6",
   "metadata": {},
   "outputs": [
    {
     "data": {
      "text/plain": [
       "(0, 1, 2)"
      ]
     },
     "execution_count": 63,
     "metadata": {},
     "output_type": "execute_result"
    }
   ],
   "source": [
    "M_pivot"
   ]
  },
  {
   "cell_type": "code",
   "execution_count": null,
   "id": "6fc566bd-0c0c-41a3-90d0-62049a993bf9",
   "metadata": {},
   "outputs": [],
   "source": []
  },
  {
   "cell_type": "code",
   "execution_count": null,
   "id": "fc6b01de-60ce-49fa-92c4-a936fe7546de",
   "metadata": {},
   "outputs": [],
   "source": []
  }
 ],
 "metadata": {
  "kernelspec": {
   "display_name": "Python 3 (ipykernel)",
   "language": "python",
   "name": "python3"
  },
  "language_info": {
   "codemirror_mode": {
    "name": "ipython",
    "version": 3
   },
   "file_extension": ".py",
   "mimetype": "text/x-python",
   "name": "python",
   "nbconvert_exporter": "python",
   "pygments_lexer": "ipython3",
   "version": "3.9.6"
  },
  "widgets": {
   "application/vnd.jupyter.widget-state+json": {
    "state": {},
    "version_major": 2,
    "version_minor": 0
   }
  }
 },
 "nbformat": 4,
 "nbformat_minor": 5
}
