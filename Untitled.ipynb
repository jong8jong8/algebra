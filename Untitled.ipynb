{
 "cells": [
  {
   "cell_type": "code",
   "execution_count": 26,
   "id": "1bdc2878-963f-405e-a89a-b380440d29e8",
   "metadata": {},
   "outputs": [
    {
     "data": {
      "application/vnd.jupyter.widget-view+json": {
       "model_id": "c2c1acdf6bac41f0949b1bcbfcbabcb4",
       "version_major": 2,
       "version_minor": 0
      },
      "text/plain": [
       "Canvas(toolbar=Toolbar(toolitems=[('Home', 'Reset original view', 'home', 'home'), ('Back', 'Back to previous …"
      ]
     },
     "metadata": {},
     "output_type": "display_data"
    },
    {
     "data": {
      "text/plain": [
       "(-4.0, 12.0)"
      ]
     },
     "execution_count": 26,
     "metadata": {},
     "output_type": "execute_result"
    }
   ],
   "source": [
    "%matplotlib widget\n",
    "import matplotlib.pyplot as plt\n",
    "import numpy as np\n",
    "\n",
    "x = np.arange(-12, 12, 0.01)\n",
    "f = 2**x\n",
    "g = 2**(x + 3)\n",
    "h = 2**(x - 3)\n",
    "\n",
    "fig, ax = plt.subplots()\n",
    "ax.plot(x, f)\n",
    "ax.plot(x, g, 'r')\n",
    "ax.plot(x, h, color='orange')\n",
    "ax.axhline(y = 0, color='g', linestyle='--')\n",
    "ax.grid()\n",
    "ax.set_aspect('equal', 'box')\n",
    "plt.xlim(-12, 12)\n",
    "plt.ylim(-4, 12)"
   ]
  },
  {
   "cell_type": "code",
   "execution_count": null,
   "id": "87eff80f-e2a5-41fc-a454-46d39ef7c688",
   "metadata": {},
   "outputs": [],
   "source": []
  }
 ],
 "metadata": {
  "kernelspec": {
   "display_name": "Python 3 (ipykernel)",
   "language": "python",
   "name": "python3"
  },
  "language_info": {
   "codemirror_mode": {
    "name": "ipython",
    "version": 3
   },
   "file_extension": ".py",
   "mimetype": "text/x-python",
   "name": "python",
   "nbconvert_exporter": "python",
   "pygments_lexer": "ipython3",
   "version": "3.9.6"
  }
 },
 "nbformat": 4,
 "nbformat_minor": 5
}
