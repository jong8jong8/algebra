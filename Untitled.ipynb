{
 "cells": [
  {
   "cell_type": "code",
   "execution_count": 1,
   "id": "97b11246-1ad7-4d76-9986-4d7196ee9a6d",
   "metadata": {},
   "outputs": [],
   "source": [
    "from sympy import symbols, pi, sin, asin"
   ]
  },
  {
   "cell_type": "code",
   "execution_count": 2,
   "id": "8da150ac-36c7-475a-bad9-c6baec8c9196",
   "metadata": {},
   "outputs": [],
   "source": [
    "alpha, beta, gamma = symbols('alpha, beta, gamma')"
   ]
  },
  {
   "cell_type": "code",
   "execution_count": 3,
   "id": "73f7d677-d951-4248-938b-7bbc8454b78d",
   "metadata": {},
   "outputs": [],
   "source": [
    "a, b, c = symbols('a, b, c')"
   ]
  },
  {
   "cell_type": "code",
   "execution_count": 4,
   "id": "9cbd5008-7770-4f99-900b-91d2048bdc69",
   "metadata": {},
   "outputs": [
    {
     "data": {
      "text/plain": [
       "35"
      ]
     },
     "execution_count": 4,
     "metadata": {},
     "output_type": "execute_result"
    }
   ],
   "source": [
    "alpha = 35 # in degree\n",
    "alpha"
   ]
  },
  {
   "cell_type": "code",
   "execution_count": 5,
   "id": "ac571c66-218a-42a4-9d8b-8cfaa8c1ae08",
   "metadata": {},
   "outputs": [],
   "source": [
    "a = 6"
   ]
  },
  {
   "cell_type": "code",
   "execution_count": 6,
   "id": "6c250421-05e7-484b-bb8e-290e7b51dba6",
   "metadata": {},
   "outputs": [],
   "source": [
    "b = 8"
   ]
  },
  {
   "cell_type": "code",
   "execution_count": 7,
   "id": "60984ceb-76cf-4fb4-89dd-717b17498fa8",
   "metadata": {},
   "outputs": [
    {
     "data": {
      "text/latex": [
       "$\\displaystyle 49.8864084206875$"
      ],
      "text/plain": [
       "49.8864084206875"
      ]
     },
     "execution_count": 7,
     "metadata": {},
     "output_type": "execute_result"
    }
   ],
   "source": [
    "beta_prime = asin((sin(alpha*pi/180)/a)*b)*180/pi # the acute angle in degree\n",
    "beta_prime.evalf()"
   ]
  },
  {
   "cell_type": "code",
   "execution_count": 8,
   "id": "3311d3ab-52e0-4f8f-8cb9-8e165a4fdd71",
   "metadata": {},
   "outputs": [
    {
     "data": {
      "text/latex": [
       "$\\displaystyle 130.113591579313$"
      ],
      "text/plain": [
       "130.113591579313"
      ]
     },
     "execution_count": 8,
     "metadata": {},
     "output_type": "execute_result"
    }
   ],
   "source": [
    "beta = 180 - beta_prime # the obtuse angle in degree\n",
    "beta.evalf()"
   ]
  },
  {
   "cell_type": "code",
   "execution_count": 9,
   "id": "55ea6a7a-aead-4f34-acef-2bee4dfded09",
   "metadata": {},
   "outputs": [
    {
     "data": {
      "text/latex": [
       "$\\displaystyle 14.8864084206875$"
      ],
      "text/plain": [
       "14.8864084206875"
      ]
     },
     "execution_count": 9,
     "metadata": {},
     "output_type": "execute_result"
    }
   ],
   "source": [
    "gamma = 180 - alpha - beta\n",
    "gamma.evalf()"
   ]
  },
  {
   "cell_type": "code",
   "execution_count": 10,
   "id": "d00e863f-2045-46d1-a984-5b3b75c2743d",
   "metadata": {},
   "outputs": [
    {
     "data": {
      "text/latex": [
       "$\\displaystyle - \\frac{180 \\operatorname{asin}{\\left(\\frac{4 \\sin{\\left(\\frac{7 \\pi}{36} \\right)}}{3} \\right)}}{\\pi} + 145$"
      ],
      "text/plain": [
       "-180*asin(4*sin(7*pi/36)/3)/pi + 145"
      ]
     },
     "execution_count": 10,
     "metadata": {},
     "output_type": "execute_result"
    }
   ],
   "source": [
    "gamma_prime = 180 - alpha - beta_prime\n",
    "gamma_prime"
   ]
  },
  {
   "cell_type": "code",
   "execution_count": 11,
   "id": "cf3f9bb5-7210-4eae-aa91-78d47ca23066",
   "metadata": {},
   "outputs": [
    {
     "data": {
      "text/latex": [
       "$\\displaystyle 2.68738596661754$"
      ],
      "text/plain": [
       "2.68738596661754"
      ]
     },
     "execution_count": 11,
     "metadata": {},
     "output_type": "execute_result"
    }
   ],
   "source": [
    "c = (a/sin(alpha*pi/180))*sin(gamma*pi/180)\n",
    "c.evalf()"
   ]
  },
  {
   "cell_type": "code",
   "execution_count": 12,
   "id": "068cb31a-64d6-4402-8934-4e98b6c7c663",
   "metadata": {},
   "outputs": [
    {
     "data": {
      "text/latex": [
       "$\\displaystyle 10.4190467420063$"
      ],
      "text/plain": [
       "10.4190467420063"
      ]
     },
     "execution_count": 12,
     "metadata": {},
     "output_type": "execute_result"
    }
   ],
   "source": [
    "c_prime = (a/sin(alpha*pi/180))*sin(gamma_prime*pi/180)\n",
    "c_prime.evalf()"
   ]
  }
 ],
 "metadata": {
  "kernelspec": {
   "display_name": "Python 3 (ipykernel)",
   "language": "python",
   "name": "python3"
  },
  "language_info": {
   "codemirror_mode": {
    "name": "ipython",
    "version": 3
   },
   "file_extension": ".py",
   "mimetype": "text/x-python",
   "name": "python",
   "nbconvert_exporter": "python",
   "pygments_lexer": "ipython3",
   "version": "3.9.6"
  },
  "widgets": {
   "application/vnd.jupyter.widget-state+json": {
    "state": {
     "39efd226e1b94ece8a29d15d4cbf4a95": {
      "model_module": "@jupyter-widgets/base",
      "model_module_version": "1.2.0",
      "model_name": "LayoutModel",
      "state": {}
     },
     "4754addcc7664e61a4634243b7a5df82": {
      "model_module": "@jupyter-widgets/base",
      "model_module_version": "1.2.0",
      "model_name": "LayoutModel",
      "state": {}
     },
     "58b087c725664ef2b8755405002cb553": {
      "model_module": "jupyter-matplotlib",
      "model_module_version": "^0.9.0",
      "model_name": "ToolbarModel",
      "state": {
       "layout": "IPY_MODEL_a5b5d68c3df44c5fac76942a89990803",
       "toolitems": [
        [
         "Home",
         "Reset original view",
         "home",
         "home"
        ],
        [
         "Back",
         "Back to previous view",
         "arrow-left",
         "back"
        ],
        [
         "Forward",
         "Forward to next view",
         "arrow-right",
         "forward"
        ],
        [
         "Pan",
         "Left button pans, Right button zooms\nx/y fixes axis, CTRL fixes aspect",
         "arrows",
         "pan"
        ],
        [
         "Zoom",
         "Zoom to rectangle\nx/y fixes axis, CTRL fixes aspect",
         "square-o",
         "zoom"
        ],
        [
         "Download",
         "Download plot",
         "floppy-o",
         "save_figure"
        ]
       ]
      }
     },
     "6540d9c0a4354c83b057c1d9108ffd84": {
      "model_module": "@jupyter-widgets/base",
      "model_module_version": "1.2.0",
      "model_name": "LayoutModel",
      "state": {}
     },
     "74564374154e4f0eb132cb0c3355b9fd": {
      "model_module": "jupyter-matplotlib",
      "model_module_version": "^0.9.0",
      "model_name": "ToolbarModel",
      "state": {
       "layout": "IPY_MODEL_dc52a7f4f4de4768a657fac3493140ff",
       "toolitems": [
        [
         "Home",
         "Reset original view",
         "home",
         "home"
        ],
        [
         "Back",
         "Back to previous view",
         "arrow-left",
         "back"
        ],
        [
         "Forward",
         "Forward to next view",
         "arrow-right",
         "forward"
        ],
        [
         "Pan",
         "Left button pans, Right button zooms\nx/y fixes axis, CTRL fixes aspect",
         "arrows",
         "pan"
        ],
        [
         "Zoom",
         "Zoom to rectangle\nx/y fixes axis, CTRL fixes aspect",
         "square-o",
         "zoom"
        ],
        [
         "Download",
         "Download plot",
         "floppy-o",
         "save_figure"
        ]
       ]
      }
     },
     "a5b5d68c3df44c5fac76942a89990803": {
      "model_module": "@jupyter-widgets/base",
      "model_module_version": "1.2.0",
      "model_name": "LayoutModel",
      "state": {}
     },
     "b85b0fa82e674a7da63fb5daaa373869": {
      "model_module": "@jupyter-widgets/base",
      "model_module_version": "1.2.0",
      "model_name": "LayoutModel",
      "state": {}
     },
     "dc52a7f4f4de4768a657fac3493140ff": {
      "model_module": "@jupyter-widgets/base",
      "model_module_version": "1.2.0",
      "model_name": "LayoutModel",
      "state": {}
     },
     "e3413f0550d640f29b98c421046794ec": {
      "model_module": "jupyter-matplotlib",
      "model_module_version": "^0.9.0",
      "model_name": "MPLCanvasModel",
      "state": {
       "_cursor": "default",
       "_figure_label": "Figure 1",
       "_height": 550,
       "_width": 800,
       "layout": "IPY_MODEL_b85b0fa82e674a7da63fb5daaa373869",
       "toolbar": "IPY_MODEL_74564374154e4f0eb132cb0c3355b9fd",
       "toolbar_position": "left"
      }
     },
     "e376aace4c5640ceb39ad806c12a5a93": {
      "model_module": "jupyter-matplotlib",
      "model_module_version": "^0.9.0",
      "model_name": "ToolbarModel",
      "state": {
       "layout": "IPY_MODEL_6540d9c0a4354c83b057c1d9108ffd84",
       "toolitems": [
        [
         "Home",
         "Reset original view",
         "home",
         "home"
        ],
        [
         "Back",
         "Back to previous view",
         "arrow-left",
         "back"
        ],
        [
         "Forward",
         "Forward to next view",
         "arrow-right",
         "forward"
        ],
        [
         "Pan",
         "Left button pans, Right button zooms\nx/y fixes axis, CTRL fixes aspect",
         "arrows",
         "pan"
        ],
        [
         "Zoom",
         "Zoom to rectangle\nx/y fixes axis, CTRL fixes aspect",
         "square-o",
         "zoom"
        ],
        [
         "Download",
         "Download plot",
         "floppy-o",
         "save_figure"
        ]
       ]
      }
     }
    },
    "version_major": 2,
    "version_minor": 0
   }
  }
 },
 "nbformat": 4,
 "nbformat_minor": 5
}
