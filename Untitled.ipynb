{
 "cells": [
  {
   "cell_type": "code",
   "execution_count": 2,
   "id": "5afa681a-79cd-491d-ad8c-c0448901223c",
   "metadata": {},
   "outputs": [],
   "source": [
    "%matplotlib widget"
   ]
  },
  {
   "cell_type": "code",
   "execution_count": 3,
   "id": "9bff46c1-607d-49e3-b805-8fd0dc9c46df",
   "metadata": {},
   "outputs": [],
   "source": [
    "from sympy import symbols, sqrt"
   ]
  },
  {
   "cell_type": "code",
   "execution_count": 4,
   "id": "c15d3692-327b-479c-9c21-5ed434941271",
   "metadata": {},
   "outputs": [],
   "source": [
    "x, y = symbols('x, y')"
   ]
  },
  {
   "cell_type": "code",
   "execution_count": 6,
   "id": "e2e238c3-c7ce-485b-b216-d806aa665d5c",
   "metadata": {},
   "outputs": [],
   "source": [
    "val = sqrt(7**2 + 9**2)"
   ]
  },
  {
   "cell_type": "code",
   "execution_count": 7,
   "id": "bcd04747-35c4-4bf2-bb72-3c4c29a6d30e",
   "metadata": {},
   "outputs": [
    {
     "data": {
      "text/latex": [
       "$\\displaystyle 11.4017542509914$"
      ],
      "text/plain": [
       "11.4017542509914"
      ]
     },
     "execution_count": 7,
     "metadata": {},
     "output_type": "execute_result"
    }
   ],
   "source": [
    "val.evalf()"
   ]
  },
  {
   "cell_type": "code",
   "execution_count": 8,
   "id": "57d62020-40ab-4d98-aef8-4eb4ca953361",
   "metadata": {},
   "outputs": [
    {
     "data": {
      "text/latex": [
       "$\\displaystyle \\sqrt{89}$"
      ],
      "text/plain": [
       "sqrt(89)"
      ]
     },
     "execution_count": 8,
     "metadata": {},
     "output_type": "execute_result"
    }
   ],
   "source": [
    "val = sqrt(8**2 + 5**2)\n",
    "val"
   ]
  },
  {
   "cell_type": "code",
   "execution_count": 9,
   "id": "36a82d97-6430-43b1-bf2a-4572c34c1aa4",
   "metadata": {},
   "outputs": [
    {
     "data": {
      "text/latex": [
       "$\\displaystyle 9.4339811320566$"
      ],
      "text/plain": [
       "9.43398113205660"
      ]
     },
     "execution_count": 9,
     "metadata": {},
     "output_type": "execute_result"
    }
   ],
   "source": [
    "val.evalf()"
   ]
  },
  {
   "cell_type": "code",
   "execution_count": null,
   "id": "acff8873-b7f2-498e-b5a0-a4e6bdcd4caa",
   "metadata": {},
   "outputs": [],
   "source": []
  }
 ],
 "metadata": {
  "kernelspec": {
   "display_name": "Python 3",
   "language": "python",
   "name": "python3"
  },
  "language_info": {
   "codemirror_mode": {
    "name": "ipython",
    "version": 3
   },
   "file_extension": ".py",
   "mimetype": "text/x-python",
   "name": "python",
   "nbconvert_exporter": "python",
   "pygments_lexer": "ipython3",
   "version": "3.8.5"
  }
 },
 "nbformat": 4,
 "nbformat_minor": 5
}
