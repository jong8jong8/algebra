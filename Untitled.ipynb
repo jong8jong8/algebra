{
 "cells": [
  {
   "cell_type": "code",
   "execution_count": 56,
   "id": "c097c03f-9aad-4a5f-ba4d-00b3ca23fcda",
   "metadata": {},
   "outputs": [
    {
     "data": {
      "application/vnd.jupyter.widget-view+json": {
       "model_id": "60aebb88a2834345a7fc4bfc909f08fb",
       "version_major": 2,
       "version_minor": 0
      },
      "text/plain": [
       "Canvas(toolbar=Toolbar(toolitems=[('Home', 'Reset original view', 'home', 'home'), ('Back', 'Back to previous …"
      ]
     },
     "metadata": {},
     "output_type": "display_data"
    },
    {
     "data": {
      "text/plain": [
       "(-12.0, 12.0)"
      ]
     },
     "execution_count": 56,
     "metadata": {},
     "output_type": "execute_result"
    }
   ],
   "source": [
    "%matplotlib widget\n",
    "import matplotlib.pyplot as plt\n",
    "import numpy as np\n",
    "\n",
    "x1 = np.arange(-7, 0.99, 0.01)\n",
    "x2 = np.arange(1.01, 7, 0.01)\n",
    "y1 = (x1 + 2)*(x1 - 3)/(x1 - 1)\n",
    "y2 = (x2 + 2)*(x2 - 3)/(x2 - 1)\n",
    "\n",
    "fig, ax = plt.subplots()\n",
    "ax.plot(x1, y1, 'b', x2, y2, 'b')\n",
    "ax.axvline(x = 1, color='g', linestyle='--')\n",
    "ax.grid()\n",
    "plt.xlim(-7, 7)\n",
    "plt.ylim(-12, 12)"
   ]
  },
  {
   "cell_type": "code",
   "execution_count": null,
   "id": "20890f5b-dd53-4db1-9861-633500f372b6",
   "metadata": {},
   "outputs": [],
   "source": []
  }
 ],
 "metadata": {
  "kernelspec": {
   "display_name": "Python 3 (ipykernel)",
   "language": "python",
   "name": "python3"
  },
  "language_info": {
   "codemirror_mode": {
    "name": "ipython",
    "version": 3
   },
   "file_extension": ".py",
   "mimetype": "text/x-python",
   "name": "python",
   "nbconvert_exporter": "python",
   "pygments_lexer": "ipython3",
   "version": "3.9.6"
  }
 },
 "nbformat": 4,
 "nbformat_minor": 5
}
