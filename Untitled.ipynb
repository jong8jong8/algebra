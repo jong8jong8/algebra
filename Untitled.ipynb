{
 "cells": [
  {
   "cell_type": "code",
   "execution_count": 3,
   "id": "a2417f96-716c-4e5d-bbb0-13ebf631c3ae",
   "metadata": {},
   "outputs": [
    {
     "name": "stdout",
     "output_type": "stream",
     "text": [
      "[-3.74053030e-02  1.43226010e+00 -2.00379735e+01  1.20328833e+02\n",
      " -2.09097240e+02]\n"
     ]
    },
    {
     "data": {
      "application/vnd.jupyter.widget-view+json": {
       "model_id": "788ffdaae5b441bc8ca3c684b33e9d4f",
       "version_major": 2,
       "version_minor": 0
      },
      "text/plain": [
       "Canvas(toolbar=Toolbar(toolitems=[('Home', 'Reset original view', 'home', 'home'), ('Back', 'Back to previous …"
      ]
     },
     "metadata": {},
     "output_type": "display_data"
    },
    {
     "data": {
      "text/plain": [
       "Text(0.5, 1.0, 'Table 1')"
      ]
     },
     "execution_count": 3,
     "metadata": {},
     "output_type": "execute_result"
    }
   ],
   "source": [
    "# Table 1 \n",
    "\n",
    "%matplotlib widget\n",
    "import matplotlib.pyplot as plt\n",
    "import numpy as np\n",
    "\n",
    "t = np.array([6, 7, 8, 9, 10, 11, 12, 13])\n",
    "y = np.array([52.4, 52.8, 51.2, 49.5, 48.6, 48.6, 48.7, 47.1])\n",
    "C = np.polyfit(t, y, 4)\n",
    "print(C)\n",
    "R = C[0]*t**4 + C[1]*t**3 + C[2]*t**2 + C[3]*t + C[4]\n",
    "#R = -0.037*t**4 + 1.414*t**3 - 19.777*t**2 + 118.696*t - 205.332\n",
    "\n",
    "plt.style.use('seaborn')\n",
    "fig, ax = plt.subplots()\n",
    "ax.scatter(t+2000, y)\n",
    "ax.plot(t+2000, R, 'r')\n",
    "plt.xlabel('Year')\n",
    "plt.ylabel('Revenues')\n",
    "plt.title(\"Table 1\")\n"
   ]
  },
  {
   "cell_type": "code",
   "execution_count": null,
   "id": "5d957a41-e808-4cb6-a9f7-7cf061f9a368",
   "metadata": {},
   "outputs": [],
   "source": []
  }
 ],
 "metadata": {
  "kernelspec": {
   "display_name": "Python 3 (ipykernel)",
   "language": "python",
   "name": "python3"
  },
  "language_info": {
   "codemirror_mode": {
    "name": "ipython",
    "version": 3
   },
   "file_extension": ".py",
   "mimetype": "text/x-python",
   "name": "python",
   "nbconvert_exporter": "python",
   "pygments_lexer": "ipython3",
   "version": "3.8.12"
  },
  "widgets": {
   "application/vnd.jupyter.widget-state+json": {
    "state": {
     "2d52df1aa46542c38251ed9ee7265786": {
      "model_module": "jupyter-matplotlib",
      "model_module_version": "^0.9.0",
      "model_name": "ToolbarModel",
      "state": {
       "layout": "IPY_MODEL_7cd0028f68414650ab33f26b52094314",
       "toolitems": [
        [
         "Home",
         "Reset original view",
         "home",
         "home"
        ],
        [
         "Back",
         "Back to previous view",
         "arrow-left",
         "back"
        ],
        [
         "Forward",
         "Forward to next view",
         "arrow-right",
         "forward"
        ],
        [
         "Pan",
         "Left button pans, Right button zooms\nx/y fixes axis, CTRL fixes aspect",
         "arrows",
         "pan"
        ],
        [
         "Zoom",
         "Zoom to rectangle\nx/y fixes axis, CTRL fixes aspect",
         "square-o",
         "zoom"
        ],
        [
         "Download",
         "Download plot",
         "floppy-o",
         "save_figure"
        ]
       ]
      }
     },
     "4c0edff5841b40609846f41d50b5485c": {
      "model_module": "@jupyter-widgets/base",
      "model_module_version": "1.2.0",
      "model_name": "LayoutModel",
      "state": {}
     },
     "788ffdaae5b441bc8ca3c684b33e9d4f": {
      "model_module": "jupyter-matplotlib",
      "model_module_version": "^0.9.0",
      "model_name": "MPLCanvasModel",
      "state": {
       "_cursor": "default",
       "_figure_label": "Figure 1",
       "_height": 550,
       "_width": 800,
       "layout": "IPY_MODEL_4c0edff5841b40609846f41d50b5485c",
       "toolbar": "IPY_MODEL_2d52df1aa46542c38251ed9ee7265786",
       "toolbar_position": "left"
      }
     },
     "7cd0028f68414650ab33f26b52094314": {
      "model_module": "@jupyter-widgets/base",
      "model_module_version": "1.2.0",
      "model_name": "LayoutModel",
      "state": {}
     }
    },
    "version_major": 2,
    "version_minor": 0
   }
  }
 },
 "nbformat": 4,
 "nbformat_minor": 5
}
