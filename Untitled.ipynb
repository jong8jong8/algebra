{
 "cells": [
  {
   "cell_type": "code",
   "execution_count": 49,
   "id": "0f28f5fb-6715-4055-a086-6c9aec12b291",
   "metadata": {},
   "outputs": [
    {
     "data": {
      "application/vnd.jupyter.widget-view+json": {
       "model_id": "deddcc91afd7440ca03d0e7b6c17d254",
       "version_major": 2,
       "version_minor": 0
      },
      "text/plain": [
       "Canvas(toolbar=Toolbar(toolitems=[('Home', 'Reset original view', 'home', 'home'), ('Back', 'Back to previous …"
      ]
     },
     "metadata": {},
     "output_type": "display_data"
    },
    {
     "name": "stdout",
     "output_type": "stream",
     "text": [
      "The maximum volume is 339.012550656 cubic cm\n",
      "The maximum volume can be chosen when w is 2.704 cm\n"
     ]
    },
    {
     "data": {
      "text/plain": [
       "<matplotlib.collections.PathCollection at 0x1c420232d30>"
      ]
     },
     "execution_count": 49,
     "metadata": {},
     "output_type": "execute_result"
    }
   ],
   "source": [
    "%matplotlib widget\n",
    "import matplotlib.pyplot as plt\n",
    "import numpy as np\n",
    "\n",
    "x = np.arange(-2, 12, 0.001)\n",
    "y = (20 - 2*x) * (14 - 2*x) *  x\n",
    "\n",
    "plt.style.use('seaborn')\n",
    "fig, ax = plt.subplots()\n",
    "ax.plot(x, y)\n",
    "plt.xlabel(\"$w$\")\n",
    "plt.ylabel(\"$V(w)$\")\n",
    "plt.xlim(-2, 12)\n",
    "plt.ylim(-200, 400)\n",
    "\n",
    "w = np.arange(0, 7, 0.001)\n",
    "V = (20 - 2*w) * (14 - 2*w) *  w\n",
    "ax.plot(w, V, 'r')\n",
    "\n",
    "Vmax = np.amax(V)\n",
    "Vmax_index = np.argmax(V)\n",
    "\n",
    "print(f\"The maximum volume is {Vmax} cubic cm\")\n",
    "print(f\"The maximum volume can be chosen when w is {w[Vmax_index]} cm\")\n",
    "\n",
    "ax.axvline(x=w[Vmax_index], color='y', linestyle='--')\n",
    "ax.axhline(y=Vmax, color='y', linestyle='--')\n",
    "\n",
    "ax.scatter(w[Vmax_index], Vmax, color='cyan')"
   ]
  },
  {
   "cell_type": "code",
   "execution_count": null,
   "id": "3ffbeecc-cb42-44eb-8b52-3c9938a8aec5",
   "metadata": {},
   "outputs": [],
   "source": []
  }
 ],
 "metadata": {
  "kernelspec": {
   "display_name": "Python 3 (ipykernel)",
   "language": "python",
   "name": "python3"
  },
  "language_info": {
   "codemirror_mode": {
    "name": "ipython",
    "version": 3
   },
   "file_extension": ".py",
   "mimetype": "text/x-python",
   "name": "python",
   "nbconvert_exporter": "python",
   "pygments_lexer": "ipython3",
   "version": "3.9.6"
  }
 },
 "nbformat": 4,
 "nbformat_minor": 5
}
