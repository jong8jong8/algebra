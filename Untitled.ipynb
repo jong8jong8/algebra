{
 "cells": [
  {
   "cell_type": "code",
   "execution_count": 31,
   "id": "a9dcd0ec-95d8-409e-8535-60f1005db65e",
   "metadata": {},
   "outputs": [
    {
     "data": {
      "application/vnd.jupyter.widget-view+json": {
       "model_id": "192c550060fb4a2cb29ec295d548bde0",
       "version_major": 2,
       "version_minor": 0
      },
      "text/plain": [
       "Canvas(toolbar=Toolbar(toolitems=[('Home', 'Reset original view', 'home', 'home'), ('Back', 'Back to previous …"
      ]
     },
     "metadata": {},
     "output_type": "display_data"
    },
    {
     "data": {
      "text/plain": [
       "(-17.0, 17.0)"
      ]
     },
     "execution_count": 31,
     "metadata": {},
     "output_type": "execute_result"
    }
   ],
   "source": [
    "%matplotlib widget\n",
    "import matplotlib.pyplot as plt\n",
    "import numpy as np\n",
    "\n",
    "x = np.arange(-10, 10, 0.0001)\n",
    "y1 = np.sqrt(64*(x**2/36 + 1))\n",
    "y2 = -np.sqrt(64*(x**2/36 + 1))\n",
    "y3 = 6/8*x\n",
    "y4 = -6/8*x\n",
    "fig, ax = plt.subplots()\n",
    "ax.plot(x, y1, 'C0')\n",
    "ax.plot(x, y2, 'C0')\n",
    "ax.plot(x, y3, 'r--')\n",
    "ax.scatter(0, -8, color='r')\n",
    "ax.scatter(0, 8, color='r')\n",
    "ax.scatter(-6, 0, color='g')\n",
    "ax.scatter(6, 0, color='g')\n",
    "ax.scatter(0, -10, color='b')\n",
    "ax.scatter(0, 10, color='b')\n",
    "\n",
    "ax.set_aspect('equal', 'box')\n",
    "\n",
    "plt.grid(which='major', color='#666666', linestyle='-')\n",
    "plt.minorticks_on()\n",
    "plt.grid(which='minor', color='#999999', linestyle='-', alpha=0.2)\n",
    "\n",
    "plt.xlim(-10, 10)\n",
    "plt.ylim(-17, 17)"
   ]
  },
  {
   "cell_type": "code",
   "execution_count": null,
   "id": "89231f8c-a44a-403d-9c83-8fa6ad550b4b",
   "metadata": {},
   "outputs": [],
   "source": []
  }
 ],
 "metadata": {
  "kernelspec": {
   "display_name": "Python 3 (ipykernel)",
   "language": "python",
   "name": "python3"
  },
  "language_info": {
   "codemirror_mode": {
    "name": "ipython",
    "version": 3
   },
   "file_extension": ".py",
   "mimetype": "text/x-python",
   "name": "python",
   "nbconvert_exporter": "python",
   "pygments_lexer": "ipython3",
   "version": "3.9.6"
  },
  "widgets": {
   "application/vnd.jupyter.widget-state+json": {
    "state": {},
    "version_major": 2,
    "version_minor": 0
   }
  }
 },
 "nbformat": 4,
 "nbformat_minor": 5
}
