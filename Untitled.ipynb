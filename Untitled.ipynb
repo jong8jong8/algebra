{
 "cells": [
  {
   "cell_type": "code",
   "execution_count": 59,
   "id": "aee75eed-adf9-4ae9-a01f-3d5f8d1cc398",
   "metadata": {},
   "outputs": [],
   "source": [
    "from sympy import symbols, Eq, solveset, S"
   ]
  },
  {
   "cell_type": "code",
   "execution_count": 54,
   "id": "10f3c574-dcf1-4f8e-ada6-15a574381507",
   "metadata": {},
   "outputs": [],
   "source": [
    "x = symbols('x')"
   ]
  },
  {
   "cell_type": "code",
   "execution_count": 55,
   "id": "62c3de54-2535-4c32-b677-f5abb182e10e",
   "metadata": {},
   "outputs": [
    {
     "data": {
      "text/latex": [
       "$\\displaystyle 42 = 1.2 \\cdot 5^{x} + 2.8$"
      ],
      "text/plain": [
       "Eq(42, 1.2*5**x + 2.8)"
      ]
     },
     "execution_count": 55,
     "metadata": {},
     "output_type": "execute_result"
    }
   ],
   "source": [
    "expr = Eq(42, 1.2*5**x + 2.8)\n",
    "expr"
   ]
  },
  {
   "cell_type": "code",
   "execution_count": 65,
   "id": "2de0d923-1a02-4db0-bd4b-7238777c2648",
   "metadata": {},
   "outputs": [
    {
     "data": {
      "text/latex": [
       "$\\displaystyle 2.16619427383174$"
      ],
      "text/plain": [
       "2.16619427383174"
      ]
     },
     "execution_count": 65,
     "metadata": {},
     "output_type": "execute_result"
    }
   ],
   "source": [
    "x_approx = solveset(expr, x, domain=S.Reals).evalf()\n",
    "x_approx = list(x_approx)[0]\n",
    "x_approx"
   ]
  },
  {
   "cell_type": "code",
   "execution_count": null,
   "id": "0c72d956-5297-4337-a588-f7a6aeb7f628",
   "metadata": {},
   "outputs": [],
   "source": []
  }
 ],
 "metadata": {
  "kernelspec": {
   "display_name": "Python 3 (ipykernel)",
   "language": "python",
   "name": "python3"
  },
  "language_info": {
   "codemirror_mode": {
    "name": "ipython",
    "version": 3
   },
   "file_extension": ".py",
   "mimetype": "text/x-python",
   "name": "python",
   "nbconvert_exporter": "python",
   "pygments_lexer": "ipython3",
   "version": "3.9.6"
  }
 },
 "nbformat": 4,
 "nbformat_minor": 5
}
