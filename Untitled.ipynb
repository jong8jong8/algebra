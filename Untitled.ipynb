{
 "cells": [
  {
   "cell_type": "code",
   "execution_count": 18,
   "id": "f4b49b42-6059-4c5b-a703-d19275b8e8fe",
   "metadata": {},
   "outputs": [
    {
     "data": {
      "application/vnd.jupyter.widget-view+json": {
       "model_id": "b3ca0dc83b114b0f8148153d89e812fd",
       "version_major": 2,
       "version_minor": 0
      },
      "text/plain": [
       "Canvas(toolbar=Toolbar(toolitems=[('Home', 'Reset original view', 'home', 'home'), ('Back', 'Back to previous …"
      ]
     },
     "metadata": {},
     "output_type": "display_data"
    },
    {
     "name": "stdout",
     "output_type": "stream",
     "text": [
      "local maximum at (-2.4500000000000757, -1.6329931972789116)\n",
      "loacl minimum at (2.4499999999999997, 1.6329931972789116)\n"
     ]
    }
   ],
   "source": [
    "# Example 8\n",
    "\n",
    "%matplotlib widget\n",
    "import matplotlib.pyplot as plt\n",
    "import numpy as np\n",
    "\n",
    "x1 = np.arange(-6, 0.01, 0.01)\n",
    "y1 = 2/x1 + x1/3\n",
    "\n",
    "idx1 = np.argmax(y1)\n",
    "x1_local_max = x1[idx1]\n",
    "y1_local_max = np.max(y1)\n",
    "\n",
    "\n",
    "x2 = np.arange(0.01, 6, 0.01)\n",
    "y2 = 2/x2 + x2/3\n",
    "\n",
    "idx2 = np.argmin(y2)\n",
    "x2_local_min = x2[idx2]\n",
    "y2_local_min = np.min(y2)\n",
    "\n",
    "plt.style.use('seaborn')\n",
    "fig, ax = plt.subplots()\n",
    "ax.plot(x1, y1, 'b', x2, y2, 'b')\n",
    "plt.xlim(-6,6)\n",
    "plt.ylim(-10,10)\n",
    "\n",
    "print(f\"local maximum at ({x1_local_max}, {y1_local_max})\")\n",
    "print(f\"loacl minimum at ({x2_local_min}, {y2_local_min})\")\n"
   ]
  },
  {
   "cell_type": "code",
   "execution_count": null,
   "id": "c2470a82-5c3c-49ad-9f27-ffb54a92f807",
   "metadata": {},
   "outputs": [],
   "source": []
  }
 ],
 "metadata": {
  "kernelspec": {
   "display_name": "Python 3 (ipykernel)",
   "language": "python",
   "name": "python3"
  },
  "language_info": {
   "codemirror_mode": {
    "name": "ipython",
    "version": 3
   },
   "file_extension": ".py",
   "mimetype": "text/x-python",
   "name": "python",
   "nbconvert_exporter": "python",
   "pygments_lexer": "ipython3",
   "version": "3.9.6"
  }
 },
 "nbformat": 4,
 "nbformat_minor": 5
}
