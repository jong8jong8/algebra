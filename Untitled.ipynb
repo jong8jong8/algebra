{
 "cells": [
  {
   "cell_type": "code",
   "execution_count": 9,
   "id": "ce2d76c2-4d14-4888-8ca4-d196819566c4",
   "metadata": {},
   "outputs": [
    {
     "data": {
      "application/vnd.jupyter.widget-view+json": {
       "model_id": "b7d79b1fbe8544d6954f82702d500bac",
       "version_major": 2,
       "version_minor": 0
      },
      "text/plain": [
       "Canvas(toolbar=Toolbar(toolitems=[('Home', 'Reset original view', 'home', 'home'), ('Back', 'Back to previous …"
      ]
     },
     "metadata": {},
     "output_type": "display_data"
    }
   ],
   "source": [
    "%matplotlib widget\n",
    "import matplotlib.pyplot as plt\n",
    "import numpy as np\n",
    "\n",
    "theta_list = np.arange(0, 2*np.pi, 0.001)\n",
    "r_list = theta_list\n",
    "\n",
    "theta_sample = np.array([0, np.pi/4, np.pi/2, np.pi, 5*np.pi/4, 7*np.pi/4, 2*np.pi])\n",
    "r_sample = theta_sample\n",
    "\n",
    "def polar_resetting(rr, tt):\n",
    "    for i in range(0, len(rr)):\n",
    "        r = rr[i]\n",
    "        theta = tt[i]\n",
    "        if r < 0:\n",
    "            rr[i] *= -1\n",
    "            if theta >= 0:\n",
    "                tt[i] += np.pi\n",
    "            else:\n",
    "                tt[i] -= np.pi\n",
    "\n",
    "polar_resetting(r_list, theta_list)\n",
    "polar_resetting(r_sample, theta_sample)\n",
    "\n",
    "fig, ax = plt.subplots(subplot_kw={'projection': 'polar'})\n",
    "ax.plot(theta_list, r_list)\n",
    "ax.scatter(theta_sample, r_sample, color='k')\n",
    "ax.set_rmin(0)\n",
    "ax.set_rmax(7)\n",
    "ax.set_rticks(range(0, 8))\n",
    "ax.set_rlabel_position(-22.5)\n",
    "ax.grid(True)"
   ]
  },
  {
   "cell_type": "code",
   "execution_count": null,
   "id": "568d981c-5611-4417-b193-c1858dbca62b",
   "metadata": {},
   "outputs": [],
   "source": []
  }
 ],
 "metadata": {
  "kernelspec": {
   "display_name": "Python 3 (ipykernel)",
   "language": "python",
   "name": "python3"
  },
  "language_info": {
   "codemirror_mode": {
    "name": "ipython",
    "version": 3
   },
   "file_extension": ".py",
   "mimetype": "text/x-python",
   "name": "python",
   "nbconvert_exporter": "python",
   "pygments_lexer": "ipython3",
   "version": "3.9.6"
  },
  "widgets": {
   "application/vnd.jupyter.widget-state+json": {
    "state": {},
    "version_major": 2,
    "version_minor": 0
   }
  }
 },
 "nbformat": 4,
 "nbformat_minor": 5
}
