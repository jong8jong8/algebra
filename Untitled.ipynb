{
 "cells": [
  {
   "cell_type": "code",
   "execution_count": 31,
   "id": "e00df8ba-5b76-45c8-b1de-40b285629076",
   "metadata": {},
   "outputs": [
    {
     "data": {
      "application/vnd.jupyter.widget-view+json": {
       "model_id": "0d635b1363c942ceacb7780710e356b8",
       "version_major": 2,
       "version_minor": 0
      },
      "text/plain": [
       "Canvas(toolbar=Toolbar(toolitems=[('Home', 'Reset original view', 'home', 'home'), ('Back', 'Back to previous …"
      ]
     },
     "metadata": {},
     "output_type": "display_data"
    },
    {
     "data": {
      "text/plain": [
       "(-3.0, 3.0)"
      ]
     },
     "execution_count": 31,
     "metadata": {},
     "output_type": "execute_result"
    }
   ],
   "source": [
    "%matplotlib widget\n",
    "import matplotlib.pyplot as plt\n",
    "import numpy as np\n",
    "\n",
    "\n",
    "pi = np.pi\n",
    "\n",
    "x1 = np.arange(0, 2*pi, 0.01)\n",
    "y1 = np.sin(x1)\n",
    "\n",
    "x2 = np.arange(pi/4, 2*pi + pi/4, 0.01)\n",
    "y2 = np.sin(x2 - pi/4)\n",
    "\n",
    "x3 = np.arange(pi, 2*pi + pi, 0.01)\n",
    "y3 = np.sin(x3 - pi)\n",
    "\n",
    "\n",
    "fig, ax = plt.subplots()\n",
    "ax.plot(x1, y1)\n",
    "ax.plot(x2, y2, 'r')\n",
    "ax.plot(x3, y3, 'g')\n",
    "\n",
    "ax.grid()\n",
    "#ax.set_aspect('equal', 'box')a\n",
    "ax.legend(labels=('$y = \\sin(x)$', '$y = \\sin(x - \\pi/4)$', '$y = \\sin(x - \\pi)$'), loc='upper left')\n",
    "plt.xlim(0, 3*pi)\n",
    "plt.ylim(-3, 3)"
   ]
  },
  {
   "cell_type": "code",
   "execution_count": null,
   "id": "5d478062-9eb9-4101-a50a-767fb1dfea9c",
   "metadata": {},
   "outputs": [],
   "source": []
  }
 ],
 "metadata": {
  "kernelspec": {
   "display_name": "Python 3 (ipykernel)",
   "language": "python",
   "name": "python3"
  },
  "language_info": {
   "codemirror_mode": {
    "name": "ipython",
    "version": 3
   },
   "file_extension": ".py",
   "mimetype": "text/x-python",
   "name": "python",
   "nbconvert_exporter": "python",
   "pygments_lexer": "ipython3",
   "version": "3.9.6"
  },
  "widgets": {
   "application/vnd.jupyter.widget-state+json": {
    "state": {},
    "version_major": 2,
    "version_minor": 0
   }
  }
 },
 "nbformat": 4,
 "nbformat_minor": 5
}
