{
 "cells": [
  {
   "cell_type": "code",
   "execution_count": 11,
   "id": "568d981c-5611-4417-b193-c1858dbca62b",
   "metadata": {},
   "outputs": [],
   "source": [
    "from sympy import symbols, sqrt, cos, sin, powsimp"
   ]
  },
  {
   "cell_type": "code",
   "execution_count": 8,
   "id": "abc07528-02f7-4aba-a907-3b6c6f9697ef",
   "metadata": {},
   "outputs": [],
   "source": [
    "i = sqrt(-1)\n",
    "r, theta, z = symbols('r, theta, z')\n",
    "n = symbols('n')"
   ]
  },
  {
   "cell_type": "code",
   "execution_count": 9,
   "id": "745e9fab-d5ad-4e44-849a-360a3d0c2d88",
   "metadata": {},
   "outputs": [],
   "source": [
    "z = r*(cos(theta) + i*sin(theta))"
   ]
  },
  {
   "cell_type": "code",
   "execution_count": 10,
   "id": "08df225a-ddcb-4248-9130-d0737035bbb5",
   "metadata": {},
   "outputs": [
    {
     "data": {
      "text/latex": [
       "$\\displaystyle \\left(r \\left(i \\sin{\\left(\\theta \\right)} + \\cos{\\left(\\theta \\right)}\\right)\\right)^{n}$"
      ],
      "text/plain": [
       "(r*(I*sin(theta) + cos(theta)))**n"
      ]
     },
     "execution_count": 10,
     "metadata": {},
     "output_type": "execute_result"
    }
   ],
   "source": [
    "z**n"
   ]
  },
  {
   "cell_type": "code",
   "execution_count": 12,
   "id": "8cb0a26e-e026-4aaa-a0f6-295cd3b52926",
   "metadata": {},
   "outputs": [
    {
     "data": {
      "text/latex": [
       "$\\displaystyle \\left(r \\left(i \\sin{\\left(\\theta \\right)} + \\cos{\\left(\\theta \\right)}\\right)\\right)^{n}$"
      ],
      "text/plain": [
       "(r*(I*sin(theta) + cos(theta)))**n"
      ]
     },
     "execution_count": 12,
     "metadata": {},
     "output_type": "execute_result"
    }
   ],
   "source": [
    "powsimp(z**n)"
   ]
  },
  {
   "cell_type": "code",
   "execution_count": null,
   "id": "dd63a007-21e3-411b-af63-45b85868b4b3",
   "metadata": {},
   "outputs": [],
   "source": []
  }
 ],
 "metadata": {
  "kernelspec": {
   "display_name": "Python 3 (ipykernel)",
   "language": "python",
   "name": "python3"
  },
  "language_info": {
   "codemirror_mode": {
    "name": "ipython",
    "version": 3
   },
   "file_extension": ".py",
   "mimetype": "text/x-python",
   "name": "python",
   "nbconvert_exporter": "python",
   "pygments_lexer": "ipython3",
   "version": "3.9.6"
  },
  "widgets": {
   "application/vnd.jupyter.widget-state+json": {
    "state": {},
    "version_major": 2,
    "version_minor": 0
   }
  }
 },
 "nbformat": 4,
 "nbformat_minor": 5
}
