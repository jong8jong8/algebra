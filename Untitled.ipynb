{
 "cells": [
  {
   "cell_type": "code",
   "execution_count": 1,
   "id": "58b967cf-4a1b-43fb-b216-6caf4cab6fd2",
   "metadata": {},
   "outputs": [],
   "source": [
    "from sympy import symbols, powsimp"
   ]
  },
  {
   "cell_type": "code",
   "execution_count": 2,
   "id": "5145db56-48de-4b04-b198-ecd88e9027ad",
   "metadata": {},
   "outputs": [],
   "source": [
    "a, b, m, n = symbols('a, b, m, n')"
   ]
  },
  {
   "cell_type": "code",
   "execution_count": 3,
   "id": "e08b5b8e-3b4f-4786-8af1-261a3f6b3683",
   "metadata": {},
   "outputs": [],
   "source": [
    "expr = a**m * a**n"
   ]
  },
  {
   "cell_type": "code",
   "execution_count": 4,
   "id": "298c8d05-6034-4882-be89-0ccead0107c5",
   "metadata": {},
   "outputs": [
    {
     "data": {
      "text/latex": [
       "$\\displaystyle a^{m} a^{n}$"
      ],
      "text/plain": [
       "a**m*a**n"
      ]
     },
     "execution_count": 4,
     "metadata": {},
     "output_type": "execute_result"
    }
   ],
   "source": [
    "expr"
   ]
  },
  {
   "cell_type": "code",
   "execution_count": 5,
   "id": "8d271f3a-6797-462b-9a2d-af3bc3751bfb",
   "metadata": {},
   "outputs": [
    {
     "data": {
      "text/latex": [
       "$\\displaystyle a^{m + n}$"
      ],
      "text/plain": [
       "a**(m + n)"
      ]
     },
     "execution_count": 5,
     "metadata": {},
     "output_type": "execute_result"
    }
   ],
   "source": [
    "powsimp(expr)"
   ]
  },
  {
   "cell_type": "code",
   "execution_count": 6,
   "id": "dbd88ddb-8326-45e9-9bae-7eb82dc2fbc1",
   "metadata": {},
   "outputs": [],
   "source": [
    "%matplotlib widget\n",
    "import matplotlib.pyplot as plt"
   ]
  },
  {
   "cell_type": "code",
   "execution_count": 13,
   "id": "aad84dc1-c054-487b-a4f2-7423292269cc",
   "metadata": {},
   "outputs": [],
   "source": [
    "x = [-2, 3, 0]\n",
    "y = [4, 3, -3]"
   ]
  },
  {
   "cell_type": "code",
   "execution_count": 18,
   "id": "f5603e82-6a92-4d5a-a6b1-5eaeccd26571",
   "metadata": {},
   "outputs": [
    {
     "data": {
      "application/vnd.jupyter.widget-view+json": {
       "model_id": "a665b070418c4afdba7f2c3b84a02dac",
       "version_major": 2,
       "version_minor": 0
      },
      "text/plain": [
       "Canvas(toolbar=Toolbar(toolitems=[('Home', 'Reset original view', 'home', 'home'), ('Back', 'Back to previous …"
      ]
     },
     "metadata": {},
     "output_type": "display_data"
    },
    {
     "data": {
      "text/plain": [
       "Text(0.5, 1.0, 'Example 1. Figure 5')"
      ]
     },
     "execution_count": 18,
     "metadata": {},
     "output_type": "execute_result"
    }
   ],
   "source": [
    "plt.style.use('seaborn')\n",
    "fig, ax = plt.subplots()\n",
    "ax.scatter(x, y, s=50)\n",
    "plt.xlim([-6, 6])\n",
    "plt.ylim([-6, 6])\n",
    "plt.title(\"Example 1. Figure 5\")"
   ]
  },
  {
   "cell_type": "code",
   "execution_count": null,
   "id": "e88b1912-37bd-4008-86c7-6051d4b4ef84",
   "metadata": {},
   "outputs": [],
   "source": []
  }
 ],
 "metadata": {
  "kernelspec": {
   "display_name": "Python 3",
   "language": "python",
   "name": "python3"
  },
  "language_info": {
   "codemirror_mode": {
    "name": "ipython",
    "version": 3
   },
   "file_extension": ".py",
   "mimetype": "text/x-python",
   "name": "python",
   "nbconvert_exporter": "python",
   "pygments_lexer": "ipython3",
   "version": "3.8.5"
  }
 },
 "nbformat": 4,
 "nbformat_minor": 5
}
