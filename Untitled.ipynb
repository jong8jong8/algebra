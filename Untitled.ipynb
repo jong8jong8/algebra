{
 "cells": [
  {
   "cell_type": "code",
   "execution_count": 16,
   "id": "fdc274bd-dd5b-4b58-8767-918a95895004",
   "metadata": {},
   "outputs": [
    {
     "data": {
      "application/vnd.jupyter.widget-view+json": {
       "model_id": "13a8100d36644d72a5a459795d7971be",
       "version_major": 2,
       "version_minor": 0
      },
      "text/plain": [
       "Canvas(toolbar=Toolbar(toolitems=[('Home', 'Reset original view', 'home', 'home'), ('Back', 'Back to previous …"
      ]
     },
     "metadata": {},
     "output_type": "display_data"
    }
   ],
   "source": [
    "%matplotlib widget\n",
    "import matplotlib.pyplot as plt\n",
    "import numpy as np\n",
    "\n",
    "theta_list = np.arange(0, 2*np.pi, 0.01)\n",
    "r_list = 2*np.sin(theta_list)\n",
    "\n",
    "for i in range(0, len(theta_list)):\n",
    "    r = r_list[i]\n",
    "    theta = theta_list[i]\n",
    "    if r < 0:\n",
    "        r_list[i] *= -1\n",
    "        if theta >= 0:\n",
    "            theta_list[i] += np.pi\n",
    "        else:\n",
    "            theta_list[i] -= np.pi\n",
    "                \n",
    "fig, ax = plt.subplots(subplot_kw={'projection': 'polar'})\n",
    "ax.plot(theta_list, r_list)\n",
    "ax.set_rmin(0)\n",
    "ax.set_rmax(4)\n",
    "ax.set_rticks(range(0, 5))\n",
    "ax.set_rlabel_position(-22.5)\n",
    "ax.grid(True)"
   ]
  },
  {
   "cell_type": "code",
   "execution_count": null,
   "id": "f160e765-78e1-4696-99b0-48bb50151d9f",
   "metadata": {},
   "outputs": [],
   "source": []
  }
 ],
 "metadata": {
  "kernelspec": {
   "display_name": "Python 3 (ipykernel)",
   "language": "python",
   "name": "python3"
  },
  "language_info": {
   "codemirror_mode": {
    "name": "ipython",
    "version": 3
   },
   "file_extension": ".py",
   "mimetype": "text/x-python",
   "name": "python",
   "nbconvert_exporter": "python",
   "pygments_lexer": "ipython3",
   "version": "3.9.6"
  },
  "widgets": {
   "application/vnd.jupyter.widget-state+json": {
    "state": {},
    "version_major": 2,
    "version_minor": 0
   }
  }
 },
 "nbformat": 4,
 "nbformat_minor": 5
}
