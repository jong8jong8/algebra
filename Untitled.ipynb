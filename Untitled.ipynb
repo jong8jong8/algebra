{
 "cells": [
  {
   "cell_type": "code",
   "execution_count": 57,
   "id": "87eff80f-e2a5-41fc-a454-46d39ef7c688",
   "metadata": {},
   "outputs": [
    {
     "data": {
      "application/vnd.jupyter.widget-view+json": {
       "model_id": "7f3feca7987c44cb9f800ddc74533f2f",
       "version_major": 2,
       "version_minor": 0
      },
      "text/plain": [
       "Canvas(toolbar=Toolbar(toolitems=[('Home', 'Reset original view', 'home', 'home'), ('Back', 'Back to previous …"
      ]
     },
     "metadata": {},
     "output_type": "display_data"
    },
    {
     "data": {
      "text/plain": [
       "(-6.0, 6.0)"
      ]
     },
     "execution_count": 57,
     "metadata": {},
     "output_type": "execute_result"
    }
   ],
   "source": [
    "%matplotlib widget\n",
    "import matplotlib.pyplot as plt\n",
    "import numpy as np\n",
    "\n",
    "x = np.arange(0.01, 10, 0.01)\n",
    "parent = np.log(x)/np.log(4) # equivalent to log4(x)\n",
    "f = 2*(np.log(x)/np.log(4))\n",
    "\n",
    "fig, ax = plt.subplots()\n",
    "\n",
    "ax.plot(x, parent)\n",
    "ax.plot(x, f, 'r')\n",
    "ax.axvline(x = 0, color='g', linestyle='--')\n",
    "\n",
    "ax.scatter(1/4, -1, s=20, color='k')\n",
    "ax.scatter(1, 0, s=20, color='k')\n",
    "ax.scatter(4, 1, s=20, color='k')\n",
    "\n",
    "ax.scatter(1/4, -1*2, s=20, color='k')\n",
    "ax.scatter(1, 0*2, s=20, color='k')\n",
    "ax.scatter(4, 1*2, s=20, color='k')\n",
    "\n",
    "ax.set_aspect('equal', 'box')\n",
    "plt.grid(which='major', color='#666666', linestyle='-')\n",
    "plt.minorticks_on()\n",
    "plt.grid(which='minor', color='#999999', linestyle='-', alpha=0.2)\n",
    "plt.xlim(-2, 10)\n",
    "plt.ylim(-6, 6)"
   ]
  },
  {
   "cell_type": "code",
   "execution_count": null,
   "id": "9de782a1-24b3-40fa-8469-8c4268e53827",
   "metadata": {},
   "outputs": [],
   "source": []
  }
 ],
 "metadata": {
  "kernelspec": {
   "display_name": "Python 3 (ipykernel)",
   "language": "python",
   "name": "python3"
  },
  "language_info": {
   "codemirror_mode": {
    "name": "ipython",
    "version": 3
   },
   "file_extension": ".py",
   "mimetype": "text/x-python",
   "name": "python",
   "nbconvert_exporter": "python",
   "pygments_lexer": "ipython3",
   "version": "3.9.6"
  }
 },
 "nbformat": 4,
 "nbformat_minor": 5
}
