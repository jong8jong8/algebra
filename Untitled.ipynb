{
 "cells": [
  {
   "cell_type": "code",
   "execution_count": 85,
   "id": "87eff80f-e2a5-41fc-a454-46d39ef7c688",
   "metadata": {},
   "outputs": [
    {
     "data": {
      "application/vnd.jupyter.widget-view+json": {
       "model_id": "fb820e9d52df4286aedd59a1687e7883",
       "version_major": 2,
       "version_minor": 0
      },
      "text/plain": [
       "Canvas(toolbar=Toolbar(toolitems=[('Home', 'Reset original view', 'home', 'home'), ('Back', 'Back to previous …"
      ]
     },
     "metadata": {},
     "output_type": "display_data"
    },
    {
     "data": {
      "text/plain": [
       "(-7.0, 7.0)"
      ]
     },
     "execution_count": 85,
     "metadata": {},
     "output_type": "execute_result"
    }
   ],
   "source": [
    "%matplotlib widget\n",
    "import matplotlib.pyplot as plt\n",
    "import numpy as np\n",
    "\n",
    "x1 = np.arange(0.01, 7, 0.001)\n",
    "f1 = 4*(np.log(x1)) + 1\n",
    "\n",
    "x2 = np.arange(1 + 0.01, 7, 0.001)\n",
    "f2 = (-2)*(np.log(x2 - 1))\n",
    "\n",
    "fig, ax = plt.subplots()\n",
    "\n",
    "ax.plot(x1, f1)\n",
    "ax.plot(x2, f2, 'r')\n",
    "\n",
    "ax.axvline(x = 0, color='g', linestyle='--')\n",
    "ax.axvline(x = 1, color='g', linestyle='--')\n",
    "\n",
    "ax.scatter(1.338529955, 2.166287569, s=20, color='k') # graphical solution\n",
    "\n",
    "#ax.set_aspect('equal', 'box')\n",
    "plt.grid(which='major', color='#666666', linestyle='-')\n",
    "plt.minorticks_on()\n",
    "plt.grid(which='minor', color='#999999', linestyle='-', alpha=0.2)\n",
    "plt.xlim(-1, 7)\n",
    "plt.ylim(-7, 7)"
   ]
  },
  {
   "cell_type": "code",
   "execution_count": null,
   "id": "9de782a1-24b3-40fa-8469-8c4268e53827",
   "metadata": {},
   "outputs": [],
   "source": []
  }
 ],
 "metadata": {
  "kernelspec": {
   "display_name": "Python 3 (ipykernel)",
   "language": "python",
   "name": "python3"
  },
  "language_info": {
   "codemirror_mode": {
    "name": "ipython",
    "version": 3
   },
   "file_extension": ".py",
   "mimetype": "text/x-python",
   "name": "python",
   "nbconvert_exporter": "python",
   "pygments_lexer": "ipython3",
   "version": "3.9.6"
  }
 },
 "nbformat": 4,
 "nbformat_minor": 5
}
