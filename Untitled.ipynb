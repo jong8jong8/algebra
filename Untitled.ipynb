{
 "cells": [
  {
   "cell_type": "code",
   "execution_count": 1,
   "id": "175cfafc-0042-4b92-b86c-d04b2595f212",
   "metadata": {},
   "outputs": [],
   "source": [
    "from sympy import symbols, Eq, linsolve"
   ]
  },
  {
   "cell_type": "code",
   "execution_count": 2,
   "id": "14295d0a-0c27-4262-b86f-6f72b17e5036",
   "metadata": {},
   "outputs": [],
   "source": [
    "x, y, z = symbols('x, y, z') "
   ]
  },
  {
   "cell_type": "code",
   "execution_count": 5,
   "id": "2019e55a-b01e-4ea7-8191-034311a8b11d",
   "metadata": {},
   "outputs": [],
   "source": [
    "eq1 = Eq(x - 2*y + 3*z, 9)\n",
    "eq2 = Eq(-x + 3*y - z, -6)\n",
    "eq3 = Eq(2*x - 5*y + 5*z, 17)"
   ]
  },
  {
   "cell_type": "code",
   "execution_count": 6,
   "id": "a5c8148b-ef58-406e-b26d-2ec66f5a200b",
   "metadata": {},
   "outputs": [
    {
     "data": {
      "text/latex": [
       "$\\displaystyle \\left\\{\\left( 1, \\  -1, \\  2\\right)\\right\\}$"
      ],
      "text/plain": [
       "FiniteSet((1, -1, 2))"
      ]
     },
     "execution_count": 6,
     "metadata": {},
     "output_type": "execute_result"
    }
   ],
   "source": [
    "linsolve([eq1, eq2, eq3], (x, y, z))"
   ]
  },
  {
   "cell_type": "code",
   "execution_count": null,
   "id": "2e197913-2c86-4f83-8377-d42702fb3606",
   "metadata": {},
   "outputs": [],
   "source": []
  }
 ],
 "metadata": {
  "kernelspec": {
   "display_name": "Python 3 (ipykernel)",
   "language": "python",
   "name": "python3"
  },
  "language_info": {
   "codemirror_mode": {
    "name": "ipython",
    "version": 3
   },
   "file_extension": ".py",
   "mimetype": "text/x-python",
   "name": "python",
   "nbconvert_exporter": "python",
   "pygments_lexer": "ipython3",
   "version": "3.9.6"
  },
  "widgets": {
   "application/vnd.jupyter.widget-state+json": {
    "state": {},
    "version_major": 2,
    "version_minor": 0
   }
  }
 },
 "nbformat": 4,
 "nbformat_minor": 5
}
