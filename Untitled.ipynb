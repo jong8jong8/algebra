{
 "cells": [
  {
   "cell_type": "code",
   "execution_count": 23,
   "id": "a9dcd0ec-95d8-409e-8535-60f1005db65e",
   "metadata": {},
   "outputs": [
    {
     "data": {
      "application/vnd.jupyter.widget-view+json": {
       "model_id": "4a9a517c448f4bf1aee76cdc0828d194",
       "version_major": 2,
       "version_minor": 0
      },
      "text/plain": [
       "Canvas(toolbar=Toolbar(toolitems=[('Home', 'Reset original view', 'home', 'home'), ('Back', 'Back to previous …"
      ]
     },
     "metadata": {},
     "output_type": "display_data"
    },
    {
     "data": {
      "text/plain": [
       "(1.0, 10.0)"
      ]
     },
     "execution_count": 23,
     "metadata": {},
     "output_type": "execute_result"
    }
   ],
   "source": [
    "%matplotlib widget\n",
    "import matplotlib.pyplot as plt\n",
    "import numpy as np\n",
    "\n",
    "x = np.arange(-4, 0, 0.0001)\n",
    "y1 = 5 + np.sqrt(9*(1 - (x + 2)**2/4))\n",
    "y2 = 5 - np.sqrt(9*(1 - (x + 2)**2/4))\n",
    "\n",
    "fig, ax = plt.subplots()\n",
    "ax.plot(x, y1, 'C0')\n",
    "ax.plot(x, y2, 'C0')\n",
    "ax.scatter(-2, 5, color='k')\n",
    "ax.scatter(-2, 2, color='r')\n",
    "ax.scatter(-2, 8, color='r')\n",
    "ax.scatter(-4, 5, color='g')\n",
    "ax.scatter(0, 5, color='g')\n",
    "ax.scatter(-2, 5 - np.sqrt(5), color='b')\n",
    "ax.scatter(-2, 5 + np.sqrt(5), color='b')\n",
    "ax.set_aspect('equal', 'box')\n",
    "\n",
    "plt.grid(which='major', color='#666666', linestyle='-')\n",
    "plt.minorticks_on()\n",
    "plt.grid(which='minor', color='#999999', linestyle='-', alpha=0.2)\n",
    "\n",
    "plt.xlim(-5, 1)\n",
    "plt.ylim(1, 10)"
   ]
  },
  {
   "cell_type": "code",
   "execution_count": null,
   "id": "89231f8c-a44a-403d-9c83-8fa6ad550b4b",
   "metadata": {},
   "outputs": [],
   "source": []
  }
 ],
 "metadata": {
  "kernelspec": {
   "display_name": "Python 3 (ipykernel)",
   "language": "python",
   "name": "python3"
  },
  "language_info": {
   "codemirror_mode": {
    "name": "ipython",
    "version": 3
   },
   "file_extension": ".py",
   "mimetype": "text/x-python",
   "name": "python",
   "nbconvert_exporter": "python",
   "pygments_lexer": "ipython3",
   "version": "3.9.6"
  },
  "widgets": {
   "application/vnd.jupyter.widget-state+json": {
    "state": {},
    "version_major": 2,
    "version_minor": 0
   }
  }
 },
 "nbformat": 4,
 "nbformat_minor": 5
}
