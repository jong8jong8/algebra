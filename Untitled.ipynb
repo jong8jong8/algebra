{
 "cells": [
  {
   "cell_type": "code",
   "execution_count": 62,
   "id": "6ad32f40-47f9-4f8e-940e-03db574af6c6",
   "metadata": {},
   "outputs": [],
   "source": [
    "from sympy import symbols, Eq, solveset"
   ]
  },
  {
   "cell_type": "code",
   "execution_count": 63,
   "id": "ac95d4d9-5e3a-4e2b-8ec5-38cf53bdae97",
   "metadata": {},
   "outputs": [],
   "source": [
    "x = symbols('x')"
   ]
  },
  {
   "cell_type": "code",
   "execution_count": 66,
   "id": "84fef4e0-3b71-4645-8e89-f6d9d937df74",
   "metadata": {},
   "outputs": [
    {
     "data": {
      "text/latex": [
       "$\\displaystyle 3 x^{4} - 2 x^{2} - 1 = 0$"
      ],
      "text/plain": [
       "Eq(3*x**4 - 2*x**2 - 1, 0)"
      ]
     },
     "execution_count": 66,
     "metadata": {},
     "output_type": "execute_result"
    }
   ],
   "source": [
    "eqn = Eq(3*x**4 - 2*x**2 - 1, 0)\n",
    "eqn"
   ]
  },
  {
   "cell_type": "code",
   "execution_count": 67,
   "id": "b1b46c4b-c7f2-4008-915a-05ae68b6b6cc",
   "metadata": {},
   "outputs": [
    {
     "data": {
      "text/latex": [
       "$\\displaystyle \\left\\{-1, 1, - \\frac{\\sqrt{3} i}{3}, \\frac{\\sqrt{3} i}{3}\\right\\}$"
      ],
      "text/plain": [
       "FiniteSet(-1, 1, -sqrt(3)*I/3, sqrt(3)*I/3)"
      ]
     },
     "execution_count": 67,
     "metadata": {},
     "output_type": "execute_result"
    }
   ],
   "source": [
    "solveset(eqn)"
   ]
  },
  {
   "cell_type": "code",
   "execution_count": null,
   "id": "78273220-8cd7-4540-90cc-341da2d1e9e2",
   "metadata": {},
   "outputs": [],
   "source": []
  }
 ],
 "metadata": {
  "kernelspec": {
   "display_name": "Python 3",
   "language": "python",
   "name": "python3"
  },
  "language_info": {
   "codemirror_mode": {
    "name": "ipython",
    "version": 3
   },
   "file_extension": ".py",
   "mimetype": "text/x-python",
   "name": "python",
   "nbconvert_exporter": "python",
   "pygments_lexer": "ipython3",
   "version": "3.8.5"
  }
 },
 "nbformat": 4,
 "nbformat_minor": 5
}
