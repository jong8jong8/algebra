{
 "cells": [
  {
   "cell_type": "code",
   "execution_count": 1,
   "id": "9518751f-13ff-48b9-a1ac-851ce97be54b",
   "metadata": {},
   "outputs": [],
   "source": [
    "from sympy import symbols, Function"
   ]
  },
  {
   "cell_type": "code",
   "execution_count": 2,
   "id": "f6c3b1f4-c293-4e07-a298-4664ec23ef0f",
   "metadata": {},
   "outputs": [],
   "source": [
    "x = symbols('x')\n",
    "f = Function('f')\n",
    "g = Function('g')\n",
    "\n",
    "def f(x):\n",
    "    return 2*x + 1\n",
    "\n",
    "def g(x):\n",
    "    return 3 - x"
   ]
  },
  {
   "cell_type": "code",
   "execution_count": 4,
   "id": "468f14d2-d914-4bbb-914d-aef7551ea2d0",
   "metadata": {},
   "outputs": [
    {
     "data": {
      "text/latex": [
       "$\\displaystyle 2 x + 1$"
      ],
      "text/plain": [
       "2*x + 1"
      ]
     },
     "execution_count": 4,
     "metadata": {},
     "output_type": "execute_result"
    }
   ],
   "source": [
    "f(x)"
   ]
  },
  {
   "cell_type": "code",
   "execution_count": 5,
   "id": "1ef3c6b1-f10c-42b2-9cdb-bf8c6f3203d2",
   "metadata": {},
   "outputs": [
    {
     "data": {
      "text/latex": [
       "$\\displaystyle 3 - x$"
      ],
      "text/plain": [
       "3 - x"
      ]
     },
     "execution_count": 5,
     "metadata": {},
     "output_type": "execute_result"
    }
   ],
   "source": [
    "g(x)"
   ]
  },
  {
   "cell_type": "code",
   "execution_count": 6,
   "id": "a43b9d41-f21f-4de3-bd9e-2c8bd3feebab",
   "metadata": {},
   "outputs": [
    {
     "data": {
      "text/latex": [
       "$\\displaystyle 7 - 2 x$"
      ],
      "text/plain": [
       "7 - 2*x"
      ]
     },
     "execution_count": 6,
     "metadata": {},
     "output_type": "execute_result"
    }
   ],
   "source": [
    "f(g(x))"
   ]
  },
  {
   "cell_type": "code",
   "execution_count": 7,
   "id": "b90a2761-a8fc-4218-9573-bcfd83c8d281",
   "metadata": {},
   "outputs": [
    {
     "data": {
      "text/latex": [
       "$\\displaystyle 2 - 2 x$"
      ],
      "text/plain": [
       "2 - 2*x"
      ]
     },
     "execution_count": 7,
     "metadata": {},
     "output_type": "execute_result"
    }
   ],
   "source": [
    "g(f(x))"
   ]
  },
  {
   "cell_type": "code",
   "execution_count": null,
   "id": "3dfbb339-44b4-4b71-b876-167cd64eb1bb",
   "metadata": {},
   "outputs": [],
   "source": []
  }
 ],
 "metadata": {
  "kernelspec": {
   "display_name": "Python 3 (ipykernel)",
   "language": "python",
   "name": "python3"
  },
  "language_info": {
   "codemirror_mode": {
    "name": "ipython",
    "version": 3
   },
   "file_extension": ".py",
   "mimetype": "text/x-python",
   "name": "python",
   "nbconvert_exporter": "python",
   "pygments_lexer": "ipython3",
   "version": "3.9.6"
  },
  "widgets": {
   "application/vnd.jupyter.widget-state+json": {
    "state": {},
    "version_major": 2,
    "version_minor": 0
   }
  }
 },
 "nbformat": 4,
 "nbformat_minor": 5
}
